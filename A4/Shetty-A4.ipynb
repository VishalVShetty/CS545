{
 "cells": [
  {
   "cell_type": "markdown",
   "metadata": {
    "toc": true
   },
   "source": [
    "<h1>Table of Contents<span class=\"tocSkip\"></span></h1>\n",
    "<div class=\"toc\"><ul class=\"toc-item\"><li><span><a href=\"#Convolutional-Neural-Networks\" data-toc-modified-id=\"Convolutional-Neural-Networks-1\">Convolutional Neural Networks</a></span><ul class=\"toc-item\"><li><span><a href=\"#Requirements\" data-toc-modified-id=\"Requirements-1.1\">Requirements</a></span></li></ul></li><li><span><a href=\"#Experiments\" data-toc-modified-id=\"Experiments-2\">Experiments</a></span></li><li><span><a href=\"#Grading\" data-toc-modified-id=\"Grading-3\">Grading</a></span></li><li><span><a href=\"#Extra-Credit\" data-toc-modified-id=\"Extra-Credit-4\">Extra Credit</a></span></li></ul></div>"
   ]
  },
  {
   "cell_type": "markdown",
   "metadata": {},
   "source": [
    "# Convolutional Neural Networks\n",
    "\n",
    "For this assignment, use the `NeuralNetworkClassifier_CNN` class defined for you in `neuralnetworks_A4.py` contained in [A4code.tar](https://www.cs.colostate.edu/~anderson/cs545/notebooks/A4code.tar).  This tar file also includes other functions you will use here, contained in `mlfuncs.py`."
   ]
  },
  {
   "cell_type": "code",
   "execution_count": 1,
   "metadata": {
    "ExecuteTime": {
     "end_time": "2021-10-15T23:41:20.815440Z",
     "start_time": "2021-10-15T23:41:20.802779Z"
    }
   },
   "outputs": [],
   "source": [
    "%load_ext autoreload\n",
    "%autoreload 2"
   ]
  },
  {
   "cell_type": "code",
   "execution_count": 2,
   "metadata": {
    "ExecuteTime": {
     "end_time": "2021-10-15T23:41:21.563150Z",
     "start_time": "2021-10-15T23:41:21.349591Z"
    }
   },
   "outputs": [],
   "source": [
    "import numpy as np\n",
    "import matplotlib.pyplot as plt\n",
    "import pandas as pd\n",
    "import itertools\n",
    "%matplotlib inline\n",
    "\n",
    "import neuralnetworks_A4 as nn\n",
    "import mlfuncs"
   ]
  },
  {
   "cell_type": "markdown",
   "metadata": {},
   "source": [
    "## Requirements"
   ]
  },
  {
   "cell_type": "markdown",
   "metadata": {},
   "source": [
    "First, look carefully at the `neuralnetworks_A4.py` and `optimizers.py` code provided above.  Some changes have been made in each. The most significant change is that the `train` function now accepts a `batch_size` argument so that the gradients we calculate don't have to be over the whole training set.  Recall that we can easily run out of memory with convolutional networks if we calculate gradients over the whole training set.  Also, `'scg'` is not a valid optimizer in this version of the code.\n",
    "\n",
    "Implement the following functions:\n",
    "\n",
    "    dataframe_result = run_these_parameters(X, T, n_folds,\n",
    "                                            layers_structs, \n",
    "                                            methods, \n",
    "                                            epochs, \n",
    "                                            learning_rates.\n",
    "                                            batch_sizes)\n",
    "                                              \n",
    "    result = train_this_partition(Xtrain, Ttrain, Xval, Tval, Xtest, Ttest,\n",
    "                                  struct,\n",
    "                                  n_epochs, \n",
    "                                  method, \n",
    "                                  learning_rate,\n",
    "                                  batch_size)\n",
    "                                  \n",
    "The file `mlfuncs.py` contains several functions you will need to define these two required functions.  They are illustrated in the following examples."
   ]
  },
  {
   "cell_type": "code",
   "execution_count": 3,
   "metadata": {
    "ExecuteTime": {
     "end_time": "2021-10-15T23:41:22.456416Z",
     "start_time": "2021-10-15T23:41:22.440139Z"
    }
   },
   "outputs": [
    {
     "data": {
      "text/plain": [
       "60.0"
      ]
     },
     "execution_count": 3,
     "metadata": {},
     "output_type": "execute_result"
    }
   ],
   "source": [
    "Y = np.array([0, 1, 1, 0, 0]).reshape(-1, 1)\n",
    "T = np.array([0, 1, 0, 1, 0]).reshape(-1, 1)\n",
    "mlfuncs.percent_equal(Y, T)"
   ]
  },
  {
   "cell_type": "markdown",
   "metadata": {},
   "source": [
    "The purpose of that one is obvious.  This next one is needed for storing your network stucture in a pandas DataFrame.  The structure must be an immutable data type.  A list is mutable, but a tuple is not.  So we must make sure all parts of the network structure specification is composed of tuples, not lists."
   ]
  },
  {
   "cell_type": "code",
   "execution_count": 4,
   "metadata": {
    "ExecuteTime": {
     "end_time": "2021-10-15T23:41:23.819633Z",
     "start_time": "2021-10-15T23:41:23.811752Z"
    }
   },
   "outputs": [
    {
     "data": {
      "text/plain": [
       "((), (10,))"
      ]
     },
     "execution_count": 4,
     "metadata": {},
     "output_type": "execute_result"
    }
   ],
   "source": [
    "struct = [ [], [10]]\n",
    "mlfuncs.list_to_tuple(struct)"
   ]
  },
  {
   "cell_type": "code",
   "execution_count": 5,
   "metadata": {
    "ExecuteTime": {
     "end_time": "2021-10-15T23:41:24.071779Z",
     "start_time": "2021-10-15T23:41:24.047492Z"
    }
   },
   "outputs": [
    {
     "data": {
      "text/plain": [
       "(((2, 4, 1), (5, 4, 2)), (20, 10))"
      ]
     },
     "execution_count": 5,
     "metadata": {},
     "output_type": "execute_result"
    }
   ],
   "source": [
    "struct = [ [[2, 4, 1], [5, 4, 2]], [20, 10]]\n",
    "mlfuncs.list_to_tuple(struct)"
   ]
  },
  {
   "cell_type": "markdown",
   "metadata": {},
   "source": [
    "And here is a function that generates all training, validation, and testing partitions given the data and the number of folds.  It creates the partitions in a stratified manner, meaning all folds will have close to the same proportion of samples from each class."
   ]
  },
  {
   "cell_type": "code",
   "execution_count": 6,
   "metadata": {
    "ExecuteTime": {
     "end_time": "2021-10-15T23:41:24.546767Z",
     "start_time": "2021-10-15T23:41:24.537570Z"
    }
   },
   "outputs": [
    {
     "data": {
      "text/plain": [
       "(array([[ 0,  1],\n",
       "        [ 2,  3],\n",
       "        [ 4,  5],\n",
       "        [ 6,  7],\n",
       "        [ 8,  9],\n",
       "        [10, 11]]),\n",
       " array([[0],\n",
       "        [0],\n",
       "        [1],\n",
       "        [0],\n",
       "        [1],\n",
       "        [1]]))"
      ]
     },
     "execution_count": 6,
     "metadata": {},
     "output_type": "execute_result"
    }
   ],
   "source": [
    "X = np.arange(12).reshape(6, 2)\n",
    "T = np.array([0, 0, 1, 0, 1, 1]).reshape(-1, 1)\n",
    "X, T"
   ]
  },
  {
   "cell_type": "code",
   "execution_count": 7,
   "metadata": {
    "ExecuteTime": {
     "end_time": "2021-10-15T23:41:25.607634Z",
     "start_time": "2021-10-15T23:41:25.592463Z"
    }
   },
   "outputs": [
    {
     "name": "stdout",
     "output_type": "stream",
     "text": [
      "[[0 1]\n",
      " [8 9]] \n",
      " [[0]\n",
      " [1]] \n",
      " [[6 7]\n",
      " [4 5]] \n",
      " [[0]\n",
      " [1]] \n",
      " [[ 2  3]\n",
      " [10 11]] \n",
      " [[0]\n",
      " [1]]\n",
      "\n",
      "[[6 7]\n",
      " [4 5]] \n",
      " [[0]\n",
      " [1]] \n",
      " [[0 1]\n",
      " [8 9]] \n",
      " [[0]\n",
      " [1]] \n",
      " [[ 2  3]\n",
      " [10 11]] \n",
      " [[0]\n",
      " [1]]\n",
      "\n",
      "[[0 1]\n",
      " [8 9]] \n",
      " [[0]\n",
      " [1]] \n",
      " [[ 2  3]\n",
      " [10 11]] \n",
      " [[0]\n",
      " [1]] \n",
      " [[6 7]\n",
      " [4 5]] \n",
      " [[0]\n",
      " [1]]\n",
      "\n",
      "[[ 2  3]\n",
      " [10 11]] \n",
      " [[0]\n",
      " [1]] \n",
      " [[0 1]\n",
      " [8 9]] \n",
      " [[0]\n",
      " [1]] \n",
      " [[6 7]\n",
      " [4 5]] \n",
      " [[0]\n",
      " [1]]\n",
      "\n",
      "[[6 7]\n",
      " [4 5]] \n",
      " [[0]\n",
      " [1]] \n",
      " [[ 2  3]\n",
      " [10 11]] \n",
      " [[0]\n",
      " [1]] \n",
      " [[0 1]\n",
      " [8 9]] \n",
      " [[0]\n",
      " [1]]\n",
      "\n",
      "[[ 2  3]\n",
      " [10 11]] \n",
      " [[0]\n",
      " [1]] \n",
      " [[6 7]\n",
      " [4 5]] \n",
      " [[0]\n",
      " [1]] \n",
      " [[0 1]\n",
      " [8 9]] \n",
      " [[0]\n",
      " [1]]\n",
      "\n"
     ]
    }
   ],
   "source": [
    "for Xtrain, Ttrain, Xval, Tval, Xtest, Ttest in mlfuncs.generate_partitions(X, T, n_folds=3, classification=True):\n",
    "        print(Xtrain, '\\n', Ttrain, '\\n', Xval, '\\n', Tval, '\\n', Xtest, '\\n', Ttest)\n",
    "        print()"
   ]
  },
  {
   "cell_type": "markdown",
   "metadata": {},
   "source": [
    "The function `run_these_parameters` loops through all values in `layers_structs`, `methods`, `epochs`, `learning rates` and `batch_sizes`.  For each set of parameter values, it loops through all ways of creating training, validation, and testing partitions using `n_folds`.  For each of these repetitions, `train_this_partition` is called to create the specified convolutional neural network, trains it, collects the percent correct on training, validation, and test sets, and returns a list of parameter values and the three accuracies.  `run_these_parameters` returns all of these results as a `pandas` DataFrame with column names `('struct', 'method', 'n_epochs', 'learning_rate', 'batch_size', 'train %', 'val %', 'test %')`. \n",
    "\n",
    "The resulting DataFrame results stored in variable `df` can be summarized with a statement like\n",
    "\n",
    "      df.groupby(['struct', 'method', 'n_epochs', 'learning_rate',\n",
    "                  'batch_size']).mean())"
   ]
  },
  {
   "cell_type": "code",
   "execution_count": 239,
   "metadata": {},
   "outputs": [],
   "source": [
    "## Ru_these_parameter\n",
    "#FIXED\n",
    "def run_these_parameters(X, T, n_folds,\n",
    "                         structs,\n",
    "                          methods,\n",
    "                          epochs,\n",
    "                          learning_rates,\n",
    "                          batch_sizes):\n",
    "    column_names = ('structs','methods','epochs','learning_rates','batch_sizes')\n",
    "    result = pd.DataFrame((itertools.product(structs,methods,epochs,learning_rates,batch_sizes)),columns = column_names)\n",
    "    #print(result)\n",
    "    percent_trains = []\n",
    "    percent_vals = []\n",
    "    percent_tests = []\n",
    "    new_result = pd.DataFrame(columns = ['structs','methods','epochs','learning_rates','batch_sizes','train %','val %','test %'])\n",
    "    for i,valuepassing in result.iterrows():\n",
    "            for Xtrain, Ttrain,Xval,Tval, Xtest, Ttest in mlfuncs.generate_partitions(X, T, n_folds, validation=True, shuffle=True, classification=True):\n",
    "                struct = valuepassing['structs']\n",
    "                n_epochs = valuepassing['epochs']\n",
    "                method = valuepassing['methods']\n",
    "                learning_rate = valuepassing['learning_rates']\n",
    "                batch_size = valuepassing['batch_sizes']\n",
    "                temp_list = train_this_partition(Xtrain, Ttrain, Xval, Tval, Xtest, Ttest,struct, n_epochs, method, learning_rate, batch_size)\n",
    "                percent_train = (temp_list[-3])\n",
    "                percent_val = (temp_list[-2])\n",
    "                percent_test = (temp_list[-1])\n",
    "                temp_list_2 = [[struct,method,n_epochs,learning_rate,batch_size,percent_train,percent_val,percent_test]]\n",
    "                #new_result = new_result.append(temp_list_2,ignore_index=True)\n",
    "                new_result = new_result.append(pd.DataFrame(temp_list_2, columns=['structs','methods','epochs','learning_rates','batch_sizes','train %','val %','test %']), ignore_index=True)\n",
    "    return new_result"
   ]
  },
  {
   "cell_type": "code",
   "execution_count": 240,
   "metadata": {},
   "outputs": [],
   "source": [
    "def train_this_partition(Xtrain, Ttrain, Xval, Tval, Xtest, Ttest,\n",
    "                              struct, n_epochs, method, learning_rate, batch_size):\n",
    "    #print(struct, n_epochs, method, learning_rate, batch_size)\n",
    "    results = []\n",
    "    classes = np.unique(Ttrain)\n",
    "    cnn = nn.NeuralNetworkClassifier_CNN(Xtrain[1].shape,struct[0],struct[1], classes)\n",
    "    #print(cnn)\n",
    "    cnn.train( Xtrain, Ttrain, n_epochs, method, learning_rate, momentum=0.1, batch_size=None, verbose=False)\n",
    "    Ytrain,_ = cnn.use(Xtrain)\n",
    "    Yval,_ = cnn.use(Xval)\n",
    "    Ytest,_ = cnn.use(Xtest)\n",
    "    #print(Ytrain,Ttrain)\n",
    "    percent_train = mlfuncs.percent_equal(Ytrain, Ttrain)\n",
    "    percent_val = mlfuncs.percent_equal(Yval, Tval)\n",
    "    percent_test = mlfuncs.percent_equal(Ytest, Ttest)\n",
    "    return [mlfuncs.list_to_tuple(struct), method, n_epochs, learning_rate,batch_size,percent_train,percent_val,percent_test]"
   ]
  },
  {
   "cell_type": "markdown",
   "metadata": {},
   "source": [
    "Define the two required functions in code cells above this cell.\n",
    "\n",
    "The following examples show examples of how they should run, as"
   ]
  },
  {
   "cell_type": "code",
   "execution_count": 94,
   "metadata": {
    "ExecuteTime": {
     "end_time": "2021-10-15T23:41:31.175012Z",
     "start_time": "2021-10-15T23:41:30.389530Z"
    }
   },
   "outputs": [
    {
     "data": {
      "image/png": "[encoded data removed]",
      "text/plain": [
       "<Figure size 432x288 with 40 Axes>"
      ]
     },
     "metadata": {
      "needs_background": "light"
     },
     "output_type": "display_data"
    }
   ],
   "source": [
    "def make_images(n_each_class):\n",
    "    '''Make 20x20 black and white images with diamonds or squares for the two classes, as line drawings.'''\n",
    "    images = np.zeros((n_each_class * 4, 20, 20))  # nSamples, rows, columns\n",
    "    radii = 3 + np.random.randint(10 - 5, size=(n_each_class * 4, 1))\n",
    "    centers = np.zeros((n_each_class * 4, 2))\n",
    "    for i in range(n_each_class * 4):\n",
    "        r = radii[i, 0]\n",
    "        centers[i, :] = r + 1 + np.random.randint(18 - 2 * r, size=(1, 2))\n",
    "        x = int(centers[i, 0])\n",
    "        y = int(centers[i, 1])\n",
    "        if i < n_each_class:\n",
    "            # plus\n",
    "            images[i, x - r:x + r, y] = 1.0\n",
    "            images[i, x, y - r:y + r] = 1.0\n",
    "        elif i < n_each_class * 2:\n",
    "            # minus\n",
    "            images[i, x, y - r:y + r] = 1.0\n",
    "        elif i < n_each_class * 3:\n",
    "            # x\n",
    "            images[i, range(x - r, x + r), range(y - r, y + r)] = 1.0\n",
    "            images[i, range(x - r, x + r), range(y + r, y - r, -1)] = 1.0\n",
    "        else:\n",
    "            # /\n",
    "            images[i, range(x - r, x + r), range(y - r, y + r)] = 1.0\n",
    "\n",
    "    T = np.array(['plus'] * n_each_class + ['minus'] * n_each_class + ['times'] * n_each_class + ['divide'] * n_each_class).reshape(-1, 1)\n",
    "\n",
    "    n, r, c = images.shape\n",
    "    images = images.reshape(n, r, c, 1)  # add channel dimsension\n",
    "    return images, T\n",
    "\n",
    "n_each_class = 10\n",
    "X, T = make_images(n_each_class)\n",
    "p = 0\n",
    "for i in range(4 * n_each_class):\n",
    "    p += 1\n",
    "    plt.subplot(4, n_each_class, p)\n",
    "    plt.imshow(-X[i, :, :, 0], cmap='gray')\n",
    "    plt.axis('off')"
   ]
  },
  {
   "cell_type": "code",
   "execution_count": 12,
   "metadata": {
    "ExecuteTime": {
     "end_time": "2021-10-15T23:41:32.073364Z",
     "start_time": "2021-10-15T23:41:32.019274Z"
    }
   },
   "outputs": [
    {
     "data": {
      "text/plain": [
       "(2000, 20, 20, 1)"
      ]
     },
     "execution_count": 12,
     "metadata": {},
     "output_type": "execute_result"
    }
   ],
   "source": [
    "n_each_class = 500\n",
    "X, T = make_images(n_each_class)\n",
    "X.shape"
   ]
  },
  {
   "cell_type": "code",
   "execution_count": 13,
   "metadata": {
    "ExecuteTime": {
     "end_time": "2021-10-15T23:41:35.853124Z",
     "start_time": "2021-10-15T23:41:35.643931Z"
    }
   },
   "outputs": [],
   "source": [
    "# from A4mysolution import *"
   ]
  },
  {
   "cell_type": "code",
   "execution_count": 241,
   "metadata": {
    "ExecuteTime": {
     "end_time": "2021-10-15T23:41:37.163016Z",
     "start_time": "2021-10-15T23:41:36.195032Z"
    },
    "scrolled": true
   },
   "outputs": [
    {
     "data": {
      "text/plain": [
       "[(((2, 5, 1),), (5,)), 'adam', 10, 0.01, 10, 77.34375, 81.25, 62.5]"
      ]
     },
     "execution_count": 241,
     "metadata": {},
     "output_type": "execute_result"
    }
   ],
   "source": [
    "struct = [ [[2, 5, 1]], [5] ]\n",
    "n_epochs = 10\n",
    "method= 'adam'\n",
    "learning_rate = 0.01\n",
    "batch_size = 10\n",
    "\n",
    "n_samples = X.shape[0]\n",
    "rows = np.arange(n_samples)\n",
    "np.random.shuffle(rows)\n",
    "ntrain = int(n_samples * 0.8)\n",
    "nval = int(n_samples * 0.1)\n",
    "Xtrain = X[rows[:ntrain], ...]\n",
    "Ttrain = T[rows[:ntrain], ...]\n",
    "Xval = X[rows[ntrain:ntrain+nval], ...]\n",
    "Tval = T[rows[ntrain:ntrain+nval], ...]\n",
    "Xtest = X[rows[ntrain+nval:], ...]\n",
    "Ttest = T[rows[ntrain+nval:], ...]         \n",
    "#print(np.unique(Ttrain))\n",
    "result = train_this_partition(Xtrain, Ttrain, Xval, Tval, Xtest, Ttest,\n",
    "                              struct, n_epochs, method, learning_rate, batch_size)\n",
    "result"
   ]
  },
  {
   "cell_type": "code",
   "execution_count": 34,
   "metadata": {
    "ExecuteTime": {
     "end_time": "2021-10-15T23:44:04.708062Z",
     "start_time": "2021-10-15T23:42:36.475008Z"
    }
   },
   "outputs": [
    {
     "data": {
      "text/html": [
       "<div>\n",
       "<style scoped>\n",
       "    .dataframe tbody tr th:only-of-type {\n",
       "        vertical-align: middle;\n",
       "    }\n",
       "\n",
       "    .dataframe tbody tr th {\n",
       "        vertical-align: top;\n",
       "    }\n",
       "\n",
       "    .dataframe thead th {\n",
       "        text-align: right;\n",
       "    }\n",
       "</style>\n",
       "<table border=\"1\" class=\"dataframe\">\n",
       "  <thead>\n",
       "    <tr style=\"text-align: right;\">\n",
       "      <th></th>\n",
       "      <th>structs</th>\n",
       "      <th>methods</th>\n",
       "      <th>epochs</th>\n",
       "      <th>learning_rates</th>\n",
       "      <th>batch_sizes</th>\n",
       "      <th>train %</th>\n",
       "      <th>val %</th>\n",
       "      <th>test %</th>\n",
       "    </tr>\n",
       "  </thead>\n",
       "  <tbody>\n",
       "    <tr>\n",
       "      <th>0</th>\n",
       "      <td>[[[5, 3, 1]], []]</td>\n",
       "      <td>adam</td>\n",
       "      <td>10</td>\n",
       "      <td>0.01</td>\n",
       "      <td>-1</td>\n",
       "      <td>92.50</td>\n",
       "      <td>77.5</td>\n",
       "      <td>75.0</td>\n",
       "    </tr>\n",
       "    <tr>\n",
       "      <th>1</th>\n",
       "      <td>[[[5, 3, 1]], []]</td>\n",
       "      <td>adam</td>\n",
       "      <td>10</td>\n",
       "      <td>0.01</td>\n",
       "      <td>-1</td>\n",
       "      <td>95.00</td>\n",
       "      <td>80.0</td>\n",
       "      <td>85.0</td>\n",
       "    </tr>\n",
       "    <tr>\n",
       "      <th>2</th>\n",
       "      <td>[[[5, 3, 1]], []]</td>\n",
       "      <td>adam</td>\n",
       "      <td>10</td>\n",
       "      <td>0.01</td>\n",
       "      <td>-1</td>\n",
       "      <td>97.50</td>\n",
       "      <td>85.0</td>\n",
       "      <td>82.5</td>\n",
       "    </tr>\n",
       "    <tr>\n",
       "      <th>3</th>\n",
       "      <td>[[[5, 3, 1]], []]</td>\n",
       "      <td>adam</td>\n",
       "      <td>10</td>\n",
       "      <td>0.01</td>\n",
       "      <td>-1</td>\n",
       "      <td>98.75</td>\n",
       "      <td>80.0</td>\n",
       "      <td>77.5</td>\n",
       "    </tr>\n",
       "    <tr>\n",
       "      <th>4</th>\n",
       "      <td>[[[5, 3, 1]], []]</td>\n",
       "      <td>adam</td>\n",
       "      <td>10</td>\n",
       "      <td>0.01</td>\n",
       "      <td>-1</td>\n",
       "      <td>98.75</td>\n",
       "      <td>82.5</td>\n",
       "      <td>82.5</td>\n",
       "    </tr>\n",
       "    <tr>\n",
       "      <th>...</th>\n",
       "      <td>...</td>\n",
       "      <td>...</td>\n",
       "      <td>...</td>\n",
       "      <td>...</td>\n",
       "      <td>...</td>\n",
       "      <td>...</td>\n",
       "      <td>...</td>\n",
       "      <td>...</td>\n",
       "    </tr>\n",
       "    <tr>\n",
       "      <th>91</th>\n",
       "      <td>[[[5, 3, 1]], []]</td>\n",
       "      <td>adam</td>\n",
       "      <td>20</td>\n",
       "      <td>0.01</td>\n",
       "      <td>100</td>\n",
       "      <td>100.00</td>\n",
       "      <td>85.0</td>\n",
       "      <td>87.5</td>\n",
       "    </tr>\n",
       "    <tr>\n",
       "      <th>92</th>\n",
       "      <td>[[[5, 3, 1]], []]</td>\n",
       "      <td>adam</td>\n",
       "      <td>20</td>\n",
       "      <td>0.01</td>\n",
       "      <td>100</td>\n",
       "      <td>100.00</td>\n",
       "      <td>75.0</td>\n",
       "      <td>90.0</td>\n",
       "    </tr>\n",
       "    <tr>\n",
       "      <th>93</th>\n",
       "      <td>[[[5, 3, 1]], []]</td>\n",
       "      <td>adam</td>\n",
       "      <td>20</td>\n",
       "      <td>0.01</td>\n",
       "      <td>100</td>\n",
       "      <td>100.00</td>\n",
       "      <td>75.0</td>\n",
       "      <td>77.5</td>\n",
       "    </tr>\n",
       "    <tr>\n",
       "      <th>94</th>\n",
       "      <td>[[[5, 3, 1]], []]</td>\n",
       "      <td>adam</td>\n",
       "      <td>20</td>\n",
       "      <td>0.01</td>\n",
       "      <td>100</td>\n",
       "      <td>100.00</td>\n",
       "      <td>77.5</td>\n",
       "      <td>72.5</td>\n",
       "    </tr>\n",
       "    <tr>\n",
       "      <th>95</th>\n",
       "      <td>[[[5, 3, 1]], []]</td>\n",
       "      <td>adam</td>\n",
       "      <td>20</td>\n",
       "      <td>0.01</td>\n",
       "      <td>100</td>\n",
       "      <td>100.00</td>\n",
       "      <td>92.5</td>\n",
       "      <td>85.0</td>\n",
       "    </tr>\n",
       "  </tbody>\n",
       "</table>\n",
       "<p>96 rows × 8 columns</p>\n",
       "</div>"
      ],
      "text/plain": [
       "              structs methods epochs  learning_rates batch_sizes  train %  \\\n",
       "0   [[[5, 3, 1]], []]    adam     10            0.01          -1    92.50   \n",
       "1   [[[5, 3, 1]], []]    adam     10            0.01          -1    95.00   \n",
       "2   [[[5, 3, 1]], []]    adam     10            0.01          -1    97.50   \n",
       "3   [[[5, 3, 1]], []]    adam     10            0.01          -1    98.75   \n",
       "4   [[[5, 3, 1]], []]    adam     10            0.01          -1    98.75   \n",
       "..                ...     ...    ...             ...         ...      ...   \n",
       "91  [[[5, 3, 1]], []]    adam     20            0.01         100   100.00   \n",
       "92  [[[5, 3, 1]], []]    adam     20            0.01         100   100.00   \n",
       "93  [[[5, 3, 1]], []]    adam     20            0.01         100   100.00   \n",
       "94  [[[5, 3, 1]], []]    adam     20            0.01         100   100.00   \n",
       "95  [[[5, 3, 1]], []]    adam     20            0.01         100   100.00   \n",
       "\n",
       "    val %  test %  \n",
       "0    77.5    75.0  \n",
       "1    80.0    85.0  \n",
       "2    85.0    82.5  \n",
       "3    80.0    77.5  \n",
       "4    82.5    82.5  \n",
       "..    ...     ...  \n",
       "91   85.0    87.5  \n",
       "92   75.0    90.0  \n",
       "93   75.0    77.5  \n",
       "94   77.5    72.5  \n",
       "95   92.5    85.0  \n",
       "\n",
       "[96 rows x 8 columns]"
      ]
     },
     "execution_count": 34,
     "metadata": {},
     "output_type": "execute_result"
    }
   ],
   "source": [
    "df = run_these_parameters(X, T, n_folds=4,\n",
    "                         structs=[\n",
    "                             # [ [], [] ],\n",
    "                             # [ [], [10] ],\n",
    "                             [[[5, 3, 1]], []],\n",
    "                             # [[[20, 3, 2], [5, 3, 1]], [20]],\n",
    "                            ],\n",
    "                          methods=['adam'], # , 'sgd'],\n",
    "                          epochs=[10, 20],\n",
    "                          learning_rates=[0.01], #, 0.1],\n",
    "                          batch_sizes=[-1, 10, 50, 100])\n",
    "df"
   ]
  },
  {
   "cell_type": "code",
   "execution_count": null,
   "metadata": {},
   "outputs": [],
   "source": []
  },
  {
   "cell_type": "markdown",
   "metadata": {},
   "source": [
    "# Experiments\n",
    "\n",
    "When you have `train_this_partition` and `run_these_parameters`, use them to explore the parameter values, trying to find combinations of parameter values that result in high validation accuracies.  \n",
    "\n",
    "Start with one value for each of the five parameters, but remember to specifiy them as a list of one element, like `learning_rates=[0.01]`.  Then run again with 3 or 4 values for one parameter.  Note the best value.  Use that value for that parameter, then add more values for a different parameter.  \n",
    "\n",
    "Proceed this way for each of the parameter values.  Discuss what you observe after each call to `run_these_parameters` with at least two sentences for each run.  Do the parameter values you find that work best surprise you?  Also discuss how well the validation and test accuracies equal each other.\n",
    "\n",
    "For each method, try various hidden layer structures, learning rates, and numbers of epochs.  Use the validation percent accuracy to pick the best hidden layers, learning rates and numbers of epochs for each method.  Report training, validation and test accuracy for your best validation results for each of the three methods.\n"
   ]
  },
  {
   "cell_type": "markdown",
   "metadata": {},
   "source": [
    "Experimentation Begins From the Cell Below"
   ]
  },
  {
   "cell_type": "code",
   "execution_count": 97,
   "metadata": {},
   "outputs": [
    {
     "data": {
      "image/png": "[encoded data removed]",
      "text/plain": [
       "<Figure size 432x288 with 40 Axes>"
      ]
     },
     "metadata": {
      "needs_background": "light"
     },
     "output_type": "display_data"
    }
   ],
   "source": [
    "n_each_class = 10\n",
    "X, T = make_images(n_each_class)\n",
    "p = 0\n",
    "for i in range(4 * n_each_class):\n",
    "    p += 1\n",
    "    plt.subplot(4, n_each_class, p)\n",
    "    plt.imshow(-X[i, :, :, 0], cmap='gray')\n",
    "    plt.axis('off')"
   ]
  },
  {
   "cell_type": "code",
   "execution_count": 115,
   "metadata": {},
   "outputs": [
    {
     "data": {
      "text/plain": [
       "(2000, 20, 20, 1)"
      ]
     },
     "execution_count": 115,
     "metadata": {},
     "output_type": "execute_result"
    }
   ],
   "source": [
    "n_each_class = 500\n",
    "X, T = make_images(n_each_class)\n",
    "X.shape"
   ]
  },
  {
   "cell_type": "markdown",
   "metadata": {},
   "source": [
    "1. Begining with the structure of the layer of neural network and keeping others as constant."
   ]
  },
  {
   "cell_type": "code",
   "execution_count": 178,
   "metadata": {},
   "outputs": [
    {
     "name": "stdout",
     "output_type": "stream",
     "text": [
      "After very run we print the Maximum Percentage validation and Layerinfo for that validation percentage\n",
      "Maximum value for Percent_Validation is 81.2\n",
      "Neural Network parameters for maximum percentage validation\n",
      "structs           [[], []]\n",
      "methods               adam\n",
      "epochs                  10\n",
      "learning_rates        0.01\n",
      "batch_sizes             10\n",
      "train %               83.2\n",
      "val %                 81.2\n",
      "Name: 0, dtype: object\n",
      "We are excluding the test percentage so as to avoid peeking\n"
     ]
    }
   ],
   "source": [
    "df = run_these_parameters(X, T, n_folds=4,\n",
    "                         structs=[\n",
    "                             [ [], [] ],\n",
    "                             #[ [], [10] ],\n",
    "                             #[[[10, 3, 1]], []],\n",
    "                             #[[[20, 3, 2], [5, 3, 1]], [20]],\n",
    "                            ],\n",
    "                          methods=['adam'], # , 'sgd'],\n",
    "                          epochs=[10],\n",
    "                          learning_rates=[0.01], #, 0.1],\n",
    "                          batch_sizes=[10])\n",
    "print(\"After very run we print the Maximum Percentage validation and Layerinfo for that validation percentage\")\n",
    "MaxValidation = df.max()['val %']\n",
    "print(\"Maximum value for Percent_Validation is\",MaxValidation)\n",
    "MaxvalueIndex = []\n",
    "MaxvalueIndex = df['val %'].argmax()\n",
    "Layerinfo1 = df.iloc[MaxvalueIndex]\n",
    "print('Neural Network parameters for maximum percentage validation')\n",
    "print(Layerinfo1[0:7])\n",
    "print(\"We are excluding the test percentage so as to avoid peeking\")"
   ]
  },
  {
   "cell_type": "markdown",
   "metadata": {},
   "source": [
    "Conclusion : \n",
    "1. Starting with a simple linear model .i.e. with no convolution layer and no fully connected layer we get a lower percentage validation.\n",
    "2. Even with lower value of number of epochs we get a significantly higher value of validation percentage.\n",
    "3. The lower value of learning rate also significantly contributes to the lower value of training percentage, due to hunting for a better local minima."
   ]
  },
  {
   "cell_type": "code",
   "execution_count": 179,
   "metadata": {},
   "outputs": [
    {
     "name": "stdout",
     "output_type": "stream",
     "text": [
      "After very run we print the Maximum Percentage validation and Layerinfo for that validation percentage\n",
      "Maximum value for Percent_Validation is 79.2\n",
      "Neural Network parameters for maximum percentage validation\n",
      "structs           [[], []]\n",
      "methods               adam\n",
      "epochs                  10\n",
      "learning_rates        0.01\n",
      "batch_sizes             10\n",
      "train %               81.6\n",
      "val %                 79.2\n",
      "Name: 7, dtype: object\n",
      "We are excluding the test percentage so as to avoid peeking\n"
     ]
    }
   ],
   "source": [
    "for i in range(1):\n",
    "    df = run_these_parameters(X, T, n_folds=4,\n",
    "                         structs=[\n",
    "                             [ [], [] ],\n",
    "                             [ [], [10] ],\n",
    "                             [[[10, 3, 1]], []],\n",
    "                             [[[20, 3, 2], [5, 3, 1]], [15]],\n",
    "                            ],\n",
    "                          methods=['adam'], # , 'sgd'],\n",
    "                          epochs=[10],\n",
    "                          learning_rates=[0.01], #, 0.1],\n",
    "                          batch_sizes=[10])\n",
    "    print(\"After very run we print the Maximum Percentage validation and Layerinfo for that validation percentage\")\n",
    "    MaxValidation = df.max()['val %']\n",
    "    print(\"Maximum value for Percent_Validation is\",MaxValidation)\n",
    "    MaxvalueIndex = []\n",
    "    MaxvalueIndex = df['val %'].argmax()\n",
    "    Layerinfo2 = df.iloc[MaxvalueIndex]\n",
    "    print('Neural Network parameters for maximum percentage validation')\n",
    "    print(Layerinfo2[0:7])\n",
    "    print(\"We are excluding the test percentage so as to avoid peeking\")"
   ]
  },
  {
   "cell_type": "markdown",
   "metadata": {},
   "source": [
    "Conclusion : \n",
    "1. Here we get a slightly better validation percentage without overfitting the training data with all the outcomes.\n",
    "2. A convolutional layer does improve the performance of a network, even with a low training percentage.\n",
    "3. We get an almost identical value for percent validation and percent training.\n",
    "4. Here we get a best value for the structure of the neural network."
   ]
  },
  {
   "cell_type": "markdown",
   "metadata": {},
   "source": [
    "2. Now keeping neural network layer fixed we vary learning rate, and keep other paramters as constant."
   ]
  },
  {
   "cell_type": "code",
   "execution_count": 180,
   "metadata": {},
   "outputs": [
    {
     "name": "stdout",
     "output_type": "stream",
     "text": [
      "After very run we print the Maximum Percentage validation and Layerinfo for that validation percentage\n",
      "Maximum value for Percent_Validation is 73.2\n",
      "Neural Network parameters for maximum percentage validation\n",
      "structs           [[[10, 3, 1]], []]\n",
      "methods                         adam\n",
      "epochs                            10\n",
      "learning_rates                  0.01\n",
      "batch_sizes                       10\n",
      "train %                         72.7\n",
      "val %                           73.2\n",
      "Name: 0, dtype: object\n",
      "We are excluding the test percentage so as to avoid peeking\n"
     ]
    }
   ],
   "source": [
    "for i in range(1):\n",
    "    df = run_these_parameters(X, T, n_folds=4,\n",
    "                         structs=[\n",
    "                             #[ [], [] ],\n",
    "                             #[ [], [10] ],\n",
    "                             [[[10, 3, 1]], []],\n",
    "                             #[[[20, 3, 2], [5, 3, 1]], [15]],\n",
    "                             #[[[8, 4, 1]], [10],[5]],\n",
    "                            ],\n",
    "                          methods=['adam'], # , 'sgd'],\n",
    "                          epochs=[10],\n",
    "                          learning_rates=[0.01], #, 0.1],\n",
    "                          batch_sizes=[10])\n",
    "    print(\"After very run we print the Maximum Percentage validation and Layerinfo for that validation percentage\")\n",
    "    MaxValidation = df.max()['val %']\n",
    "    print(\"Maximum value for Percent_Validation is\",MaxValidation)\n",
    "    MaxvalueIndex = []\n",
    "    MaxvalueIndex = df['val %'].argmax()\n",
    "    Layerinfo3 = df.iloc[MaxvalueIndex]\n",
    "    print('Neural Network parameters for maximum percentage validation')\n",
    "    print(Layerinfo3[0:7])\n",
    "    print(\"We are excluding the test percentage so as to avoid peeking\")"
   ]
  },
  {
   "cell_type": "markdown",
   "metadata": {},
   "source": [
    "Conclusions:\n",
    "1. With a learning rate of 0.01 we get a lower validation here than in the previous example.\n",
    "2. A significant drop in validation percentage is seen even though training percentage is almost same."
   ]
  },
  {
   "cell_type": "code",
   "execution_count": 181,
   "metadata": {},
   "outputs": [
    {
     "name": "stdout",
     "output_type": "stream",
     "text": [
      "After very run we print the Maximum Percentage validation and Layerinfo for that validation percentage\n",
      "Maximum value for Percent_Validation is 80.60000000000001\n",
      "Neural Network parameters for maximum percentage validation\n",
      "structs           [[[10, 3, 1]], []]\n",
      "methods                         adam\n",
      "epochs                            10\n",
      "learning_rates                 0.009\n",
      "batch_sizes                       10\n",
      "train %                         79.8\n",
      "val %                           80.6\n",
      "Name: 33, dtype: object\n",
      "We are excluding the test percentage so as to avoid peeking\n"
     ]
    }
   ],
   "source": [
    "for i in range(1):\n",
    "    df = run_these_parameters(X, T, n_folds=4,\n",
    "                         structs=[\n",
    "                             #[ [], [] ],\n",
    "                             #[ [], [10] ],\n",
    "                             [[[10, 3, 1]], []],\n",
    "                             #[[[20, 3, 2], [5, 3, 1]], [15]],\n",
    "                             #[[[8, 4, 1]], [10],[5]],\n",
    "                            ],\n",
    "                          methods=['adam'], # , 'sgd'],\n",
    "                          epochs=[10],\n",
    "                          learning_rates=[0.0001,0.005,0.009,0.01,0.07,0.1], #, 0.1],\n",
    "                          batch_sizes=[10])\n",
    "    print(\"After very run we print the Maximum Percentage validation and Layerinfo for that validation percentage\")\n",
    "    MaxValidation = df.max()['val %']\n",
    "    print(\"Maximum value for Percent_Validation is\",MaxValidation)\n",
    "    MaxvalueIndex = []\n",
    "    MaxvalueIndex = df['val %'].argmax()\n",
    "    Layerinfo4 = df.iloc[MaxvalueIndex]\n",
    "    print('Neural Network parameters for maximum percentage validation')\n",
    "    print(Layerinfo4[0:7])\n",
    "    print(\"We are excluding the test percentage so as to avoid peeking\")"
   ]
  },
  {
   "cell_type": "markdown",
   "metadata": {},
   "source": [
    "Conclusion : \n",
    "1. At a lower value of learning_rate, percentage validation increases without any significant increase in training percentage,  2. A lower value of learning_rate does significantly increase the risk of the neural network hunting for a better local minima, which could lead to worse results."
   ]
  },
  {
   "cell_type": "markdown",
   "metadata": {},
   "source": [
    "3. Fixing neural net layer and learning_rate we now change method and keep others constant."
   ]
  },
  {
   "cell_type": "code",
   "execution_count": 182,
   "metadata": {},
   "outputs": [
    {
     "name": "stdout",
     "output_type": "stream",
     "text": [
      "After very run we print the Maximum Percentage validation and Layerinfo for that validation percentage\n",
      "Maximum value for Percent_Validation is 81.39999999999999\n",
      "Neural Network parameters for maximum percentage validation\n",
      "structs           [[[10, 3, 1]], []]\n",
      "methods                         adam\n",
      "epochs                            10\n",
      "learning_rates                 0.005\n",
      "batch_sizes                       10\n",
      "train %                         82.5\n",
      "val %                           81.4\n",
      "Name: 6, dtype: object\n",
      "We are excluding the test percentage so as to avoid peeking\n"
     ]
    }
   ],
   "source": [
    "for i in range(1):\n",
    "    df = run_these_parameters(X, T, n_folds=4,\n",
    "                         structs=[\n",
    "                             #[ [], [] ],\n",
    "                             #[ [], [10] ],\n",
    "                             [[[10, 3, 1]], []],\n",
    "                             #[[[20, 3, 2], [5, 3, 1]], [15]],\n",
    "                             #[[[8, 4, 1]], [10],[5]],\n",
    "                            ],\n",
    "                          methods=['adam','sgd'], # , 'sgd'],\n",
    "                          epochs=[10],\n",
    "                          learning_rates=[0.005], #, 0.1],\n",
    "                          batch_sizes=[10])\n",
    "    print(\"After very run we print the Maximum Percentage validation and Layerinfo for that validation percentage\")\n",
    "    MaxValidation = df.max()['val %']\n",
    "    print(\"Maximum value for Percent_Validation is\",MaxValidation)\n",
    "    MaxvalueIndex = []\n",
    "    MaxvalueIndex = df['val %'].argmax()\n",
    "    Layerinfo5 = df.iloc[MaxvalueIndex]\n",
    "    print('Neural Network parameters for maximum percentage validation')\n",
    "    print(Layerinfo5[0:7])\n",
    "    print(\"We are excluding the test percentage so as to avoid peeking\")"
   ]
  },
  {
   "cell_type": "markdown",
   "metadata": {},
   "source": [
    "Conclusion:\n",
    "1. Adam Optimizer does a give a better peromance than SGD optimizer.\n",
    "2. We fix our optimizer as ADAM from here on."
   ]
  },
  {
   "cell_type": "markdown",
   "metadata": {},
   "source": [
    "4. Now we vary number of epochs and keep the rest constant."
   ]
  },
  {
   "cell_type": "code",
   "execution_count": 183,
   "metadata": {},
   "outputs": [
    {
     "name": "stdout",
     "output_type": "stream",
     "text": [
      "After very run we print the Maximum Percentage validation and Layerinfo for that validation percentage\n",
      "Maximum value for Percent_Validation is 82.6\n",
      "Neural Network parameters for maximum percentage validation\n",
      "structs           [[[10, 3, 1]], []]\n",
      "methods                         adam\n",
      "epochs                            50\n",
      "learning_rates                 0.005\n",
      "batch_sizes                       10\n",
      "train %                         89.1\n",
      "val %                           82.6\n",
      "Name: 47, dtype: object\n",
      "We are excluding the test percentage so as to avoid peeking\n"
     ]
    }
   ],
   "source": [
    "for i in range(1):\n",
    "    df = run_these_parameters(X, T, n_folds=4,\n",
    "                         structs=[\n",
    "                             #[ [], [] ],\n",
    "                             #[ [], [10] ],\n",
    "                             [[[10, 3, 1]], []],\n",
    "                             #[[[20, 3, 2], [5, 3, 1]], [15]],\n",
    "                             #[[[8, 4, 1]], [10],[5]],\n",
    "                            ],\n",
    "                          methods=['adam'], # , 'sgd'],\n",
    "                          epochs=[1,10,25,50],\n",
    "                          learning_rates=[0.005], #, 0.1],\n",
    "                          batch_sizes=[10])\n",
    "    print(\"After very run we print the Maximum Percentage validation and Layerinfo for that validation percentage\")\n",
    "    MaxValidation = df.max()['val %']\n",
    "    print(\"Maximum value for Percent_Validation is\",MaxValidation)\n",
    "    MaxvalueIndex = []\n",
    "    MaxvalueIndex = df['val %'].argmax()\n",
    "    Layerinfo6 = df.iloc[MaxvalueIndex]\n",
    "    print('Neural Network parameters for maximum percentage validation')\n",
    "    print(Layerinfo6[0:7])\n",
    "    print(\"We are excluding the test percentage so as to avoid peeking\")"
   ]
  },
  {
   "cell_type": "markdown",
   "metadata": {},
   "source": [
    "Conclusion:\n",
    "1. Increasing the number of epochs does increase validation accuracy significantly.\n",
    "2. But with higher values for number of epochs and lower values for learning_rate, the neural network might keep on searching for better values and might go out of scope from the local minima."
   ]
  },
  {
   "cell_type": "markdown",
   "metadata": {},
   "source": [
    "5. Varying batches and keeping other parameters constant."
   ]
  },
  {
   "cell_type": "code",
   "execution_count": 184,
   "metadata": {},
   "outputs": [
    {
     "name": "stdout",
     "output_type": "stream",
     "text": [
      "After very run we print the Maximum Percentage validation and Layerinfo for that validation percentage\n",
      "Maximum value for Percent_Validation is 85.0\n",
      "Neural Network parameters for maximum percentage validation\n",
      "structs           [[[10, 3, 1]], []]\n",
      "methods                         adam\n",
      "epochs                            50\n",
      "learning_rates                 0.005\n",
      "batch_sizes                      100\n",
      "train %                         91.2\n",
      "val %                           85.0\n",
      "Name: 34, dtype: object\n",
      "We are excluding the test percentage so as to avoid peeking\n"
     ]
    }
   ],
   "source": [
    "for i in range(1):\n",
    "    df = run_these_parameters(X, T, n_folds=4,\n",
    "                         structs=[\n",
    "                             #[ [], [] ],\n",
    "                             #[ [], [10] ],\n",
    "                             [[[10, 3, 1]], []],\n",
    "                             #[[[20, 3, 2], [5, 3, 1]], [15]],\n",
    "                             #[[[8, 4, 1]], [10],[5]],\n",
    "                            ],\n",
    "                          methods=['adam'], # , 'sgd'],\n",
    "                          epochs=[50],\n",
    "                          learning_rates=[0.005], #, 0.1],\n",
    "                          batch_sizes=[10,50,100])\n",
    "    print(\"After very run we print the Maximum Percentage validation and Layerinfo for that validation percentage\")\n",
    "    MaxValidation = df.max()['val %']\n",
    "    print(\"Maximum value for Percent_Validation is\",MaxValidation)\n",
    "    MaxvalueIndex = []\n",
    "    MaxvalueIndex = df['val %'].argmax()\n",
    "    Layerinfo7 = df.iloc[MaxvalueIndex]\n",
    "    print('Neural Network parameters for maximum percentage validation')\n",
    "    print(Layerinfo7[0:7])\n",
    "    print(\"We are excluding the test percentage so as to avoid peeking\")"
   ]
  },
  {
   "cell_type": "markdown",
   "metadata": {},
   "source": [
    "Conclusion: \n",
    "1. With in an increase in batch size we see that the validation accuracy increases, but we did not get our best value at batches = 100, this is because a large batch may lead to poor generalization, note that we did want consider our batch size to be the entire dataset, this would gaurantee global minima but would be slower than shorter batched which exhibit faster dynamics.\n",
    "2. The plus point of using a smaller batch is also that it restricts overfitting on the training dataset, which results in poor performance on testing dataset."
   ]
  },
  {
   "cell_type": "code",
   "execution_count": 185,
   "metadata": {},
   "outputs": [
    {
     "name": "stdout",
     "output_type": "stream",
     "text": [
      "Parameters that work best based on Validation acccuracy\n",
      "structs           [[[10, 3, 1]], []]\n",
      "methods                         adam\n",
      "epochs                            50\n",
      "learning_rates                 0.005\n",
      "batch_sizes                      100\n",
      "train %                         91.2\n",
      "val %                           85.0\n",
      "Name: 34, dtype: object\n",
      "\n",
      "\n",
      "Disscussion : \n",
      "1. With the above parameters we get a validation accuracy of  85.0\n",
      "2. A single convolution layer neural network seems to work best for this case\n",
      "3. A lower learning rate is effective here, contrary to my previous understanding ofincreasing learning leads to convergence quickly,but that is only possible if we have a large number of epochs\n",
      "4. Large values for number of epochs leads to more computational load and can reach saturation quite early on a good neural network structure\n",
      "5. Smaller batch sizes are good for computation and can find good local minima efficiently\n"
     ]
    }
   ],
   "source": [
    "print(\"Parameters that work best based on Validation acccuracy\")\n",
    "print(Layerinfo7[0:7])\n",
    "print(\"\")\n",
    "print(\"\")\n",
    "print(\"Disscussion : \") \n",
    "print(\"1. With the above parameters we get a validation accuracy of \",MaxValidation)\n",
    "print(\"2. A single convolution layer neural network seems to work best for this case\")\n",
    "print(\"3. A lower learning rate is effective here, contrary to my previous understanding of\"\n",
    "      \"increasing learning leads to convergence quickly,\"\n",
    "      \"but that is only possible if we have a large number of epochs\")\n",
    "print(\"4. Large values for number of epochs leads to more computational \" \n",
    "      \"load and can reach saturation quite early on a good neural network structure\")\n",
    "print(\"5. Smaller batch sizes are good for computation and can find good local minima efficiently\")"
   ]
  },
  {
   "cell_type": "code",
   "execution_count": 189,
   "metadata": {},
   "outputs": [
    {
     "name": "stdout",
     "output_type": "stream",
     "text": [
      "train %    83.2\n",
      "val %      81.2\n",
      "test %     77.0\n",
      "Name: 0, dtype: object\n",
      "train %    81.6\n",
      "val %      79.2\n",
      "test %     78.4\n",
      "Name: 7, dtype: object\n",
      "train %    72.7\n",
      "val %      73.2\n",
      "test %     74.4\n",
      "Name: 0, dtype: object\n",
      "train %    79.8\n",
      "val %      80.6\n",
      "test %     76.6\n",
      "Name: 33, dtype: object\n",
      "train %    82.5\n",
      "val %      81.4\n",
      "test %     78.0\n",
      "Name: 6, dtype: object\n",
      "train %    89.1\n",
      "val %      82.6\n",
      "test %     80.2\n",
      "Name: 47, dtype: object\n",
      "train %    91.2\n",
      "val %      85.0\n",
      "test %     81.4\n",
      "Name: 34, dtype: object\n"
     ]
    }
   ],
   "source": [
    "print(Layerinfo1[5:])\n",
    "print(Layerinfo2[5:])\n",
    "print(Layerinfo3[5:])\n",
    "print(Layerinfo4[5:])\n",
    "print(Layerinfo5[5:])\n",
    "print(Layerinfo6[5:])\n",
    "print(Layerinfo7[5:])"
   ]
  },
  {
   "cell_type": "markdown",
   "metadata": {},
   "source": [
    "Disscussion: \n",
    "1. As training accuracy approaches 100% we can see that the difference between Validation accuracy and Test accuracy increases, that is as the training data overfits the difference between validation and test accuracy increases, which implies overfitting a model on the training data is bad for test and validate accuracy.\n",
    "2. We can see that around 80 % Training accuracy we get the difference between validation and testing accuracy to the minimum.\n",
    "3. So making batch size small lowers the risk of overfitting and so we can make the Validation and Test accuracy equal."
   ]
  },
  {
   "cell_type": "markdown",
   "metadata": {},
   "source": [
    "##CONFUSION MATRIX"
   ]
  },
  {
   "cell_type": "code",
   "execution_count": 190,
   "metadata": {},
   "outputs": [],
   "source": [
    "def confusion_matrix(Y_classes, T):\n",
    "    class_names = np.unique(T)\n",
    "    table = []\n",
    "    for true_class in class_names:\n",
    "        row = []\n",
    "        for Y_class in class_names:\n",
    "            row.append(100 * np.mean(Y_classes[T == true_class] == Y_class))\n",
    "        table.append(row)\n",
    "    conf_matrix = pandas.DataFrame(table, index=class_names, columns=class_names)\n",
    "    # cf.style.background_gradient(cmap='Blues').format(\"{:.1f} %\")\n",
    "    print('Percent Correct')\n",
    "    return conf_matrix.style.background_gradient(cmap='Blues').format(\"{:.1f}\")"
   ]
  },
  {
   "cell_type": "code",
   "execution_count": 222,
   "metadata": {},
   "outputs": [
    {
     "name": "stdout",
     "output_type": "stream",
     "text": [
      "Percent Correct\n"
     ]
    },
    {
     "data": {
      "text/html": [
       "<style  type=\"text/css\" >\n",
       "#T_aa270_row0_col0{\n",
       "            background-color:  #94c4df;\n",
       "            color:  #000000;\n",
       "        }#T_aa270_row0_col1,#T_aa270_row1_col2,#T_aa270_row1_col3,#T_aa270_row3_col0{\n",
       "            background-color:  #08306b;\n",
       "            color:  #f1f1f1;\n",
       "        }#T_aa270_row0_col2{\n",
       "            background-color:  #2979b9;\n",
       "            color:  #000000;\n",
       "        }#T_aa270_row0_col3{\n",
       "            background-color:  #eff6fc;\n",
       "            color:  #000000;\n",
       "        }#T_aa270_row1_col0,#T_aa270_row3_col1,#T_aa270_row3_col2,#T_aa270_row3_col3{\n",
       "            background-color:  #f7fbff;\n",
       "            color:  #000000;\n",
       "        }#T_aa270_row1_col1{\n",
       "            background-color:  #3787c0;\n",
       "            color:  #000000;\n",
       "        }#T_aa270_row2_col0{\n",
       "            background-color:  #206fb4;\n",
       "            color:  #f1f1f1;\n",
       "        }#T_aa270_row2_col1{\n",
       "            background-color:  #6aaed6;\n",
       "            color:  #000000;\n",
       "        }#T_aa270_row2_col2{\n",
       "            background-color:  #c1d9ed;\n",
       "            color:  #000000;\n",
       "        }#T_aa270_row2_col3{\n",
       "            background-color:  #e7f0fa;\n",
       "            color:  #000000;\n",
       "        }</style><table id=\"T_aa270_\" ><thead>    <tr>        <th class=\"blank level0\" ></th>        <th class=\"col_heading level0 col0\" >divide</th>        <th class=\"col_heading level0 col1\" >minus</th>        <th class=\"col_heading level0 col2\" >plus</th>        <th class=\"col_heading level0 col3\" >times</th>    </tr></thead><tbody>\n",
       "                <tr>\n",
       "                        <th id=\"T_aa270_level0_row0\" class=\"row_heading level0 row0\" >divide</th>\n",
       "                        <td id=\"T_aa270_row0_col0\" class=\"data row0 col0\" >29.5</td>\n",
       "                        <td id=\"T_aa270_row0_col1\" class=\"data row0 col1\" >8.4</td>\n",
       "                        <td id=\"T_aa270_row0_col2\" class=\"data row0 col2\" >60.2</td>\n",
       "                        <td id=\"T_aa270_row0_col3\" class=\"data row0 col3\" >1.8</td>\n",
       "            </tr>\n",
       "            <tr>\n",
       "                        <th id=\"T_aa270_level0_row1\" class=\"row_heading level0 row1\" >minus</th>\n",
       "                        <td id=\"T_aa270_row1_col0\" class=\"data row1 col0\" >3.0</td>\n",
       "                        <td id=\"T_aa270_row1_col1\" class=\"data row1 col1\" >7.2</td>\n",
       "                        <td id=\"T_aa270_row1_col2\" class=\"data row1 col2\" >74.1</td>\n",
       "                        <td id=\"T_aa270_row1_col3\" class=\"data row1 col3\" >15.7</td>\n",
       "            </tr>\n",
       "            <tr>\n",
       "                        <th id=\"T_aa270_level0_row2\" class=\"row_heading level0 row2\" >plus</th>\n",
       "                        <td id=\"T_aa270_row2_col0\" class=\"data row2 col0\" >53.0</td>\n",
       "                        <td id=\"T_aa270_row2_col1\" class=\"data row2 col1\" >6.6</td>\n",
       "                        <td id=\"T_aa270_row2_col2\" class=\"data row2 col2\" >38.0</td>\n",
       "                        <td id=\"T_aa270_row2_col3\" class=\"data row2 col3\" >2.4</td>\n",
       "            </tr>\n",
       "            <tr>\n",
       "                        <th id=\"T_aa270_level0_row3\" class=\"row_heading level0 row3\" >times</th>\n",
       "                        <td id=\"T_aa270_row3_col0\" class=\"data row3 col0\" >69.3</td>\n",
       "                        <td id=\"T_aa270_row3_col1\" class=\"data row3 col1\" >4.8</td>\n",
       "                        <td id=\"T_aa270_row3_col2\" class=\"data row3 col2\" >24.7</td>\n",
       "                        <td id=\"T_aa270_row3_col3\" class=\"data row3 col3\" >1.2</td>\n",
       "            </tr>\n",
       "    </tbody></table>"
      ],
      "text/plain": [
       "<pandas.io.formats.style.Styler at 0x2b302b32a60>"
      ]
     },
     "execution_count": 222,
     "metadata": {},
     "output_type": "execute_result"
    }
   ],
   "source": [
    "for Xtrain, Ttrain,Xval,Tval, Xtest, Ttest in mlfuncs.generate_partitions(X, T, n_folds, validation=True, shuffle=True, classification=True):\n",
    "    break\n",
    "df = run_these_parameters(X, T, n_folds=4,\n",
    "                         structs=[\n",
    "                            [[[10, 3, 1]], []],\n",
    "                            ],\n",
    "                          methods=['adam'], # , 'sgd'],\n",
    "                          epochs=[50],\n",
    "                          learning_rates=[0.005], #, 0.1],\n",
    "                          batch_sizes=[50])\n",
    "confusion_matrix(cnn.use(Xtest)[0], Ttest)"
   ]
  },
  {
   "cell_type": "markdown",
   "metadata": {},
   "source": [
    "Discussion:\n",
    "1. For 29.5% times we get divide value accurately in test data, 60.2 % times we get divide as plus in test data,8.4% times we get divide as minus in test data and 1.8% time we get divide as times in test data.\n",
    "2. For 7.2% times we minus accurately in test data,74.1% times we get minus as plus in test data, 15.7% times we minus as times in test data and 3.0% times we get minus as divide in test data.\n",
    "3. For 53.0% times we get plus as divide in test data, 38.0% times we get plus accurately in test data, 6.6% times we get plus as minus in test data,2.4% times we plus as times in test data.\n",
    "4. 69.3% times we get times as divide in test data, 4.8% times we get times as minus in test data, 24.7% times we get times as plus in  test data and 1.2% times we times accurately."
   ]
  },
  {
   "cell_type": "markdown",
   "metadata": {},
   "source": [
    "Experimentation for methods"
   ]
  },
  {
   "cell_type": "code",
   "execution_count": 218,
   "metadata": {},
   "outputs": [],
   "source": [
    "n_each_class = 500\n",
    "X, T = make_images(n_each_class)"
   ]
  },
  {
   "cell_type": "code",
   "execution_count": 224,
   "metadata": {},
   "outputs": [
    {
     "name": "stdout",
     "output_type": "stream",
     "text": [
      "1st iteration output\n",
      "After very run we print the Maximum Percentage validation and Layerinfo for that validation percentage\n",
      "Maximum value for Percent_Validation is 83.0\n",
      "Neural Network parameters for maximum percentage validation\n",
      "structs           [[[10, 3, 1]], []]\n",
      "methods                         adam\n",
      "epochs                            50\n",
      "learning_rates                 0.005\n",
      "batch_sizes                       50\n",
      "train %                         93.0\n",
      "val %                           83.0\n",
      "test %                          78.6\n",
      "Name: 8, dtype: object\n"
     ]
    }
   ],
   "source": [
    "print(\"1st iteration output\")\n",
    "for i in range(1):\n",
    "    df = run_these_parameters(X, T, n_folds=4,\n",
    "                         structs=[\n",
    "                             #[ [], [] ],\n",
    "                             #[ [], [10] ],\n",
    "                             [[[10, 3, 1]], []],\n",
    "                             #[[[20, 3, 2], [5, 3, 1]], [15]],\n",
    "                             #[[[8, 4, 1]], [10],[5]],\n",
    "                            ],\n",
    "                          methods=['adam'], # , 'sgd'],\n",
    "                          epochs=[50],\n",
    "                          learning_rates=[0.005], #, 0.1],\n",
    "                          batch_sizes=[50])\n",
    "    print(\"After very run we print the Maximum Percentage validation and Layerinfo for that validation percentage\")\n",
    "    MaxValidation = df.max()['val %']\n",
    "    print(\"Maximum value for Percent_Validation is\",MaxValidation)\n",
    "    MaxvalueIndex = []\n",
    "    MaxvalueIndex = df['val %'].argmax()\n",
    "    Layerinfo8 = df.iloc[MaxvalueIndex]\n",
    "    print('Neural Network parameters for maximum percentage validation')\n",
    "    print(Layerinfo8)\n",
    "    #print(\"We are excluding the test percentage so as to avoid peeking\")"
   ]
  },
  {
   "cell_type": "code",
   "execution_count": 225,
   "metadata": {},
   "outputs": [
    {
     "name": "stdout",
     "output_type": "stream",
     "text": [
      "1st iteration output\n",
      "After very run we print the Maximum Percentage validation and Layerinfo for that validation percentage\n",
      "Maximum value for Percent_Validation is 68.8\n",
      "Neural Network parameters for maximum percentage validation\n",
      "structs           [[[10, 3, 1]], []]\n",
      "methods                          sgd\n",
      "epochs                            50\n",
      "learning_rates                 0.005\n",
      "batch_sizes                       50\n",
      "train %                         66.5\n",
      "val %                           68.8\n",
      "test %                          64.2\n",
      "Name: 1, dtype: object\n"
     ]
    }
   ],
   "source": [
    "print(\"1st iteration output\")\n",
    "for i in range(1):\n",
    "    df = run_these_parameters(X, T, n_folds=4,\n",
    "                         structs=[\n",
    "                             #[ [], [] ],\n",
    "                             #[ [], [10] ],\n",
    "                             [[[10, 3, 1]], []],\n",
    "                             #[[[20, 3, 2], [5, 3, 1]], [15]],\n",
    "                             #[[[8, 4, 1]], [10],[5]],\n",
    "                            ],\n",
    "                          methods=['sgd'], # , 'sgd'],\n",
    "                          epochs=[50],\n",
    "                          learning_rates=[0.005], #, 0.1],\n",
    "                          batch_sizes=[50])\n",
    "    print(\"After very run we print the Maximum Percentage validation and Layerinfo for that validation percentage\")\n",
    "    MaxValidation = df.max()['val %']\n",
    "    print(\"Maximum value for Percent_Validation is\",MaxValidation)\n",
    "    MaxvalueIndex = []\n",
    "    MaxvalueIndex = df['val %'].argmax()\n",
    "    Layerinfo9 = df.iloc[MaxvalueIndex]\n",
    "    print('Neural Network parameters for maximum percentage validation')\n",
    "    print(Layerinfo9)\n",
    "    #print(\"We are excluding the test percentage so as to avoid peeking\")"
   ]
  },
  {
   "cell_type": "markdown",
   "metadata": {},
   "source": [
    "Discussion:\n",
    "1. From the above two iterations we can see that the ADAM performs better with a convolutional neural network than a SGD optimizer.\n",
    "2. As we can also see that as the training accuracy approaches 100% the difference between our test and validation accuracy is increasing."
   ]
  },
  {
   "cell_type": "code",
   "execution_count": 235,
   "metadata": {},
   "outputs": [
    {
     "name": "stdout",
     "output_type": "stream",
     "text": [
      "2nd iteration output\n",
      "After very run we print the Maximum Percentage validation and Layerinfo for that validation percentage\n",
      "Maximum value for Percent_Validation is 84.0\n",
      "Neural Network parameters for maximum percentage validation\n",
      "structs           [[], []]\n",
      "methods               adam\n",
      "epochs                  30\n",
      "learning_rates        0.08\n",
      "batch_sizes             10\n",
      "train %               98.1\n",
      "val %                 84.0\n",
      "test %                80.2\n",
      "Name: 10, dtype: object\n"
     ]
    }
   ],
   "source": [
    "print(\"2nd iteration output\")\n",
    "for i in range(1):\n",
    "    df = run_these_parameters(X, T, n_folds=4,\n",
    "                         structs=[\n",
    "                             [ [], [] ],\n",
    "                             #[ [], [10] ],\n",
    "                             #[[[10, 3, 1]], []],\n",
    "                             #[[[20, 3, 2], [5, 3, 1]], [15]],\n",
    "                             #[[[8, 4, 1]], [10],[5]],\n",
    "                            ],\n",
    "                          methods=['adam'], # , 'sgd'],\n",
    "                          epochs=[30],\n",
    "                          learning_rates=[0.08], #, 0.1],\n",
    "                          batch_sizes=[10])\n",
    "    print(\"After very run we print the Maximum Percentage validation and Layerinfo for that validation percentage\")\n",
    "    MaxValidation = df.max()['val %']\n",
    "    print(\"Maximum value for Percent_Validation is\",MaxValidation)\n",
    "    MaxvalueIndex = []\n",
    "    MaxvalueIndex = df['val %'].argmax()\n",
    "    Layerinfo9 = df.iloc[MaxvalueIndex]\n",
    "    print('Neural Network parameters for maximum percentage validation')\n",
    "    print(Layerinfo9)\n",
    "    #print(\"We are excluding the test percentage so as to avoid peeking\")"
   ]
  },
  {
   "cell_type": "code",
   "execution_count": 236,
   "metadata": {},
   "outputs": [
    {
     "name": "stdout",
     "output_type": "stream",
     "text": [
      "2nd iteration output\n",
      "After very run we print the Maximum Percentage validation and Layerinfo for that validation percentage\n",
      "Maximum value for Percent_Validation is 73.6\n",
      "Neural Network parameters for maximum percentage validation\n",
      "structs           [[], []]\n",
      "methods                sgd\n",
      "epochs                  30\n",
      "learning_rates        0.08\n",
      "batch_sizes             10\n",
      "train %               73.5\n",
      "val %                 73.6\n",
      "test %                67.6\n",
      "Name: 5, dtype: object\n"
     ]
    }
   ],
   "source": [
    "print(\"2nd iteration output\")\n",
    "for i in range(1):\n",
    "    df = run_these_parameters(X, T, n_folds=4,\n",
    "                         structs=[\n",
    "                             [ [], [] ],\n",
    "                             #[ [], [10] ],\n",
    "                             #[[[10, 3, 1]], []],\n",
    "                             #[[[20, 3, 2], [5, 3, 1]], [15]],\n",
    "                             #[[[8, 4, 1]], [10],[5]],\n",
    "                            ],\n",
    "                          methods=['sgd'], # , 'sgd'],\n",
    "                          epochs=[30],\n",
    "                          learning_rates=[0.08], #, 0.1],\n",
    "                          batch_sizes=[10])\n",
    "    print(\"After very run we print the Maximum Percentage validation and Layerinfo for that validation percentage\")\n",
    "    MaxValidation = df.max()['val %']\n",
    "    print(\"Maximum value for Percent_Validation is\",MaxValidation)\n",
    "    MaxvalueIndex = []\n",
    "    MaxvalueIndex = df['val %'].argmax()\n",
    "    Layerinfo9 = df.iloc[MaxvalueIndex]\n",
    "    print('Neural Network parameters for maximum percentage validation')\n",
    "    print(Layerinfo9)\n",
    "    #print(\"We are excluding the test percentage so as to avoid peeking\")"
   ]
  },
  {
   "cell_type": "markdown",
   "metadata": {},
   "source": [
    "Discussion:\n",
    "1. We can see here that a lower batch size lowers computational load and increases time response.\n",
    "2. ADAM performs even with a linear model for neural network structure."
   ]
  },
  {
   "cell_type": "code",
   "execution_count": null,
   "metadata": {},
   "outputs": [],
   "source": [
    "print(\"multiple iteration output\")\n",
    "for i in range(1):\n",
    "    df = run_these_parameters(X, T, n_folds=4,\n",
    "                         structs=[\n",
    "                             [ [], [] ],\n",
    "                             [ [], [10] ],\n",
    "                             [[[10, 3, 1]], []],\n",
    "                             [[[20, 3, 2], [5, 3, 1]], [15]],\n",
    "                             [[[8, 4, 1]], [10],[5]],\n",
    "                            ],\n",
    "                          methods=['adam','sgd'], # , 'sgd'],\n",
    "                          epochs=[10,20,30],\n",
    "                          learning_rates=[0.04,0.08,0.1], #, 0.1],\n",
    "                          batch_sizes=[5,10,15])\n",
    "    print(\"After very run we print the Maximum Percentage validation and Layerinfo for that validation percentage\")\n",
    "    MaxValidation = df.max()['val %']\n",
    "    print(\"Maximum value for Percent_Validation is\",MaxValidation)\n",
    "    MaxvalueIndex = []\n",
    "    MaxvalueIndex = df['val %'].argmax()\n",
    "    Layerinfo9 = df.iloc[MaxvalueIndex]\n",
    "    print('Neural Network parameters for maximum percentage validation')\n",
    "    print(Layerinfo9)\n",
    "    #print(\"We are excluding the test percentage so as to avoid peeking\")"
   ]
  },
  {
   "cell_type": "markdown",
   "metadata": {
    "ExecuteTime": {
     "end_time": "2020-10-16T20:44:33.927450Z",
     "start_time": "2020-10-16T20:44:33.925092Z"
    }
   },
   "source": [
    "# Grading\n",
    "\n",
    "(UPDATED Oct. 21, 9:35am, tolerance on accuracies is now larger) Download [A4grader.tar](https://www.cs.colostate.edu/~anderson/cs545/notebooks/A4grader.tar), extract `A4grader.py` before running the following cell."
   ]
  },
  {
   "cell_type": "code",
   "execution_count": 238,
   "metadata": {
    "ExecuteTime": {
     "end_time": "2021-10-18T14:52:02.691904Z",
     "start_time": "2021-10-18T14:51:57.734208Z"
    }
   },
   "outputs": [
    {
     "name": "stdout",
     "output_type": "stream",
     "text": [
      "\n",
      "======================= Code Execution =======================\n",
      "\n",
      "Extracting python code from notebook named 'Shetty-A4.ipynb' and storing in notebookcode.py\n",
      "Removing all statements that are not function or class defs or import statements.\n",
      "\n",
      "===========================================================================================\n",
      "Testing:\n",
      "\n",
      "    def make_images(n_each_class):\n",
      "        images = np.zeros((n_each_class * 2, 20, 20))  # nSamples, rows, columns\n",
      "        radii = 3 + np.random.randint(10 - 5, size=(n_each_class * 2, 1))\n",
      "        centers = np.zeros((n_each_class * 2, 2))\n",
      "        for i in range(n_each_class * 2):\n",
      "            r = radii[i, 0]\n",
      "            centers[i, :] = r + 1 + np.random.randint(18 - 2 * r, size=(1, 2))\n",
      "            x = int(centers[i, 0])\n",
      "            y = int(centers[i, 1])\n",
      "            if i < n_each_class:\n",
      "                # squares\n",
      "                images[i, x - r:x + r, y + r] = 1.0\n",
      "                images[i, x - r:x + r, y - r] = 1.0\n",
      "                images[i, x - r, y - r:y + r] = 1.0\n",
      "                images[i, x + r, y - r:y + r + 1] = 1.0\n",
      "            else:\n",
      "                # diamonds\n",
      "                images[i, range(x - r, x), range(y, y + r)] = 1.0\n",
      "                images[i, range(x - r, x), range(y, y - r, -1)] = 1.0\n",
      "                images[i, range(x, x + r + 1), range(y + r, y - 1, -1)] = 1.0\n",
      "                images[i, range(x, x + r), range(y - r, y)] = 1.0\n",
      "        T = np.array(['square'] * n_each_class + ['diamond'] * n_each_class).reshape(-1, 1)\n",
      "        n, r, c = images.shape\n",
      "        images = images.reshape(n, r, c, 1)  # add channel dimsension\n",
      "        return images, T\n",
      "\n",
      "    np.random.seed(4200)\n",
      "\n",
      "    n_each_class = 10\n",
      "    Xtrain, Ttrain = make_images(n_each_class * 2)\n",
      "    Xval, Tval = make_images(n_each_class)\n",
      "    Xtest, Ttest = make_images(n_each_class)\n",
      "    print(Xtrain.shape, Ttrain.shape, Xval.shape, Tval.shape, Xtest.shape, Ttest.shape)\n",
      "\n",
      "    struct = [ [[2, 5, 1]], [5] ]\n",
      "    n_epochs = 20\n",
      "    method= 'adam'\n",
      "    learning_rate = 0.01\n",
      "    batch_size = 5\n",
      "\n",
      "    result = train_this_partition(Xtrain, Ttrain, Xval, Tval, Xtest, Ttest,\n",
      "                                   struct, n_epochs, method, learning_rate, batch_size)\n",
      "\n",
      "(40, 20, 20, 1) (40, 1) (20, 20, 20, 1) (20, 1) (20, 20, 20, 1) (20, 1)\n",
      "\n",
      "---  20 / 20 points. train_this_partition correctly returns\n",
      " [(((2, 5, 1),), (5,)), 'adam', 20, 0.01, 5, 90.0, 70.0, 70.0]\n",
      "\n",
      "===========================================================================================\n",
      "Testing\n",
      "\n",
      "    np.random.seed(4200)\n",
      "\n",
      "    n_each_class = 10\n",
      "    Xtrain, Ttrain = make_images(n_each_class * 2)\n",
      "    Xval, Tval = make_images(n_each_class)\n",
      "    Xtest, Ttest = make_images(n_each_class)\n",
      "    print(Xtrain.shape, Ttrain.shape, Xval.shape, Tval.shape, Xtest.shape, Ttest.shape)\n",
      "\n",
      "    structs = [ [[], []],\n",
      "                [[], [10]],\n",
      "                [[[4, 5, 1], [5, 3, 1]], [5]]\n",
      "               ]\n",
      "    n_epochs = [10, 20]\n",
      "    methods= ['adam']\n",
      "    learning_rates = [0.01, 0.1]\n",
      "    batch_sizes = [5]\n",
      "\n",
      "    results = []\n",
      "    for struct in structs:\n",
      "        for epochs in n_epochs:\n",
      "            for method in methods:\n",
      "                for learning_rate in learning_rates:\n",
      "                    for batch_size in batch_sizes:\n",
      "                    \n",
      "                        # This next for loop simulates how you will use generate_partitions\n",
      "                        # in run_these_parameters\n",
      "                        for Xtrain, Ttrain, Xval, Tval, Xtest, Ttest in [[Xtrain, Ttrain, Xval, Tval, Xtest, Ttest]]:\n",
      "                            result = train_this_partition(Xtrain, Ttrain, Xval, Tval, Xtest, Ttest,\n",
      "                                                          struct, epochs, method, learning_rate, batch_size)\n",
      "                            results.append(result)\n",
      "\n",
      "(40, 20, 20, 1) (40, 1) (20, 20, 20, 1) (20, 1) (20, 20, 20, 1) (20, 1)\n",
      "\n",
      "--- 20 / 20 points. train_this_partition correctly returns\n",
      "[((), ()), 'adam', 10, 0.01, 5, 100.0, 75.0, 90.0]\n",
      "[((), ()), 'adam', 10, 0.1, 5, 100.0, 70.0, 85.0]\n",
      "[((), ()), 'adam', 20, 0.01, 5, 100.0, 75.0, 90.0]\n",
      "[((), ()), 'adam', 20, 0.1, 5, 100.0, 70.0, 85.0]\n",
      "[((), (10,)), 'adam', 10, 0.01, 5, 100.0, 65.0, 85.0]\n",
      "[((), (10,)), 'adam', 10, 0.1, 5, 100.0, 65.0, 85.0]\n",
      "[((), (10,)), 'adam', 20, 0.01, 5, 100.0, 65.0, 80.0]\n",
      "[((), (10,)), 'adam', 20, 0.1, 5, 100.0, 65.0, 80.0]\n",
      "[(((4, 5, 1), (5, 3, 1)), (5,)), 'adam', 10, 0.01, 5, 85.0, 70.0, 70.0]\n",
      "[(((4, 5, 1), (5, 3, 1)), (5,)), 'adam', 10, 0.1, 5, 92.5, 60.0, 75.0]\n",
      "[(((4, 5, 1), (5, 3, 1)), (5,)), 'adam', 20, 0.01, 5, 92.5, 65.0, 75.0]\n",
      "[(((4, 5, 1), (5, 3, 1)), (5,)), 'adam', 20, 0.1, 5, 100.0, 65.0, 75.0]\n",
      "\n",
      "===========================================================================================\n",
      "Testing\n",
      "\n",
      "    np.random.seed(4200)\n",
      "\n",
      "    n_each_class = 40\n",
      "    X, T = make_images(n_each_class * 2)\n",
      "\n",
      "    structs = [ [[], []],\n",
      "                [[], [10]],\n",
      "                [[[4, 5, 1], [5, 3, 1]], [5]]\n",
      "               ]\n",
      "    methods= ['adam']\n",
      "    n_epochs = [10]\n",
      "    learning_rates = [0.01, 0.1]\n",
      "    batch_sizes = [-1, 5]  # -1 means train on all training samples, not multiple batches\n",
      "    n_folds = 3\n",
      "    \n",
      "    print('This may take several minutes...')\n",
      "    \n",
      "    df = run_these_parameters(X, T, n_folds,\n",
      "                              structs, methods, n_epochs, learning_rates, batch_sizes)\n",
      "\n",
      "    # Here is a function you can use to print all columns and rows of a DataFrame\n",
      "    def print_df(df):\n",
      "        with pandas.option_context('display.width', 100,\n",
      "                                   'display.max_rows', None,\n",
      "                                   'display.max_columns', None):\n",
      "            print(df)\n",
      "\n",
      "This may take several minutes...\n",
      "\n",
      "-- 10 / 10 points. DataFrame returns has correct shape, (72, 8)\n",
      "\n",
      "--- 20 / 20 points. Returned DataFrame has correct percent means of [93.15857753 76.29159035 76.44803114] :\n",
      "\n",
      "============================================================\n",
      "C:\\Users\\vishalsh\\Downloads\\A4 Execution Grade is 70 / 70\n",
      "============================================================\n",
      "\n",
      "\n",
      "__ / 5 points.  Discuss what you observe after each call to run_these_parameters with\n",
      "         at least two sentences for each run.\n",
      "\n",
      "__ / 5 points.  Discuss which parameter values seem to work the best according to\n",
      "         the validation accuracy.\n",
      "\n",
      "__ / 5 points.  Discuss how well the validation and test accuracies equal each other\n",
      "          and what you might do to make them more equal.\n",
      "\n",
      "__ / 5 points.  Show and discuss a confusion matrix on test data for a network trained\n",
      "          with your best parameter values.\n",
      "\n",
      "__ / 10 points.  For each method, try various hidden layer structures, learning rates,\n",
      "          and numbers of epochs. Use the validation percent accuracy to pick the best\n",
      "          hidden layers, learning rates and numbers of epochs for each method. Report\n",
      "          training, validation and test accuracy for your best validation results\n",
      "          for each of the three methods.\n",
      "\n",
      "\n",
      "======================================================================\n",
      "C:\\Users\\vishalsh\\Downloads\\A4 Results and Discussion Grade is ___ / 30\n",
      "======================================================================\n",
      "\n",
      "======================================================================\n",
      "C:\\Users\\vishalsh\\Downloads\\A4 FINAL GRADE is  _  / 100\n",
      "======================================================================\n",
      "\n",
      "Extra Credit: \n",
      "Repeat the above experiment using a convolutional neural network defined in Pytorch.\n",
      "Implement this yourself by directly calling torch.nn functions.\n",
      "\n",
      "\n",
      " C:\\Users\\vishalsh\\Downloads\\A4 EXTRA CREDIT is 0 / 1\n"
     ]
    },
    {
     "data": {
      "text/plain": [
       "<Figure size 432x288 with 0 Axes>"
      ]
     },
     "metadata": {},
     "output_type": "display_data"
    }
   ],
   "source": [
    "%run -i A4grader.py"
   ]
  },
  {
   "cell_type": "markdown",
   "metadata": {},
   "source": [
    "# Extra Credit\n",
    "\n",
    "Repeat the above experiment using a convolutional neural network defined in `Pytorch`.  Implement this yourself by directly calling `torch.nn` functions."
   ]
  },
  {
   "cell_type": "code",
   "execution_count": null,
   "metadata": {},
   "outputs": [],
   "source": []
  }
 ],
 "metadata": {
  "kernelspec": {
   "display_name": "Python 3",
   "language": "python",
   "name": "python3"
  },
  "language_info": {
   "codemirror_mode": {
    "name": "ipython",
    "version": 3
   },
   "file_extension": ".py",
   "mimetype": "text/x-python",
   "name": "python",
   "nbconvert_exporter": "python",
   "pygments_lexer": "ipython3",
   "version": "3.8.8"
  },
  "toc": {
   "base_numbering": 1,
   "nav_menu": {},
   "number_sections": false,
   "sideBar": true,
   "skip_h1_title": false,
   "title_cell": "Table of Contents",
   "title_sidebar": "Contents",
   "toc_cell": true,
   "toc_position": {},
   "toc_section_display": true,
   "toc_window_display": false
  }
 },
 "nbformat": 4,
 "nbformat_minor": 4
}
