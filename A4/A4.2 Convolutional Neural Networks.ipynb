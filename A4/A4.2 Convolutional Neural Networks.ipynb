{
 "cells": [
  {
   "cell_type": "markdown",
   "metadata": {
    "toc": true
   },
   "source": [
    "<h1>Table of Contents<span class=\"tocSkip\"></span></h1>\n",
    "<div class=\"toc\"><ul class=\"toc-item\"><li><span><a href=\"#Convolutional-Neural-Networks\" data-toc-modified-id=\"Convolutional-Neural-Networks-1\">Convolutional Neural Networks</a></span><ul class=\"toc-item\"><li><span><a href=\"#Requirements\" data-toc-modified-id=\"Requirements-1.1\">Requirements</a></span></li></ul></li><li><span><a href=\"#Experiments\" data-toc-modified-id=\"Experiments-2\">Experiments</a></span></li><li><span><a href=\"#Grading\" data-toc-modified-id=\"Grading-3\">Grading</a></span></li><li><span><a href=\"#Extra-Credit\" data-toc-modified-id=\"Extra-Credit-4\">Extra Credit</a></span></li></ul></div>"
   ]
  },
  {
   "cell_type": "markdown",
   "metadata": {},
   "source": [
    "# Convolutional Neural Networks\n",
    "\n",
    "For this assignment, use the `NeuralNetworkClassifier_CNN` class defined for you in `neuralnetworks_A4.py` contained in [A4code.tar](https://www.cs.colostate.edu/~anderson/cs545/notebooks/A4code.tar).  This tar file also includes other functions you will use here, contained in `mlfuncs.py`."
   ]
  },
  {
   "cell_type": "code",
   "execution_count": 1,
   "metadata": {
    "ExecuteTime": {
     "end_time": "2021-10-15T23:41:20.815440Z",
     "start_time": "2021-10-15T23:41:20.802779Z"
    }
   },
   "outputs": [],
   "source": [
    "%load_ext autoreload\n",
    "%autoreload 2"
   ]
  },
  {
   "cell_type": "code",
   "execution_count": 109,
   "metadata": {
    "ExecuteTime": {
     "end_time": "2021-10-15T23:41:21.563150Z",
     "start_time": "2021-10-15T23:41:21.349591Z"
    }
   },
   "outputs": [],
   "source": [
    "import numpy as np\n",
    "import matplotlib.pyplot as plt\n",
    "%matplotlib inline\n",
    "\n",
    "import neuralnetworks_A4 as nn\n",
    "import mlfuncs"
   ]
  },
  {
   "cell_type": "markdown",
   "metadata": {},
   "source": [
    "## Requirements"
   ]
  },
  {
   "cell_type": "markdown",
   "metadata": {},
   "source": [
    "First, look carefully at the `neuralnetworks_A4.py` and `optimizers.py` code provided above.  Some changes have been made in each. The most significant change is that the `train` function now accepts a `batch_size` argument so that the gradients we calculate don't have to be over the whole training set.  Recall that we can easily run out of memory with convolutional networks if we calculate gradients over the whole training set.  Also, `'scg'` is not a valid optimizer in this version of the code.\n",
    "\n",
    "Implement the following functions:\n",
    "\n",
    "    dataframe_result = run_these_parameters(X, T, n_folds,\n",
    "                                            layers_structs, \n",
    "                                            methods, \n",
    "                                            epochs, \n",
    "                                            learning_rates.\n",
    "                                            batch_sizes)\n",
    "                                              \n",
    "    result = train_this_partition(Xtrain, Ttrain, Xval, Tval, Xtest, Ttest,\n",
    "                                  struct,\n",
    "                                  n_epochs, \n",
    "                                  method, \n",
    "                                  learning_rate,\n",
    "                                  batch_size)\n",
    "                                  \n",
    "The file `mlfuncs.py` contains several functions you will need to define these two required functions.  They are illustrated in the following examples."
   ]
  },
  {
   "cell_type": "code",
   "execution_count": 3,
   "metadata": {
    "ExecuteTime": {
     "end_time": "2021-10-15T23:41:22.456416Z",
     "start_time": "2021-10-15T23:41:22.440139Z"
    }
   },
   "outputs": [
    {
     "data": {
      "text/plain": [
       "60.0"
      ]
     },
     "execution_count": 3,
     "metadata": {},
     "output_type": "execute_result"
    }
   ],
   "source": [
    "Y = np.array([0, 1, 1, 0, 0]).reshape(-1, 1)\n",
    "T = np.array([0, 1, 0, 1, 0]).reshape(-1, 1)\n",
    "mlfuncs.percent_equal(Y, T)"
   ]
  },
  {
   "cell_type": "markdown",
   "metadata": {},
   "source": [
    "The purpose of that one is obvious.  This next one is needed for storing your network stucture in a pandas DataFrame.  The structure must be an immutable data type.  A list is mutable, but a tuple is not.  So we must make sure all parts of the network structure specification is composed of tuples, not lists."
   ]
  },
  {
   "cell_type": "code",
   "execution_count": 4,
   "metadata": {
    "ExecuteTime": {
     "end_time": "2021-10-15T23:41:23.819633Z",
     "start_time": "2021-10-15T23:41:23.811752Z"
    }
   },
   "outputs": [
    {
     "data": {
      "text/plain": [
       "((), (10,))"
      ]
     },
     "execution_count": 4,
     "metadata": {},
     "output_type": "execute_result"
    }
   ],
   "source": [
    "struct = [ [], [10]]\n",
    "mlfuncs.list_to_tuple(struct)"
   ]
  },
  {
   "cell_type": "code",
   "execution_count": 5,
   "metadata": {
    "ExecuteTime": {
     "end_time": "2021-10-15T23:41:24.071779Z",
     "start_time": "2021-10-15T23:41:24.047492Z"
    }
   },
   "outputs": [
    {
     "data": {
      "text/plain": [
       "(((2, 4, 1), (5, 4, 2)), (20, 10))"
      ]
     },
     "execution_count": 5,
     "metadata": {},
     "output_type": "execute_result"
    }
   ],
   "source": [
    "struct = [ [[2, 4, 1], [5, 4, 2]], [20, 10]]\n",
    "mlfuncs.list_to_tuple(struct)"
   ]
  },
  {
   "cell_type": "markdown",
   "metadata": {},
   "source": [
    "And here is a function that generates all training, validation, and testing partitions given the data and the number of folds.  It creates the partitions in a stratified manner, meaning all folds will have close to the same proportion of samples from each class."
   ]
  },
  {
   "cell_type": "code",
   "execution_count": 6,
   "metadata": {
    "ExecuteTime": {
     "end_time": "2021-10-15T23:41:24.546767Z",
     "start_time": "2021-10-15T23:41:24.537570Z"
    }
   },
   "outputs": [
    {
     "data": {
      "text/plain": [
       "(array([[ 0,  1],\n",
       "        [ 2,  3],\n",
       "        [ 4,  5],\n",
       "        [ 6,  7],\n",
       "        [ 8,  9],\n",
       "        [10, 11]]),\n",
       " array([[0],\n",
       "        [0],\n",
       "        [1],\n",
       "        [0],\n",
       "        [1],\n",
       "        [1]]))"
      ]
     },
     "execution_count": 6,
     "metadata": {},
     "output_type": "execute_result"
    }
   ],
   "source": [
    "X = np.arange(12).reshape(6, 2)\n",
    "T = np.array([0, 0, 1, 0, 1, 1]).reshape(-1, 1)\n",
    "X, T"
   ]
  },
  {
   "cell_type": "code",
   "execution_count": 7,
   "metadata": {
    "ExecuteTime": {
     "end_time": "2021-10-15T23:41:25.607634Z",
     "start_time": "2021-10-15T23:41:25.592463Z"
    }
   },
   "outputs": [
    {
     "name": "stdout",
     "output_type": "stream",
     "text": [
      "[[6 7]\n",
      " [8 9]] \n",
      " [[0]\n",
      " [1]] \n",
      " [[2 3]\n",
      " [4 5]] \n",
      " [[0]\n",
      " [1]] \n",
      " [[ 0  1]\n",
      " [10 11]] \n",
      " [[0]\n",
      " [1]]\n",
      "\n",
      "[[2 3]\n",
      " [4 5]] \n",
      " [[0]\n",
      " [1]] \n",
      " [[6 7]\n",
      " [8 9]] \n",
      " [[0]\n",
      " [1]] \n",
      " [[ 0  1]\n",
      " [10 11]] \n",
      " [[0]\n",
      " [1]]\n",
      "\n",
      "[[6 7]\n",
      " [8 9]] \n",
      " [[0]\n",
      " [1]] \n",
      " [[ 0  1]\n",
      " [10 11]] \n",
      " [[0]\n",
      " [1]] \n",
      " [[2 3]\n",
      " [4 5]] \n",
      " [[0]\n",
      " [1]]\n",
      "\n",
      "[[ 0  1]\n",
      " [10 11]] \n",
      " [[0]\n",
      " [1]] \n",
      " [[6 7]\n",
      " [8 9]] \n",
      " [[0]\n",
      " [1]] \n",
      " [[2 3]\n",
      " [4 5]] \n",
      " [[0]\n",
      " [1]]\n",
      "\n",
      "[[2 3]\n",
      " [4 5]] \n",
      " [[0]\n",
      " [1]] \n",
      " [[ 0  1]\n",
      " [10 11]] \n",
      " [[0]\n",
      " [1]] \n",
      " [[6 7]\n",
      " [8 9]] \n",
      " [[0]\n",
      " [1]]\n",
      "\n",
      "[[ 0  1]\n",
      " [10 11]] \n",
      " [[0]\n",
      " [1]] \n",
      " [[2 3]\n",
      " [4 5]] \n",
      " [[0]\n",
      " [1]] \n",
      " [[6 7]\n",
      " [8 9]] \n",
      " [[0]\n",
      " [1]]\n",
      "\n"
     ]
    }
   ],
   "source": [
    "for Xtrain, Ttrain, Xval, Tval, Xtest, Ttest in mlfuncs.generate_partitions(X, T, n_folds=3, classification=True):\n",
    "        print(Xtrain, '\\n', Ttrain, '\\n', Xval, '\\n', Tval, '\\n', Xtest, '\\n', Ttest)\n",
    "        print()"
   ]
  },
  {
   "cell_type": "markdown",
   "metadata": {},
   "source": [
    "The function `run_these_parameters` loops through all values in `layers_structs`, `methods`, `epochs`, `learning rates` and `batch_sizes`.  For each set of parameter values, it loops through all ways of creating training, validation, and testing partitions using `n_folds`.  For each of these repetitions, `train_this_partition` is called to create the specified convolutional neural network, trains it, collects the percent correct on training, validation, and test sets, and returns a list of parameter values and the three accuracies.  `run_these_parameters` returns all of these results as a `pandas` DataFrame with column names `('struct', 'method', 'n_epochs', 'learning_rate', 'batch_size', 'train %', 'val %', 'test %')`. \n",
    "\n",
    "The resulting DataFrame results stored in variable `df` can be summarized with a statement like\n",
    "\n",
    "      df.groupby(['struct', 'method', 'n_epochs', 'learning_rate',\n",
    "                  'batch_size']).mean())"
   ]
  },
  {
   "cell_type": "code",
   "execution_count": null,
   "metadata": {},
   "outputs": [],
   "source": [
    "##train_this_partition \n",
    "def train_this_partition(Xtrain, Ttrain, Xval, Tval, Xtest, Ttest,\n",
    "                              struct, n_epochs, method, learning_rate, batch_size):\n",
    "    print(struct)\n",
    "    classes = np.unique(T)\n",
    "    cnn = nn.NeuralNetworkClassifier_CNN([28, 28, 1], [(4, 8, 2)], [5], classes)\n",
    "    cnn.train(Xtrain, Ttrain, 100, 'adam',0.9)\n",
    "    Ytest, _ = cnn.use(Xtrain)\n",
    "    Ytest, _ = cnn.use(Xtest)\n",
    "    Ytest, _ = cnn.use(Xval)\n",
    "    print(cnn)\n",
    "    plt.plot(cnn.get_error_trace())\n",
    "    print(f'MNIST CNN Test {100 * np.mean(Ytest == Ttest)} % correct, with {cnn.all_weights.size} weights')\n",
    "    return "
   ]
  },
  {
   "cell_type": "code",
   "execution_count": null,
   "metadata": {},
   "outputs": [],
   "source": [
    "##run_these_parameters\n",
    "def run_these_parameters(X, T, n_folds=4,\n",
    "                         structs=[\n",
    "                             # [ [], [] ],\n",
    "                             # [ [], [10] ],\n",
    "                             [[[5, 3, 1]], []],\n",
    "                             # [[[20, 3, 2], [5, 3, 1]], [20]],\n",
    "                            ],\n",
    "                          methods=['adam'], # , 'sgd'],\n",
    "                          epochs=[10, 20],\n",
    "                          learning_rates=[0.01], #, 0.1],\n",
    "                          batch_sizes=[-1, 10, 50, 100]):\n",
    "    #Pandas df creation\n",
    "        ## Call train_this_partition\n",
    "                            output = train_this_partition(train_this_partition(Xtrain, Ttrain, Xval, Tval, Xtest, Ttest,\n",
    "                              struct, n_epochs, method, learning_rate, batch_size))\n",
    "        \n",
    "        \n",
    "        \n",
    "    "
   ]
  },
  {
   "cell_type": "markdown",
   "metadata": {},
   "source": [
    "Define the two required functions in code cells above this cell.\n",
    "\n",
    "The following examples show examples of how they should run, as"
   ]
  },
  {
   "cell_type": "code",
   "execution_count": 8,
   "metadata": {
    "ExecuteTime": {
     "end_time": "2021-10-15T23:41:31.175012Z",
     "start_time": "2021-10-15T23:41:30.389530Z"
    }
   },
   "outputs": [
    {
     "data": {
      "image/png": "[encoded data removed]",
      "text/plain": [
       "<Figure size 432x288 with 40 Axes>"
      ]
     },
     "metadata": {
      "needs_background": "light"
     },
     "output_type": "display_data"
    }
   ],
   "source": [
    "def make_images(n_each_class):\n",
    "    '''Make 20x20 black and white images with diamonds or squares for the two classes, as line drawings.'''\n",
    "    images = np.zeros((n_each_class * 4, 20, 20))  # nSamples, rows, columns\n",
    "    radii = 3 + np.random.randint(10 - 5, size=(n_each_class * 4, 1))\n",
    "    centers = np.zeros((n_each_class * 4, 2))\n",
    "    for i in range(n_each_class * 4):\n",
    "        r = radii[i, 0]\n",
    "        centers[i, :] = r + 1 + np.random.randint(18 - 2 * r, size=(1, 2))\n",
    "        x = int(centers[i, 0])\n",
    "        y = int(centers[i, 1])\n",
    "        if i < n_each_class:\n",
    "            # plus\n",
    "            images[i, x - r:x + r, y] = 1.0\n",
    "            images[i, x, y - r:y + r] = 1.0\n",
    "        elif i < n_each_class * 2:\n",
    "            # minus\n",
    "            images[i, x, y - r:y + r] = 1.0\n",
    "        elif i < n_each_class * 3:\n",
    "            # x\n",
    "            images[i, range(x - r, x + r), range(y - r, y + r)] = 1.0\n",
    "            images[i, range(x - r, x + r), range(y + r, y - r, -1)] = 1.0\n",
    "        else:\n",
    "            # /\n",
    "            images[i, range(x - r, x + r), range(y - r, y + r)] = 1.0\n",
    "\n",
    "    T = np.array(['plus'] * n_each_class + ['minus'] * n_each_class + ['times'] * n_each_class + ['divide'] * n_each_class).reshape(-1, 1)\n",
    "\n",
    "    n, r, c = images.shape\n",
    "    images = images.reshape(n, r, c, 1)  # add channel dimsension\n",
    "    return images, T\n",
    "\n",
    "n_each_class = 10\n",
    "X, T = make_images(n_each_class)\n",
    "p = 0\n",
    "for i in range(4 * n_each_class):\n",
    "    p += 1\n",
    "    plt.subplot(4, n_each_class, p)\n",
    "    plt.imshow(-X[i, :, :, 0], cmap='gray')\n",
    "    plt.axis('off')"
   ]
  },
  {
   "cell_type": "code",
   "execution_count": 9,
   "metadata": {
    "ExecuteTime": {
     "end_time": "2021-10-15T23:41:32.073364Z",
     "start_time": "2021-10-15T23:41:32.019274Z"
    }
   },
   "outputs": [
    {
     "data": {
      "text/plain": [
       "((2000, 20, 20, 1), (2000, 1))"
      ]
     },
     "execution_count": 9,
     "metadata": {},
     "output_type": "execute_result"
    }
   ],
   "source": [
    "n_each_class = 500\n",
    "X, T = make_images(n_each_class)\n",
    "X.shape,T.shape"
   ]
  },
  {
   "cell_type": "markdown",
   "metadata": {},
   "source": [
    "The function run_these_parameters loops through all values in layers_structs, methods, epochs, learning rates and batch_sizes. For each set of parameter values, it loops through all ways of creating training, validation, and testing partitions using n_folds. For each of these repetitions, train_this_partition is called to create the specified convolutional neural network, trains it, collects the percent correct on training, validation, and test sets, and returns a list of parameter values and the three accuracies. run_these_parameters returns all of these results as a pandas DataFrame with column names ('struct', 'method', 'n_epochs', 'learning_rate', 'batch_size', 'train %', 'val %', 'test %').\n",
    "\n",
    "The resulting DataFrame results stored in variable df can be summarized with a statement like\n",
    "\n",
    "  df.groupby(['struct', 'method', 'n_epochs', 'learning_rate',\n",
    "              'batch_size']).mean())"
   ]
  },
  {
   "cell_type": "code",
   "execution_count": 10,
   "metadata": {},
   "outputs": [],
   "source": [
    "structs = [ [[2, 5, 1]], [5] ]\n",
    "n_epochs = 10\n",
    "method= ['adam','sgd']\n",
    "learning_rate = [0.01]\n",
    "batch_size = 10\n",
    "\n",
    "n_samples = X.shape[0]\n",
    "rows = np.arange(n_samples)\n",
    "np.random.shuffle(rows)\n",
    "ntrain = int(n_samples * 0.8)\n",
    "nval = int(n_samples * 0.1)\n",
    "Xtrain = X[rows[:ntrain], ...]\n",
    "Ttrain = T[rows[:ntrain], ...]\n",
    "Xval = X[rows[ntrain:ntrain+nval], ...]\n",
    "Tval = T[rows[ntrain:ntrain+nval], ...]\n",
    "Xtest = X[rows[ntrain+nval:], ...]\n",
    "Ttest = T[rows[ntrain+nval:], ...]"
   ]
  },
  {
   "cell_type": "code",
   "execution_count": 32,
   "metadata": {},
   "outputs": [],
   "source": [
    "##run_these_parameters\n",
    "import pandas as pd\n",
    "from itertools import product\n",
    "import itertools"
   ]
  },
  {
   "cell_type": "code",
   "execution_count": 57,
   "metadata": {},
   "outputs": [],
   "source": [
    "structs=[\n",
    "                             # [ [], [] ],\n",
    "                             # [ [], [10] ],\n",
    "                             [[[5, 3, 1]], []],\n",
    "                             # [[[20, 3, 2], [5, 3, 1]], [20]],\n",
    "                            ],\n",
    "methods=['adam','sgd','p'], # , 'sgd'],\n",
    "epochs=[10, 20],\n",
    "learning_rates=[0.01], #, 0.1],\n",
    "batch_sizes=[-1, 10, 50, 100]"
   ]
  },
  {
   "cell_type": "code",
   "execution_count": 34,
   "metadata": {},
   "outputs": [
    {
     "name": "stdout",
     "output_type": "stream",
     "text": [
      "1 1 1 1 4\n"
     ]
    }
   ],
   "source": [
    "la,lb,lc,ld,le = len(structs),len(methods),len(epochs),len(learning_rates),len(batch_sizes)\n",
    "# now find the max\n",
    "print(la,lb,lc,ld,le)\n",
    "max_len = max(la,lb,lc,ld,le)"
   ]
  },
  {
   "cell_type": "code",
   "execution_count": 35,
   "metadata": {},
   "outputs": [],
   "source": [
    "def tupletolistandmaxlen(structs,method,epochs,learning_rates,batch_sizes):\n",
    "    la,lb,lc,ld,le = len(structs),len(method),len(epochs),len(learning_rates),len(batch_sizes)\n",
    "    # now find the max\n",
    "    max_len = max(la,lb,lc,ld,le)\n",
    "    if not max_len == la:\n",
    "      structs = list(structs)\n",
    "      structs.extend(['']*(max_len-la))\n",
    "    if not max_len == lb:\n",
    "      methods = list(methods)\n",
    "      methods.extend(['']*(max_len-lb))\n",
    "    if not max_len == lc:\n",
    "      epochs = list(epochs)  \n",
    "      epochs.extend(['']*(max_len-lc))\n",
    "    if not max_len == ld:\n",
    "      learning_rates = list(learning_rates)\n",
    "      learning_rates.extend(['']*(max_len-ld))\n",
    "    if not max_len == le:\n",
    "      batch_sizes = list(batch_sizes)  \n",
    "      batch_sizes.extend(['']*(max_len-le))\n",
    "    structs = tuple(structs)\n",
    "    methods = tuple(methods)\n",
    "    epochs = tuple(epochs)\n",
    "    learning_rates = tuple(learning_rates)\n",
    "    batch_sizes = tuple(batch_sizes)\n",
    "    return structs,method,epochs,learning_rates,batch_sizes"
   ]
  },
  {
   "cell_type": "code",
   "execution_count": 56,
   "metadata": {},
   "outputs": [
    {
     "ename": "AttributeError",
     "evalue": "'tuple' object has no attribute 'extend'",
     "output_type": "error",
     "traceback": [
      "\u001b[1;31m---------------------------------------------------------------------------\u001b[0m",
      "\u001b[1;31mAttributeError\u001b[0m                            Traceback (most recent call last)",
      "\u001b[1;32m<ipython-input-56-ae101647fa9f>\u001b[0m in \u001b[0;36m<module>\u001b[1;34m\u001b[0m\n\u001b[0;32m      1\u001b[0m \u001b[1;32mif\u001b[0m \u001b[1;32mnot\u001b[0m \u001b[0mmax_len\u001b[0m \u001b[1;33m==\u001b[0m \u001b[0mla\u001b[0m\u001b[1;33m:\u001b[0m\u001b[1;33m\u001b[0m\u001b[1;33m\u001b[0m\u001b[0m\n\u001b[0;32m      2\u001b[0m   \u001b[1;31m#structs = list(structs)\u001b[0m\u001b[1;33m\u001b[0m\u001b[1;33m\u001b[0m\u001b[1;33m\u001b[0m\u001b[0m\n\u001b[1;32m----> 3\u001b[1;33m   \u001b[0mstructs\u001b[0m\u001b[1;33m.\u001b[0m\u001b[0mextend\u001b[0m\u001b[1;33m(\u001b[0m\u001b[1;33m[\u001b[0m\u001b[1;34m''\u001b[0m\u001b[1;33m]\u001b[0m\u001b[1;33m*\u001b[0m\u001b[1;33m(\u001b[0m\u001b[0mmax_len\u001b[0m\u001b[1;33m-\u001b[0m\u001b[0mla\u001b[0m\u001b[1;33m)\u001b[0m\u001b[1;33m)\u001b[0m\u001b[1;33m\u001b[0m\u001b[1;33m\u001b[0m\u001b[0m\n\u001b[0m\u001b[0;32m      4\u001b[0m \u001b[1;32mif\u001b[0m \u001b[1;32mnot\u001b[0m \u001b[0mmax_len\u001b[0m \u001b[1;33m==\u001b[0m \u001b[0mlb\u001b[0m\u001b[1;33m:\u001b[0m\u001b[1;33m\u001b[0m\u001b[1;33m\u001b[0m\u001b[0m\n\u001b[0;32m      5\u001b[0m   \u001b[0mmethods\u001b[0m \u001b[1;33m=\u001b[0m \u001b[0mlist\u001b[0m\u001b[1;33m(\u001b[0m\u001b[0mmethods\u001b[0m\u001b[1;33m)\u001b[0m\u001b[1;33m\u001b[0m\u001b[1;33m\u001b[0m\u001b[0m\n",
      "\u001b[1;31mAttributeError\u001b[0m: 'tuple' object has no attribute 'extend'"
     ]
    }
   ],
   "source": [
    "if not max_len == la:\n",
    "  #structs = list(structs)\n",
    "  structs.extend(['']*(max_len-la))\n",
    "if not max_len == lb:\n",
    "  methods = list(methods)\n",
    "  methods.extend(['']*(max_len-lb))\n",
    "if not max_len == lc:\n",
    "  epochs = list(epochs)  \n",
    "  epochs.extend(['']*(max_len-lc))\n",
    "if not max_len == ld:\n",
    "  learning_rates = list(learning_rates)\n",
    "  learning_rates.extend(['']*(max_len-ld))\n",
    "if not max_len == le:\n",
    "  batch_sizes = list(batch_sizes)  \n",
    "  batch_sizes.extend(['']*(max_len-le))\n",
    "#structs = tuple(structs)\n",
    "#methods = tuple(methods)\n",
    "#epochs = tuple(epochs)\n",
    "#learning_rates = tuple(learning_rates)\n",
    "#batch_sizes = tuple(batch_sizes)\n",
    "print(structs,methods,epochs,learning_rates,batch_sizes)"
   ]
  },
  {
   "cell_type": "code",
   "execution_count": 37,
   "metadata": {},
   "outputs": [
    {
     "name": "stdout",
     "output_type": "stream",
     "text": [
      "[[[[[5, 3, 1]], []]], '', '', '']\n"
     ]
    }
   ],
   "source": [
    "print(structs)"
   ]
  },
  {
   "cell_type": "code",
   "execution_count": 38,
   "metadata": {
    "scrolled": true
   },
   "outputs": [
    {
     "name": "stdout",
     "output_type": "stream",
     "text": [
      "4 4 4 4 4\n"
     ]
    }
   ],
   "source": [
    "print(len(structs),len(methods),len(epochs),len(learning_rates),len(batch_sizes))"
   ]
  },
  {
   "cell_type": "code",
   "execution_count": 107,
   "metadata": {},
   "outputs": [
    {
     "name": "stdout",
     "output_type": "stream",
     "text": [
      "<class 'tuple'>\n",
      "<class 'tuple'>\n"
     ]
    },
    {
     "data": {
      "text/html": [
       "<div>\n",
       "<style scoped>\n",
       "    .dataframe tbody tr th:only-of-type {\n",
       "        vertical-align: middle;\n",
       "    }\n",
       "\n",
       "    .dataframe tbody tr th {\n",
       "        vertical-align: top;\n",
       "    }\n",
       "\n",
       "    .dataframe thead th {\n",
       "        text-align: right;\n",
       "    }\n",
       "</style>\n",
       "<table border=\"1\" class=\"dataframe\">\n",
       "  <thead>\n",
       "    <tr style=\"text-align: right;\">\n",
       "      <th></th>\n",
       "      <th>0</th>\n",
       "      <th>1</th>\n",
       "      <th>2</th>\n",
       "      <th>3</th>\n",
       "      <th>4</th>\n",
       "    </tr>\n",
       "  </thead>\n",
       "  <tbody>\n",
       "    <tr>\n",
       "      <th>0</th>\n",
       "      <td>[[[5, 3, 1]], []]</td>\n",
       "      <td>adam</td>\n",
       "      <td>-1</td>\n",
       "      <td>0.01</td>\n",
       "      <td>-1</td>\n",
       "    </tr>\n",
       "    <tr>\n",
       "      <th>1</th>\n",
       "      <td>[[[5, 3, 1]], []]</td>\n",
       "      <td>adam</td>\n",
       "      <td>-1</td>\n",
       "      <td>0.01</td>\n",
       "      <td>10</td>\n",
       "    </tr>\n",
       "    <tr>\n",
       "      <th>2</th>\n",
       "      <td>[[[5, 3, 1]], []]</td>\n",
       "      <td>adam</td>\n",
       "      <td>-1</td>\n",
       "      <td>0.01</td>\n",
       "      <td>50</td>\n",
       "    </tr>\n",
       "    <tr>\n",
       "      <th>3</th>\n",
       "      <td>[[[5, 3, 1]], []]</td>\n",
       "      <td>adam</td>\n",
       "      <td>-1</td>\n",
       "      <td>0.01</td>\n",
       "      <td>100</td>\n",
       "    </tr>\n",
       "    <tr>\n",
       "      <th>4</th>\n",
       "      <td>[[[5, 3, 1]], []]</td>\n",
       "      <td>adam</td>\n",
       "      <td>10</td>\n",
       "      <td>0.01</td>\n",
       "      <td>-1</td>\n",
       "    </tr>\n",
       "    <tr>\n",
       "      <th>...</th>\n",
       "      <td>...</td>\n",
       "      <td>...</td>\n",
       "      <td>...</td>\n",
       "      <td>...</td>\n",
       "      <td>...</td>\n",
       "    </tr>\n",
       "    <tr>\n",
       "      <th>59</th>\n",
       "      <td>[[[20, 3, 2], [5, 3, 1]], [20]]</td>\n",
       "      <td>sgd</td>\n",
       "      <td>20</td>\n",
       "      <td>0.01</td>\n",
       "      <td>100</td>\n",
       "    </tr>\n",
       "    <tr>\n",
       "      <th>60</th>\n",
       "      <td>[[[20, 3, 2], [5, 3, 1]], [20]]</td>\n",
       "      <td>sgd</td>\n",
       "      <td>30</td>\n",
       "      <td>0.01</td>\n",
       "      <td>-1</td>\n",
       "    </tr>\n",
       "    <tr>\n",
       "      <th>61</th>\n",
       "      <td>[[[20, 3, 2], [5, 3, 1]], [20]]</td>\n",
       "      <td>sgd</td>\n",
       "      <td>30</td>\n",
       "      <td>0.01</td>\n",
       "      <td>10</td>\n",
       "    </tr>\n",
       "    <tr>\n",
       "      <th>62</th>\n",
       "      <td>[[[20, 3, 2], [5, 3, 1]], [20]]</td>\n",
       "      <td>sgd</td>\n",
       "      <td>30</td>\n",
       "      <td>0.01</td>\n",
       "      <td>50</td>\n",
       "    </tr>\n",
       "    <tr>\n",
       "      <th>63</th>\n",
       "      <td>[[[20, 3, 2], [5, 3, 1]], [20]]</td>\n",
       "      <td>sgd</td>\n",
       "      <td>30</td>\n",
       "      <td>0.01</td>\n",
       "      <td>100</td>\n",
       "    </tr>\n",
       "  </tbody>\n",
       "</table>\n",
       "<p>64 rows × 5 columns</p>\n",
       "</div>"
      ],
      "text/plain": [
       "                                  0     1   2     3    4\n",
       "0                 [[[5, 3, 1]], []]  adam  -1  0.01   -1\n",
       "1                 [[[5, 3, 1]], []]  adam  -1  0.01   10\n",
       "2                 [[[5, 3, 1]], []]  adam  -1  0.01   50\n",
       "3                 [[[5, 3, 1]], []]  adam  -1  0.01  100\n",
       "4                 [[[5, 3, 1]], []]  adam  10  0.01   -1\n",
       "..                              ...   ...  ..   ...  ...\n",
       "59  [[[20, 3, 2], [5, 3, 1]], [20]]   sgd  20  0.01  100\n",
       "60  [[[20, 3, 2], [5, 3, 1]], [20]]   sgd  30  0.01   -1\n",
       "61  [[[20, 3, 2], [5, 3, 1]], [20]]   sgd  30  0.01   10\n",
       "62  [[[20, 3, 2], [5, 3, 1]], [20]]   sgd  30  0.01   50\n",
       "63  [[[20, 3, 2], [5, 3, 1]], [20]]   sgd  30  0.01  100\n",
       "\n",
       "[64 rows x 5 columns]"
      ]
     },
     "execution_count": 107,
     "metadata": {},
     "output_type": "execute_result"
    }
   ],
   "source": [
    "#FIXED\n",
    "structs=[\n",
    "                             # [ [], [] ],\n",
    "                             # [ [], [10] ],\n",
    "                             [[[5, 3, 1]], []],\n",
    "                              [[[20, 3, 2], [5, 3, 1]], [20]],\n",
    "                            ],\n",
    "methods=['adam','sgd'], # , 'sgd'],\n",
    "epochs=[-1, 10, 20,30],\n",
    "learning_rates=[0.01], #, 0.1],\n",
    "batch_sizes=[-1, 10, 50, 100],\n",
    "print(type(batch_sizes))\n",
    "result = pd.DataFrame((itertools.product(*structs,*methods,*epochs,*learning_rates,*batch_sizes)))\n",
    "result"
   ]
  },
  {
   "cell_type": "code",
   "execution_count": null,
   "metadata": {},
   "outputs": [],
   "source": []
  },
  {
   "cell_type": "code",
   "execution_count": 59,
   "metadata": {},
   "outputs": [
    {
     "ename": "TypeError",
     "evalue": "unhashable type: 'list'",
     "output_type": "error",
     "traceback": [
      "\u001b[1;31m---------------------------------------------------------------------------\u001b[0m",
      "\u001b[1;31mTypeError\u001b[0m                                 Traceback (most recent call last)",
      "\u001b[1;32m<ipython-input-59-68a8b35151c3>\u001b[0m in \u001b[0;36m<module>\u001b[1;34m\u001b[0m\n\u001b[0;32m     15\u001b[0m                    'batch_size':[-1,1]})\n\u001b[0;32m     16\u001b[0m \u001b[1;33m\u001b[0m\u001b[0m\n\u001b[1;32m---> 17\u001b[1;33m \u001b[0muniques\u001b[0m \u001b[1;33m=\u001b[0m \u001b[1;33m[\u001b[0m\u001b[0mdf\u001b[0m\u001b[1;33m[\u001b[0m\u001b[0mi\u001b[0m\u001b[1;33m]\u001b[0m\u001b[1;33m.\u001b[0m\u001b[0munique\u001b[0m\u001b[1;33m(\u001b[0m\u001b[1;33m)\u001b[0m\u001b[1;33m.\u001b[0m\u001b[0mtolist\u001b[0m\u001b[1;33m(\u001b[0m\u001b[1;33m)\u001b[0m \u001b[1;32mfor\u001b[0m \u001b[0mi\u001b[0m \u001b[1;32min\u001b[0m \u001b[0mdf\u001b[0m\u001b[1;33m.\u001b[0m\u001b[0mcolumns\u001b[0m\u001b[1;33m]\u001b[0m\u001b[1;33m\u001b[0m\u001b[1;33m\u001b[0m\u001b[0m\n\u001b[0m\u001b[0;32m     18\u001b[0m \u001b[0mpd\u001b[0m\u001b[1;33m.\u001b[0m\u001b[0mDataFrame\u001b[0m\u001b[1;33m(\u001b[0m\u001b[0mproduct\u001b[0m\u001b[1;33m(\u001b[0m\u001b[1;33m*\u001b[0m\u001b[0muniques\u001b[0m\u001b[1;33m)\u001b[0m\u001b[1;33m,\u001b[0m \u001b[0mcolumns\u001b[0m \u001b[1;33m=\u001b[0m \u001b[0mdf\u001b[0m\u001b[1;33m.\u001b[0m\u001b[0mcolumns\u001b[0m\u001b[1;33m)\u001b[0m\u001b[1;33m\u001b[0m\u001b[1;33m\u001b[0m\u001b[0m\n",
      "\u001b[1;32m<ipython-input-59-68a8b35151c3>\u001b[0m in \u001b[0;36m<listcomp>\u001b[1;34m(.0)\u001b[0m\n\u001b[0;32m     15\u001b[0m                    'batch_size':[-1,1]})\n\u001b[0;32m     16\u001b[0m \u001b[1;33m\u001b[0m\u001b[0m\n\u001b[1;32m---> 17\u001b[1;33m \u001b[0muniques\u001b[0m \u001b[1;33m=\u001b[0m \u001b[1;33m[\u001b[0m\u001b[0mdf\u001b[0m\u001b[1;33m[\u001b[0m\u001b[0mi\u001b[0m\u001b[1;33m]\u001b[0m\u001b[1;33m.\u001b[0m\u001b[0munique\u001b[0m\u001b[1;33m(\u001b[0m\u001b[1;33m)\u001b[0m\u001b[1;33m.\u001b[0m\u001b[0mtolist\u001b[0m\u001b[1;33m(\u001b[0m\u001b[1;33m)\u001b[0m \u001b[1;32mfor\u001b[0m \u001b[0mi\u001b[0m \u001b[1;32min\u001b[0m \u001b[0mdf\u001b[0m\u001b[1;33m.\u001b[0m\u001b[0mcolumns\u001b[0m\u001b[1;33m]\u001b[0m\u001b[1;33m\u001b[0m\u001b[1;33m\u001b[0m\u001b[0m\n\u001b[0m\u001b[0;32m     18\u001b[0m \u001b[0mpd\u001b[0m\u001b[1;33m.\u001b[0m\u001b[0mDataFrame\u001b[0m\u001b[1;33m(\u001b[0m\u001b[0mproduct\u001b[0m\u001b[1;33m(\u001b[0m\u001b[1;33m*\u001b[0m\u001b[0muniques\u001b[0m\u001b[1;33m)\u001b[0m\u001b[1;33m,\u001b[0m \u001b[0mcolumns\u001b[0m \u001b[1;33m=\u001b[0m \u001b[0mdf\u001b[0m\u001b[1;33m.\u001b[0m\u001b[0mcolumns\u001b[0m\u001b[1;33m)\u001b[0m\u001b[1;33m\u001b[0m\u001b[1;33m\u001b[0m\u001b[0m\n",
      "\u001b[1;32m~\\Anaconda3\\lib\\site-packages\\pandas\\core\\series.py\u001b[0m in \u001b[0;36munique\u001b[1;34m(self)\u001b[0m\n\u001b[0;32m   1870\u001b[0m         \u001b[0mCategories\u001b[0m \u001b[1;33m(\u001b[0m\u001b[1;36m3\u001b[0m\u001b[1;33m,\u001b[0m \u001b[0mobject\u001b[0m\u001b[1;33m)\u001b[0m\u001b[1;33m:\u001b[0m \u001b[1;33m[\u001b[0m\u001b[1;34m'a'\u001b[0m \u001b[1;33m<\u001b[0m \u001b[1;34m'b'\u001b[0m \u001b[1;33m<\u001b[0m \u001b[1;34m'c'\u001b[0m\u001b[1;33m]\u001b[0m\u001b[1;33m\u001b[0m\u001b[1;33m\u001b[0m\u001b[0m\n\u001b[0;32m   1871\u001b[0m         \"\"\"\n\u001b[1;32m-> 1872\u001b[1;33m         \u001b[0mresult\u001b[0m \u001b[1;33m=\u001b[0m \u001b[0msuper\u001b[0m\u001b[1;33m(\u001b[0m\u001b[1;33m)\u001b[0m\u001b[1;33m.\u001b[0m\u001b[0munique\u001b[0m\u001b[1;33m(\u001b[0m\u001b[1;33m)\u001b[0m\u001b[1;33m\u001b[0m\u001b[1;33m\u001b[0m\u001b[0m\n\u001b[0m\u001b[0;32m   1873\u001b[0m         \u001b[1;32mreturn\u001b[0m \u001b[0mresult\u001b[0m\u001b[1;33m\u001b[0m\u001b[1;33m\u001b[0m\u001b[0m\n\u001b[0;32m   1874\u001b[0m \u001b[1;33m\u001b[0m\u001b[0m\n",
      "\u001b[1;32m~\\Anaconda3\\lib\\site-packages\\pandas\\core\\base.py\u001b[0m in \u001b[0;36munique\u001b[1;34m(self)\u001b[0m\n\u001b[0;32m   1045\u001b[0m                     \u001b[0mresult\u001b[0m \u001b[1;33m=\u001b[0m \u001b[0mnp\u001b[0m\u001b[1;33m.\u001b[0m\u001b[0masarray\u001b[0m\u001b[1;33m(\u001b[0m\u001b[0mresult\u001b[0m\u001b[1;33m)\u001b[0m\u001b[1;33m\u001b[0m\u001b[1;33m\u001b[0m\u001b[0m\n\u001b[0;32m   1046\u001b[0m         \u001b[1;32melse\u001b[0m\u001b[1;33m:\u001b[0m\u001b[1;33m\u001b[0m\u001b[1;33m\u001b[0m\u001b[0m\n\u001b[1;32m-> 1047\u001b[1;33m             \u001b[0mresult\u001b[0m \u001b[1;33m=\u001b[0m \u001b[0munique1d\u001b[0m\u001b[1;33m(\u001b[0m\u001b[0mvalues\u001b[0m\u001b[1;33m)\u001b[0m\u001b[1;33m\u001b[0m\u001b[1;33m\u001b[0m\u001b[0m\n\u001b[0m\u001b[0;32m   1048\u001b[0m \u001b[1;33m\u001b[0m\u001b[0m\n\u001b[0;32m   1049\u001b[0m         \u001b[1;32mreturn\u001b[0m \u001b[0mresult\u001b[0m\u001b[1;33m\u001b[0m\u001b[1;33m\u001b[0m\u001b[0m\n",
      "\u001b[1;32m~\\Anaconda3\\lib\\site-packages\\pandas\\core\\algorithms.py\u001b[0m in \u001b[0;36munique\u001b[1;34m(values)\u001b[0m\n\u001b[0;32m    405\u001b[0m \u001b[1;33m\u001b[0m\u001b[0m\n\u001b[0;32m    406\u001b[0m     \u001b[0mtable\u001b[0m \u001b[1;33m=\u001b[0m \u001b[0mhtable\u001b[0m\u001b[1;33m(\u001b[0m\u001b[0mlen\u001b[0m\u001b[1;33m(\u001b[0m\u001b[0mvalues\u001b[0m\u001b[1;33m)\u001b[0m\u001b[1;33m)\u001b[0m\u001b[1;33m\u001b[0m\u001b[1;33m\u001b[0m\u001b[0m\n\u001b[1;32m--> 407\u001b[1;33m     \u001b[0muniques\u001b[0m \u001b[1;33m=\u001b[0m \u001b[0mtable\u001b[0m\u001b[1;33m.\u001b[0m\u001b[0munique\u001b[0m\u001b[1;33m(\u001b[0m\u001b[0mvalues\u001b[0m\u001b[1;33m)\u001b[0m\u001b[1;33m\u001b[0m\u001b[1;33m\u001b[0m\u001b[0m\n\u001b[0m\u001b[0;32m    408\u001b[0m     \u001b[0muniques\u001b[0m \u001b[1;33m=\u001b[0m \u001b[0m_reconstruct_data\u001b[0m\u001b[1;33m(\u001b[0m\u001b[0muniques\u001b[0m\u001b[1;33m,\u001b[0m \u001b[0moriginal\u001b[0m\u001b[1;33m.\u001b[0m\u001b[0mdtype\u001b[0m\u001b[1;33m,\u001b[0m \u001b[0moriginal\u001b[0m\u001b[1;33m)\u001b[0m\u001b[1;33m\u001b[0m\u001b[1;33m\u001b[0m\u001b[0m\n\u001b[0;32m    409\u001b[0m     \u001b[1;32mreturn\u001b[0m \u001b[0muniques\u001b[0m\u001b[1;33m\u001b[0m\u001b[1;33m\u001b[0m\u001b[0m\n",
      "\u001b[1;32mpandas\\_libs\\hashtable_class_helper.pxi\u001b[0m in \u001b[0;36mpandas._libs.hashtable.PyObjectHashTable.unique\u001b[1;34m()\u001b[0m\n",
      "\u001b[1;32mpandas\\_libs\\hashtable_class_helper.pxi\u001b[0m in \u001b[0;36mpandas._libs.hashtable.PyObjectHashTable._unique\u001b[1;34m()\u001b[0m\n",
      "\u001b[1;31mTypeError\u001b[0m: unhashable type: 'list'"
     ]
    }
   ],
   "source": [
    "structs=[\n",
    "                             # [ [], [] ],\n",
    "                             # [ [], [10] ],\n",
    "                             [[[5, 3, 1]], []],\n",
    "                             # [[[20, 3, 2], [5, 3, 1]], [20]],\n",
    "                            ],\n",
    "methods=['adam','sgd'], # , 'sgd'],\n",
    "epochs=[10, 20],\n",
    "learning_rates=[0.01], #, 0.1],\n",
    "batch_sizes=[-1, 10, 50, 100]\n",
    "df = pd.DataFrame({'structs':[[1,2,3],[2]] , \n",
    "                   'method':['adam','sg'], \n",
    "                   'n_epochs':[10,20],\n",
    "                   'learning_rate':[0.01,.2], \n",
    "                   'batch_size':[-1,1]})\n",
    "\n",
    "uniques = [df[i].unique().tolist() for i in df.columns]\n",
    "pd.DataFrame(product(*uniques), columns = df.columns)"
   ]
  },
  {
   "cell_type": "code",
   "execution_count": 20,
   "metadata": {},
   "outputs": [
    {
     "ename": "TypeError",
     "evalue": "unhashable type: 'list'",
     "output_type": "error",
     "traceback": [
      "\u001b[1;31m---------------------------------------------------------------------------\u001b[0m",
      "\u001b[1;31mTypeError\u001b[0m                                 Traceback (most recent call last)",
      "\u001b[1;32m<ipython-input-20-fcb58c904b87>\u001b[0m in \u001b[0;36m<module>\u001b[1;34m\u001b[0m\n\u001b[0;32m      7\u001b[0m \u001b[1;33m\u001b[0m\u001b[0m\n\u001b[0;32m      8\u001b[0m \u001b[1;31m#df = pd.DataFrame(columns = column_names)\u001b[0m\u001b[1;33m\u001b[0m\u001b[1;33m\u001b[0m\u001b[1;33m\u001b[0m\u001b[0m\n\u001b[1;32m----> 9\u001b[1;33m \u001b[0muniques\u001b[0m \u001b[1;33m=\u001b[0m \u001b[1;33m[\u001b[0m\u001b[0mdf\u001b[0m\u001b[1;33m[\u001b[0m\u001b[0mi\u001b[0m\u001b[1;33m]\u001b[0m\u001b[1;33m.\u001b[0m\u001b[0munique\u001b[0m\u001b[1;33m(\u001b[0m\u001b[1;33m)\u001b[0m\u001b[1;33m.\u001b[0m\u001b[0mtolist\u001b[0m\u001b[1;33m(\u001b[0m\u001b[1;33m)\u001b[0m \u001b[1;32mfor\u001b[0m \u001b[0mi\u001b[0m \u001b[1;32min\u001b[0m \u001b[0mdf\u001b[0m\u001b[1;33m.\u001b[0m\u001b[0mcolumns\u001b[0m\u001b[1;33m]\u001b[0m\u001b[1;33m\u001b[0m\u001b[1;33m\u001b[0m\u001b[0m\n\u001b[0m\u001b[0;32m     10\u001b[0m \u001b[1;31m#df.append(structs,methods, n_epochs,learning_rates,batch_sizes,ignore_index=True)\u001b[0m\u001b[1;33m\u001b[0m\u001b[1;33m\u001b[0m\u001b[1;33m\u001b[0m\u001b[0m\n\u001b[0;32m     11\u001b[0m \u001b[0mpd\u001b[0m\u001b[1;33m.\u001b[0m\u001b[0mDataFrame\u001b[0m\u001b[1;33m(\u001b[0m\u001b[0mproduct\u001b[0m\u001b[1;33m(\u001b[0m\u001b[1;33m*\u001b[0m\u001b[0muniques\u001b[0m\u001b[1;33m)\u001b[0m\u001b[1;33m,\u001b[0m \u001b[0mcolumns\u001b[0m \u001b[1;33m=\u001b[0m \u001b[0mdf\u001b[0m\u001b[1;33m.\u001b[0m\u001b[0mcolumns\u001b[0m\u001b[1;33m)\u001b[0m\u001b[1;33m\u001b[0m\u001b[1;33m\u001b[0m\u001b[0m\n",
      "\u001b[1;32m<ipython-input-20-fcb58c904b87>\u001b[0m in \u001b[0;36m<listcomp>\u001b[1;34m(.0)\u001b[0m\n\u001b[0;32m      7\u001b[0m \u001b[1;33m\u001b[0m\u001b[0m\n\u001b[0;32m      8\u001b[0m \u001b[1;31m#df = pd.DataFrame(columns = column_names)\u001b[0m\u001b[1;33m\u001b[0m\u001b[1;33m\u001b[0m\u001b[1;33m\u001b[0m\u001b[0m\n\u001b[1;32m----> 9\u001b[1;33m \u001b[0muniques\u001b[0m \u001b[1;33m=\u001b[0m \u001b[1;33m[\u001b[0m\u001b[0mdf\u001b[0m\u001b[1;33m[\u001b[0m\u001b[0mi\u001b[0m\u001b[1;33m]\u001b[0m\u001b[1;33m.\u001b[0m\u001b[0munique\u001b[0m\u001b[1;33m(\u001b[0m\u001b[1;33m)\u001b[0m\u001b[1;33m.\u001b[0m\u001b[0mtolist\u001b[0m\u001b[1;33m(\u001b[0m\u001b[1;33m)\u001b[0m \u001b[1;32mfor\u001b[0m \u001b[0mi\u001b[0m \u001b[1;32min\u001b[0m \u001b[0mdf\u001b[0m\u001b[1;33m.\u001b[0m\u001b[0mcolumns\u001b[0m\u001b[1;33m]\u001b[0m\u001b[1;33m\u001b[0m\u001b[1;33m\u001b[0m\u001b[0m\n\u001b[0m\u001b[0;32m     10\u001b[0m \u001b[1;31m#df.append(structs,methods, n_epochs,learning_rates,batch_sizes,ignore_index=True)\u001b[0m\u001b[1;33m\u001b[0m\u001b[1;33m\u001b[0m\u001b[1;33m\u001b[0m\u001b[0m\n\u001b[0;32m     11\u001b[0m \u001b[0mpd\u001b[0m\u001b[1;33m.\u001b[0m\u001b[0mDataFrame\u001b[0m\u001b[1;33m(\u001b[0m\u001b[0mproduct\u001b[0m\u001b[1;33m(\u001b[0m\u001b[1;33m*\u001b[0m\u001b[0muniques\u001b[0m\u001b[1;33m)\u001b[0m\u001b[1;33m,\u001b[0m \u001b[0mcolumns\u001b[0m \u001b[1;33m=\u001b[0m \u001b[0mdf\u001b[0m\u001b[1;33m.\u001b[0m\u001b[0mcolumns\u001b[0m\u001b[1;33m)\u001b[0m\u001b[1;33m\u001b[0m\u001b[1;33m\u001b[0m\u001b[0m\n",
      "\u001b[1;32m~\\Anaconda3\\lib\\site-packages\\pandas\\core\\series.py\u001b[0m in \u001b[0;36munique\u001b[1;34m(self)\u001b[0m\n\u001b[0;32m   1870\u001b[0m         \u001b[0mCategories\u001b[0m \u001b[1;33m(\u001b[0m\u001b[1;36m3\u001b[0m\u001b[1;33m,\u001b[0m \u001b[0mobject\u001b[0m\u001b[1;33m)\u001b[0m\u001b[1;33m:\u001b[0m \u001b[1;33m[\u001b[0m\u001b[1;34m'a'\u001b[0m \u001b[1;33m<\u001b[0m \u001b[1;34m'b'\u001b[0m \u001b[1;33m<\u001b[0m \u001b[1;34m'c'\u001b[0m\u001b[1;33m]\u001b[0m\u001b[1;33m\u001b[0m\u001b[1;33m\u001b[0m\u001b[0m\n\u001b[0;32m   1871\u001b[0m         \"\"\"\n\u001b[1;32m-> 1872\u001b[1;33m         \u001b[0mresult\u001b[0m \u001b[1;33m=\u001b[0m \u001b[0msuper\u001b[0m\u001b[1;33m(\u001b[0m\u001b[1;33m)\u001b[0m\u001b[1;33m.\u001b[0m\u001b[0munique\u001b[0m\u001b[1;33m(\u001b[0m\u001b[1;33m)\u001b[0m\u001b[1;33m\u001b[0m\u001b[1;33m\u001b[0m\u001b[0m\n\u001b[0m\u001b[0;32m   1873\u001b[0m         \u001b[1;32mreturn\u001b[0m \u001b[0mresult\u001b[0m\u001b[1;33m\u001b[0m\u001b[1;33m\u001b[0m\u001b[0m\n\u001b[0;32m   1874\u001b[0m \u001b[1;33m\u001b[0m\u001b[0m\n",
      "\u001b[1;32m~\\Anaconda3\\lib\\site-packages\\pandas\\core\\base.py\u001b[0m in \u001b[0;36munique\u001b[1;34m(self)\u001b[0m\n\u001b[0;32m   1045\u001b[0m                     \u001b[0mresult\u001b[0m \u001b[1;33m=\u001b[0m \u001b[0mnp\u001b[0m\u001b[1;33m.\u001b[0m\u001b[0masarray\u001b[0m\u001b[1;33m(\u001b[0m\u001b[0mresult\u001b[0m\u001b[1;33m)\u001b[0m\u001b[1;33m\u001b[0m\u001b[1;33m\u001b[0m\u001b[0m\n\u001b[0;32m   1046\u001b[0m         \u001b[1;32melse\u001b[0m\u001b[1;33m:\u001b[0m\u001b[1;33m\u001b[0m\u001b[1;33m\u001b[0m\u001b[0m\n\u001b[1;32m-> 1047\u001b[1;33m             \u001b[0mresult\u001b[0m \u001b[1;33m=\u001b[0m \u001b[0munique1d\u001b[0m\u001b[1;33m(\u001b[0m\u001b[0mvalues\u001b[0m\u001b[1;33m)\u001b[0m\u001b[1;33m\u001b[0m\u001b[1;33m\u001b[0m\u001b[0m\n\u001b[0m\u001b[0;32m   1048\u001b[0m \u001b[1;33m\u001b[0m\u001b[0m\n\u001b[0;32m   1049\u001b[0m         \u001b[1;32mreturn\u001b[0m \u001b[0mresult\u001b[0m\u001b[1;33m\u001b[0m\u001b[1;33m\u001b[0m\u001b[0m\n",
      "\u001b[1;32m~\\Anaconda3\\lib\\site-packages\\pandas\\core\\algorithms.py\u001b[0m in \u001b[0;36munique\u001b[1;34m(values)\u001b[0m\n\u001b[0;32m    405\u001b[0m \u001b[1;33m\u001b[0m\u001b[0m\n\u001b[0;32m    406\u001b[0m     \u001b[0mtable\u001b[0m \u001b[1;33m=\u001b[0m \u001b[0mhtable\u001b[0m\u001b[1;33m(\u001b[0m\u001b[0mlen\u001b[0m\u001b[1;33m(\u001b[0m\u001b[0mvalues\u001b[0m\u001b[1;33m)\u001b[0m\u001b[1;33m)\u001b[0m\u001b[1;33m\u001b[0m\u001b[1;33m\u001b[0m\u001b[0m\n\u001b[1;32m--> 407\u001b[1;33m     \u001b[0muniques\u001b[0m \u001b[1;33m=\u001b[0m \u001b[0mtable\u001b[0m\u001b[1;33m.\u001b[0m\u001b[0munique\u001b[0m\u001b[1;33m(\u001b[0m\u001b[0mvalues\u001b[0m\u001b[1;33m)\u001b[0m\u001b[1;33m\u001b[0m\u001b[1;33m\u001b[0m\u001b[0m\n\u001b[0m\u001b[0;32m    408\u001b[0m     \u001b[0muniques\u001b[0m \u001b[1;33m=\u001b[0m \u001b[0m_reconstruct_data\u001b[0m\u001b[1;33m(\u001b[0m\u001b[0muniques\u001b[0m\u001b[1;33m,\u001b[0m \u001b[0moriginal\u001b[0m\u001b[1;33m.\u001b[0m\u001b[0mdtype\u001b[0m\u001b[1;33m,\u001b[0m \u001b[0moriginal\u001b[0m\u001b[1;33m)\u001b[0m\u001b[1;33m\u001b[0m\u001b[1;33m\u001b[0m\u001b[0m\n\u001b[0;32m    409\u001b[0m     \u001b[1;32mreturn\u001b[0m \u001b[0muniques\u001b[0m\u001b[1;33m\u001b[0m\u001b[1;33m\u001b[0m\u001b[0m\n",
      "\u001b[1;32mpandas\\_libs\\hashtable_class_helper.pxi\u001b[0m in \u001b[0;36mpandas._libs.hashtable.PyObjectHashTable.unique\u001b[1;34m()\u001b[0m\n",
      "\u001b[1;32mpandas\\_libs\\hashtable_class_helper.pxi\u001b[0m in \u001b[0;36mpandas._libs.hashtable.PyObjectHashTable._unique\u001b[1;34m()\u001b[0m\n",
      "\u001b[1;31mTypeError\u001b[0m: unhashable type: 'list'"
     ]
    }
   ],
   "source": [
    "df = pd.DataFrame({'structs':structs, \n",
    "                   'methods':methods, \n",
    "                   'n_epochs':epochs, \n",
    "                   'learning_rates':learning_rates, \n",
    "                   'batch_sizes':batch_sizes})\n",
    "#column_names = [\"structs\", \"methods\", \"n_epochs\",\"learning_rates\",\"batch_sizes\"]\n",
    "\n",
    "#df = pd.DataFrame(columns = column_names)\n",
    "uniques = [df[i].unique().tolist() for i in df.columns]\n",
    "#df.append(structs,methods, n_epochs,learning_rates,batch_sizes,ignore_index=True)\n",
    "pd.DataFrame(product(*uniques), columns = df.columns)"
   ]
  },
  {
   "cell_type": "code",
   "execution_count": 108,
   "metadata": {},
   "outputs": [
    {
     "name": "stdout",
     "output_type": "stream",
     "text": [
      "NeuralNetworkClassifier_CNN([28, 28, 1], [(4, 8, 2), (4, 8, 2)], [5, 4], ['divide' 'minus' 'plus' 'times'])\n",
      " Layer 0: n_units=4 kernel=8 stride=2 in_channels=1 in_rc=28 out_rc=11\n",
      " Layer 1: n_units=4 kernel=8 stride=2 in_channels=4 in_rc=11 out_rc=2\n",
      " Layer 2: n_units=5\n"
     ]
    }
   ],
   "source": [
    "classes = np.unique(T)\n",
    "cnn = nn.NeuralNetworkClassifier_CNN([28, 28, 1], [(4, 8, 2),(4,8,2)], [5], classes)\n",
    "print(cnn)"
   ]
  },
  {
   "cell_type": "code",
   "execution_count": null,
   "metadata": {},
   "outputs": [],
   "source": [
    "cnn.train(Xtrain, Ttrain, 100, 'adam',0.9)"
   ]
  },
  {
   "cell_type": "code",
   "execution_count": null,
   "metadata": {},
   "outputs": [],
   "source": [
    "results = []\n",
    "batch_sizes = [-1,10,20,30]\n",
    "n_folds = 4\n",
    "for Xtrain,Ttrain,Xval,Tval,Xtest,Ttest in mlfuncs.generate_partitions(X, T, n_folds, validation=True, shuffle=True, classification=True):\n",
    "    ## Call train_this_partition\n",
    "        print(Xtrain.shape)\n",
    "        classes = np.unique(T)\n",
    "        cnn = nn.NeuralNetworkClassifier_CNN([28, 28, 1], [(4, 8, 2)], [5], classes)\n",
    "        print(cnn)\n",
    "        Train_out = cnn.train(Xtrain, Ttrain, 100, 'adam',0.9)\n",
    "        Ytest, _ = cnn.use(Xtrain)\n",
    "        Ytest, _ = cnn.use(Xtest)\n",
    "        Ytest, _ = cnn.use(Xval)\n",
    "        print(cnn)\n",
    "        plt.plot(cnn.get_error_trace())\n",
    "        print(f'MNIST CNN Test {100 * np.mean(Ytest == Ttest)} % correct, with {cnn.all_weights.size} weights')"
   ]
  },
  {
   "cell_type": "code",
   "execution_count": null,
   "metadata": {
    "ExecuteTime": {
     "end_time": "2021-10-15T23:41:35.853124Z",
     "start_time": "2021-10-15T23:41:35.643931Z"
    }
   },
   "outputs": [],
   "source": [
    "# from A4mysolution import *"
   ]
  },
  {
   "cell_type": "code",
   "execution_count": null,
   "metadata": {},
   "outputs": [],
   "source": []
  },
  {
   "cell_type": "code",
   "execution_count": null,
   "metadata": {
    "ExecuteTime": {
     "end_time": "2021-10-15T23:41:37.163016Z",
     "start_time": "2021-10-15T23:41:36.195032Z"
    }
   },
   "outputs": [],
   "source": [
    "struct = [ ((2, 5, 1)), (5) ]\n",
    "n_epochs = 10\n",
    "method= 'adam'\n",
    "learning_rate = 0.01\n",
    "batch_size = 10\n",
    "\n",
    "n_samples = X.shape[0]\n",
    "rows = np.arange(n_samples)\n",
    "np.random.shuffle(rows)\n",
    "ntrain = int(n_samples * 0.8)\n",
    "nval = int(n_samples * 0.1)\n",
    "Xtrain = X[rows[:ntrain], ...]\n",
    "Ttrain = T[rows[:ntrain], ...]\n",
    "Xval = X[rows[ntrain:ntrain+nval], ...]\n",
    "Tval = T[rows[ntrain:ntrain+nval], ...]\n",
    "Xtest = X[rows[ntrain+nval:], ...]\n",
    "Ttest = T[rows[ntrain+nval:], ...]\n",
    "           \n",
    "result = train_this_partition(Xtrain, Ttrain, Xval, Tval, Xtest, Ttest,\n",
    "                              struct, n_epochs, method, learning_rate, batch_size)\n",
    "result"
   ]
  },
  {
   "cell_type": "code",
   "execution_count": null,
   "metadata": {
    "ExecuteTime": {
     "end_time": "2021-10-15T23:44:04.708062Z",
     "start_time": "2021-10-15T23:42:36.475008Z"
    }
   },
   "outputs": [],
   "source": [
    "df = run_these_parameters(X, T, n_folds=4,\n",
    "                         structs=[\n",
    "                             # [ [], [] ],\n",
    "                             # [ [], [10] ],\n",
    "                             [[[5, 3, 1]], []],\n",
    "                             # [[[20, 3, 2], [5, 3, 1]], [20]],\n",
    "                            ],\n",
    "                          methods=['adam'], # , 'sgd'],\n",
    "                          epochs=[10, 20],\n",
    "                          learning_rates=[0.01], #, 0.1],\n",
    "                          batch_sizes=[-1, 10, 50, 100])\n",
    "df"
   ]
  },
  {
   "cell_type": "markdown",
   "metadata": {},
   "source": [
    "# Experiments\n",
    "\n",
    "When you have `train_this_partition` and `run_these_parameters`, use them to explore the parameter values, trying to find combinations of parameter values that result in high validation accuracies.  \n",
    "\n",
    "Start with one value for each of the five parameters, but remember to specifiy them as a list of one element, like `learning_rates=[0.01]`.  Then run again with 3 or 4 values for one parameter.  Note the best value.  Use that value for that parameter, then add more values for a different parameter.  \n",
    "\n",
    "Proceed this way for each of the parameter values.  Discuss what you observe after each call to `run_these_parameters` with at least two sentences for each run.  Do the parameter values you find that work best surprise you?  Also discuss how well the validation and test accuracies equal each other.\n",
    "\n",
    "For each method, try various hidden layer structures, learning rates, and numbers of epochs.  Use the validation percent accuracy to pick the best hidden layers, learning rates and numbers of epochs for each method.  Report training, validation and test accuracy for your best validation results for each of the three methods.\n"
   ]
  },
  {
   "cell_type": "markdown",
   "metadata": {
    "ExecuteTime": {
     "end_time": "2020-10-16T20:44:33.927450Z",
     "start_time": "2020-10-16T20:44:33.925092Z"
    }
   },
   "source": [
    "# Grading\n",
    "\n",
    "(UPDATED Oct. 21, 9:35am, tolerance on accuracies is now larger) Download [A4grader.tar](https://www.cs.colostate.edu/~anderson/cs545/notebooks/A4grader.tar), extract `A4grader.py` before running the following cell."
   ]
  },
  {
   "cell_type": "code",
   "execution_count": null,
   "metadata": {
    "ExecuteTime": {
     "end_time": "2021-10-18T14:52:02.691904Z",
     "start_time": "2021-10-18T14:51:57.734208Z"
    }
   },
   "outputs": [],
   "source": [
    "%run -i A4grader.py"
   ]
  },
  {
   "cell_type": "markdown",
   "metadata": {},
   "source": [
    "# Extra Credit\n",
    "\n",
    "Repeat the above experiment using a convolutional neural network defined in `Pytorch`.  Implement this yourself by directly calling `torch.nn` functions."
   ]
  },
  {
   "cell_type": "code",
   "execution_count": null,
   "metadata": {},
   "outputs": [],
   "source": []
  }
 ],
 "metadata": {
  "kernelspec": {
   "display_name": "Python 3",
   "language": "python",
   "name": "python3"
  },
  "language_info": {
   "codemirror_mode": {
    "name": "ipython",
    "version": 3
   },
   "file_extension": ".py",
   "mimetype": "text/x-python",
   "name": "python",
   "nbconvert_exporter": "python",
   "pygments_lexer": "ipython3",
   "version": "3.8.8"
  },
  "toc": {
   "base_numbering": 1,
   "nav_menu": {},
   "number_sections": false,
   "sideBar": true,
   "skip_h1_title": false,
   "title_cell": "Table of Contents",
   "title_sidebar": "Contents",
   "toc_cell": true,
   "toc_position": {},
   "toc_section_display": true,
   "toc_window_display": false
  }
 },
 "nbformat": 4,
 "nbformat_minor": 4
}
