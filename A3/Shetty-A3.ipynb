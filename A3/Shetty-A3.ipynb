{
 "cells": [
  {
   "cell_type": "markdown",
   "metadata": {
    "toc": true
   },
   "source": [
    "<h1>Table of Contents<span class=\"tocSkip\"></span></h1>\n",
    "<div class=\"toc\"><ul class=\"toc-item\"><li><span><a href=\"#Neural-Network-Classifier\" data-toc-modified-id=\"Neural-Network-Classifier-1\">Neural Network Classifier</a></span></li><li><span><a href=\"#Apply-NeuralNetworkClassifier-to-Handwritten-Digits\" data-toc-modified-id=\"Apply-NeuralNetworkClassifier-to-Handwritten-Digits-2\">Apply <code>NeuralNetworkClassifier</code> to Handwritten Digits</a></span></li><li><span><a href=\"#Experiments\" data-toc-modified-id=\"Experiments-3\">Experiments</a></span></li><li><span><a href=\"#Grading\" data-toc-modified-id=\"Grading-4\">Grading</a></span></li><li><span><a href=\"#Extra-Credit\" data-toc-modified-id=\"Extra-Credit-5\">Extra Credit</a></span></li></ul></div>"
   ]
  },
  {
   "cell_type": "markdown",
   "metadata": {},
   "source": [
    "# Neural Network Classifier\n",
    "\n",
    "You may start with your `NeuralNetwork` class from A2, or start with the [implementation defined here](https://www.cs.colostate.edu/~anderson/cs545/notebooks/A2solution.tar) in which all functions meant be called by other functions in this class start with an underscore character. Implement the subclass `NeuralNetworkClassifier` that extends `NeuralNetwork` as discussed in class.  Your `NeuralNetworkClassifier` implementation should rely on inheriting functions from `NeuralNetwork` as much as possible. \n",
    "\n",
    "Your `neuralnetworks.py` file (notice it is plural) will now contain two classes, `NeuralNetwork` and `NeuralNetworkClassifier`.\n",
    "\n",
    "In `NeuralNetworkClassifier` replace the `error_f` function with one called `_neg_log_likelihood_f` and pass it instead of `error_f` into the optimization functions."
   ]
  },
  {
   "cell_type": "markdown",
   "metadata": {},
   "source": [
    "Here are some example tests."
   ]
  },
  {
   "cell_type": "code",
   "execution_count": 2,
   "metadata": {
    "ExecuteTime": {
     "end_time": "2021-09-24T18:23:36.114569Z",
     "start_time": "2021-09-24T18:23:36.106951Z"
    }
   },
   "outputs": [],
   "source": [
    "%load_ext autoreload\n",
    "%autoreload 2"
   ]
  },
  {
   "cell_type": "code",
   "execution_count": 3,
   "metadata": {
    "ExecuteTime": {
     "end_time": "2021-09-24T18:25:40.384936Z",
     "start_time": "2021-09-24T18:25:40.310801Z"
    }
   },
   "outputs": [],
   "source": [
    "import numpy as np\n",
    "import neuralnetworks as nn\n",
    "import matplotlib.pyplot as plt\n",
    "%matplotlib inline"
   ]
  },
  {
   "cell_type": "code",
   "execution_count": 4,
   "metadata": {
    "ExecuteTime": {
     "end_time": "2021-09-24T18:25:22.379902Z",
     "start_time": "2021-09-24T18:25:22.358849Z"
    }
   },
   "outputs": [
    {
     "data": {
      "text/plain": [
       "(array([[0, 0],\n",
       "        [1, 0],\n",
       "        [0, 1],\n",
       "        [1, 1]]),\n",
       " array([[0],\n",
       "        [1],\n",
       "        [1],\n",
       "        [0]]))"
      ]
     },
     "execution_count": 4,
     "metadata": {},
     "output_type": "execute_result"
    }
   ],
   "source": [
    "X = np.array([[0, 0], [1, 0], [0, 1], [1, 1]])\n",
    "T = np.array([[0], [1], [1], [0]])\n",
    "X, T"
   ]
  },
  {
   "cell_type": "code",
   "execution_count": 5,
   "metadata": {
    "ExecuteTime": {
     "end_time": "2021-09-24T18:25:22.769270Z",
     "start_time": "2021-09-24T18:25:22.746279Z"
    }
   },
   "outputs": [],
   "source": [
    "np.random.seed(111)\n",
    "nnet = nn.NeuralNetworkClassifier(2, [10], 2)"
   ]
  },
  {
   "cell_type": "code",
   "execution_count": 6,
   "metadata": {
    "ExecuteTime": {
     "end_time": "2021-09-24T18:25:23.267703Z",
     "start_time": "2021-09-24T18:25:23.245179Z"
    }
   },
   "outputs": [
    {
     "name": "stdout",
     "output_type": "stream",
     "text": [
      "NeuralNetwork(2, [10], 2)\n"
     ]
    }
   ],
   "source": [
    "print(nnet)"
   ]
  },
  {
   "cell_type": "code",
   "execution_count": 7,
   "metadata": {
    "ExecuteTime": {
     "end_time": "2021-09-24T18:25:23.656050Z",
     "start_time": "2021-09-24T18:25:23.632259Z"
    }
   },
   "outputs": [
    {
     "data": {
      "text/plain": [
       "[array([[0.35343662, 0.09761247, 0.25175879, 0.4441339 , 0.17050614,\n",
       "         0.08611927, 0.01297787, 0.24261672, 0.1378032 , 0.19494589],\n",
       "        [0.57198811, 0.13725143, 0.0468766 , 0.38659388, 0.35867477,\n",
       "         0.15834035, 0.26917306, 0.06833965, 0.04269942, 0.52006221],\n",
       "        [0.4583945 , 0.48530311, 0.47066025, 0.57212805, 0.3332892 ,\n",
       "         0.46982855, 0.24324799, 0.01584709, 0.26219591, 0.06081004]]),\n",
       " array([[0.24640112, 0.21037283],\n",
       "        [0.17043996, 0.08268264],\n",
       "        [0.30105116, 0.04162125],\n",
       "        [0.18555481, 0.14624395],\n",
       "        [0.12212025, 0.21945476],\n",
       "        [0.09733206, 0.12076903],\n",
       "        [0.09617199, 0.28559813],\n",
       "        [0.27700099, 0.24538331],\n",
       "        [0.01027463, 0.28443762],\n",
       "        [0.28656819, 0.24319635],\n",
       "        [0.14511079, 0.29148887]])]"
      ]
     },
     "execution_count": 7,
     "metadata": {},
     "output_type": "execute_result"
    }
   ],
   "source": [
    "nnet.Ws"
   ]
  },
  {
   "cell_type": "markdown",
   "metadata": {},
   "source": [
    "The `softmax` function can produce errors if the denominator is close to zero.  Here is an implentation you may use to avoid some of those errors.  This assumes you have the following import in your `neuralnetworks.py` file.\n",
    "\n",
    "`sys.float_info.epsilon` is also useful in your `_neg_log_likehood_f` function to avoid taking the `log` of zero."
   ]
  },
  {
   "cell_type": "code",
   "execution_count": 8,
   "metadata": {
    "ExecuteTime": {
     "end_time": "2021-09-24T18:25:24.837645Z",
     "start_time": "2021-09-24T18:25:24.829299Z"
    }
   },
   "outputs": [],
   "source": [
    "import sys  # for sys.float_info.epsilon "
   ]
  },
  {
   "cell_type": "code",
   "execution_count": 9,
   "metadata": {
    "ExecuteTime": {
     "end_time": "2021-09-24T18:25:25.274470Z",
     "start_time": "2021-09-24T18:25:25.249705Z"
    }
   },
   "outputs": [],
   "source": [
    "    def _softmax(self, Y):\n",
    "        '''Apply to final layer weighted sum outputs'''\n",
    "        # Trick to avoid overflow\n",
    "        maxY = Y.max()       \n",
    "        expY = np.exp(Y - maxY)\n",
    "        denom = expY.sum(1).reshape((-1, 1))\n",
    "        Y = expY / (denom + sys.float_info.epsilon)\n",
    "        return Y"
   ]
  },
  {
   "cell_type": "markdown",
   "metadata": {},
   "source": [
    "Replace the `error_f` function with `neg_log_likelihood`.  If you add some print statements in `_neg_log_likelihood` functions, you can compare your output to the following results."
   ]
  },
  {
   "cell_type": "code",
   "execution_count": 10,
   "metadata": {
    "ExecuteTime": {
     "end_time": "2021-09-24T18:25:26.072982Z",
     "start_time": "2021-09-24T18:25:26.056402Z"
    }
   },
   "outputs": [
    {
     "name": "stdout",
     "output_type": "stream",
     "text": [
      "sgd: Epoch 1 ObjectiveF=0.70718\n"
     ]
    },
    {
     "data": {
      "text/plain": [
       "NeuralNetwork(2, [10], 2)"
      ]
     },
     "execution_count": 10,
     "metadata": {},
     "output_type": "execute_result"
    }
   ],
   "source": [
    "nnet.train(X, T, n_epochs=1, method='sgd', learning_rate=0.01)"
   ]
  },
  {
   "cell_type": "code",
   "execution_count": 11,
   "metadata": {
    "ExecuteTime": {
     "end_time": "2021-09-24T18:25:26.839004Z",
     "start_time": "2021-09-24T18:25:26.830767Z"
    }
   },
   "outputs": [
    {
     "name": "stdout",
     "output_type": "stream",
     "text": [
      "NeuralNetwork(2, [10], 2)\n",
      " Trained for 1 epochs.\n",
      " Final standardized training error 0.7072.\n"
     ]
    }
   ],
   "source": [
    "print(nnet)"
   ]
  },
  {
   "cell_type": "markdown",
   "metadata": {},
   "source": [
    "Now if you comment out those print statements, you can run for more epochs without tons of output."
   ]
  },
  {
   "cell_type": "code",
   "execution_count": 12,
   "metadata": {
    "ExecuteTime": {
     "end_time": "2021-09-24T18:25:45.819326Z",
     "start_time": "2021-09-24T18:25:45.807629Z"
    }
   },
   "outputs": [],
   "source": [
    "np.random.seed(111)\n",
    "nnet = nn.NeuralNetworkClassifier(2, [10], 2)"
   ]
  },
  {
   "cell_type": "code",
   "execution_count": 13,
   "metadata": {
    "ExecuteTime": {
     "end_time": "2021-09-24T18:25:46.520206Z",
     "start_time": "2021-09-24T18:25:46.501689Z"
    }
   },
   "outputs": [
    {
     "name": "stdout",
     "output_type": "stream",
     "text": [
      "SCG: Epoch 10 ObjectiveF=0.99632\n",
      "SCG: Epoch 20 ObjectiveF=0.99996\n",
      "SCG: Epoch 30 ObjectiveF=1.00000\n"
     ]
    },
    {
     "data": {
      "text/plain": [
       "NeuralNetwork(2, [10], 2)"
      ]
     },
     "execution_count": 13,
     "metadata": {},
     "output_type": "execute_result"
    }
   ],
   "source": [
    "nnet.train(X, T, 100, method='scg')"
   ]
  },
  {
   "cell_type": "markdown",
   "metadata": {},
   "source": [
    "The `use()` function returns two `numpy` arrays. The first one are the class predictions for eachs sample, containing values from the set of unique values in `T` passed into the `train()` function.\n",
    "\n",
    "The second value are the probabilities of each class for each sample. This should a column for each unique value in `T`."
   ]
  },
  {
   "cell_type": "code",
   "execution_count": 14,
   "metadata": {
    "ExecuteTime": {
     "end_time": "2021-09-24T18:25:47.618829Z",
     "start_time": "2021-09-24T18:25:47.605349Z"
    }
   },
   "outputs": [
    {
     "data": {
      "text/plain": [
       "(array([[0],\n",
       "        [1],\n",
       "        [1],\n",
       "        [0]], dtype=int64),\n",
       " array([[9.99999991e-01, 9.37779879e-09],\n",
       "        [1.13195366e-08, 9.99999989e-01],\n",
       "        [8.63074555e-09, 9.99999991e-01],\n",
       "        [9.99999990e-01, 9.87445336e-09]]))"
      ]
     },
     "execution_count": 14,
     "metadata": {},
     "output_type": "execute_result"
    }
   ],
   "source": [
    "nnet.use(X)"
   ]
  },
  {
   "cell_type": "code",
   "execution_count": 15,
   "metadata": {
    "ExecuteTime": {
     "end_time": "2021-09-24T18:25:48.138607Z",
     "start_time": "2021-09-24T18:25:48.117505Z"
    }
   },
   "outputs": [],
   "source": [
    "def percent_correct(Y, T):\n",
    "    return np.mean(T == Y) * 100"
   ]
  },
  {
   "cell_type": "code",
   "execution_count": 16,
   "metadata": {
    "ExecuteTime": {
     "end_time": "2021-09-24T18:25:48.913883Z",
     "start_time": "2021-09-24T18:25:48.904446Z"
    }
   },
   "outputs": [
    {
     "data": {
      "text/plain": [
       "100.0"
      ]
     },
     "execution_count": 16,
     "metadata": {},
     "output_type": "execute_result"
    }
   ],
   "source": [
    "percent_correct(nnet.use(X)[0], T)"
   ]
  },
  {
   "cell_type": "markdown",
   "metadata": {},
   "source": [
    "Works!  The XOR problem was used early in the history of neural networks as a problem that cannot be solved with a linear model.  Let's try it.  It turns out our neural network code can do this if we use an empty list for the hidden unit structure!"
   ]
  },
  {
   "cell_type": "code",
   "execution_count": 17,
   "metadata": {
    "ExecuteTime": {
     "end_time": "2021-09-24T18:25:49.930009Z",
     "start_time": "2021-09-24T18:25:49.919549Z"
    }
   },
   "outputs": [
    {
     "data": {
      "text/plain": [
       "NeuralNetwork(2, [], 2)"
      ]
     },
     "execution_count": 17,
     "metadata": {},
     "output_type": "execute_result"
    }
   ],
   "source": [
    "nnet = nn.NeuralNetworkClassifier(2, [], 2)\n",
    "nnet.train(X, T, 100, method='scg')"
   ]
  },
  {
   "cell_type": "code",
   "execution_count": 18,
   "metadata": {
    "ExecuteTime": {
     "end_time": "2021-09-24T18:25:50.477779Z",
     "start_time": "2021-09-24T18:25:50.450527Z"
    }
   },
   "outputs": [
    {
     "data": {
      "text/plain": [
       "(array([[0],\n",
       "        [1],\n",
       "        [0],\n",
       "        [1]], dtype=int64),\n",
       " array([[0.5, 0.5],\n",
       "        [0.5, 0.5],\n",
       "        [0.5, 0.5],\n",
       "        [0.5, 0.5]]))"
      ]
     },
     "execution_count": 18,
     "metadata": {},
     "output_type": "execute_result"
    }
   ],
   "source": [
    "nnet.use(X)"
   ]
  },
  {
   "cell_type": "code",
   "execution_count": 19,
   "metadata": {
    "ExecuteTime": {
     "end_time": "2021-09-24T18:25:51.030958Z",
     "start_time": "2021-09-24T18:25:51.003631Z"
    }
   },
   "outputs": [
    {
     "data": {
      "text/plain": [
       "50.0"
      ]
     },
     "execution_count": 19,
     "metadata": {},
     "output_type": "execute_result"
    }
   ],
   "source": [
    "percent_correct(nnet.use(X)[0], T)"
   ]
  },
  {
   "cell_type": "markdown",
   "metadata": {},
   "source": [
    "A second way to evaluate a classifier is to calculate a confusion matrix. This shows the percent accuracy for each class, and also shows which classes are predicted in error.\n",
    "\n",
    "Here is a function you can use to show a confusion matrix."
   ]
  },
  {
   "cell_type": "code",
   "execution_count": 20,
   "metadata": {
    "ExecuteTime": {
     "end_time": "2021-09-24T18:25:53.392283Z",
     "start_time": "2021-09-24T18:25:53.383369Z"
    }
   },
   "outputs": [],
   "source": [
    "import pandas\n",
    "\n",
    "def confusion_matrix(Y_classes, T):\n",
    "    class_names = np.unique(T)\n",
    "    table = []\n",
    "    for true_class in class_names:\n",
    "        row = []\n",
    "        for Y_class in class_names:\n",
    "            row.append(100 * np.mean(Y_classes[T == true_class] == Y_class))\n",
    "        table.append(row)\n",
    "    conf_matrix = pandas.DataFrame(table, index=class_names, columns=class_names)\n",
    "    # cf.style.background_gradient(cmap='Blues').format(\"{:.1f} %\")\n",
    "    print('Percent Correct')\n",
    "    return conf_matrix.style.background_gradient(cmap='Blues').format(\"{:.1f}\")"
   ]
  },
  {
   "cell_type": "code",
   "execution_count": 21,
   "metadata": {
    "ExecuteTime": {
     "end_time": "2021-09-24T18:25:54.376110Z",
     "start_time": "2021-09-24T18:25:54.361173Z"
    }
   },
   "outputs": [
    {
     "name": "stdout",
     "output_type": "stream",
     "text": [
      "Percent Correct\n"
     ]
    },
    {
     "data": {
      "text/html": [
       "<style  type=\"text/css\" >\n",
       "#T_9ce8d_row0_col0,#T_9ce8d_row0_col1,#T_9ce8d_row1_col0,#T_9ce8d_row1_col1{\n",
       "            background-color:  #f7fbff;\n",
       "            color:  #000000;\n",
       "        }</style><table id=\"T_9ce8d_\" ><thead>    <tr>        <th class=\"blank level0\" ></th>        <th class=\"col_heading level0 col0\" >0</th>        <th class=\"col_heading level0 col1\" >1</th>    </tr></thead><tbody>\n",
       "                <tr>\n",
       "                        <th id=\"T_9ce8d_level0_row0\" class=\"row_heading level0 row0\" >0</th>\n",
       "                        <td id=\"T_9ce8d_row0_col0\" class=\"data row0 col0\" >50.0</td>\n",
       "                        <td id=\"T_9ce8d_row0_col1\" class=\"data row0 col1\" >50.0</td>\n",
       "            </tr>\n",
       "            <tr>\n",
       "                        <th id=\"T_9ce8d_level0_row1\" class=\"row_heading level0 row1\" >1</th>\n",
       "                        <td id=\"T_9ce8d_row1_col0\" class=\"data row1 col0\" >50.0</td>\n",
       "                        <td id=\"T_9ce8d_row1_col1\" class=\"data row1 col1\" >50.0</td>\n",
       "            </tr>\n",
       "    </tbody></table>"
      ],
      "text/plain": [
       "<pandas.io.formats.style.Styler at 0x294706ce730>"
      ]
     },
     "execution_count": 21,
     "metadata": {},
     "output_type": "execute_result"
    }
   ],
   "source": [
    "confusion_matrix(nnet.use(X)[0], T)"
   ]
  },
  {
   "cell_type": "markdown",
   "metadata": {},
   "source": [
    "# Apply `NeuralNetworkClassifier` to Handwritten Digits"
   ]
  },
  {
   "cell_type": "markdown",
   "metadata": {},
   "source": [
    "Apply your `NeuralNetworkClassifier` to the [MNIST digits dataset](https://www.cs.colostate.edu/~anderson/cs545/notebooks/mnist.pkl.gz)."
   ]
  },
  {
   "cell_type": "code",
   "execution_count": 22,
   "metadata": {
    "ExecuteTime": {
     "end_time": "2021-09-24T18:26:20.510347Z",
     "start_time": "2021-09-24T18:26:20.498151Z"
    }
   },
   "outputs": [],
   "source": [
    "import pickle\n",
    "import gzip"
   ]
  },
  {
   "cell_type": "code",
   "execution_count": 23,
   "metadata": {
    "ExecuteTime": {
     "end_time": "2021-09-24T18:26:21.598636Z",
     "start_time": "2021-09-24T18:26:20.981257Z"
    }
   },
   "outputs": [
    {
     "name": "stdout",
     "output_type": "stream",
     "text": [
      "(50000, 784) (50000, 1) (10000, 784) (10000, 1) (10000, 784) (10000, 1)\n"
     ]
    }
   ],
   "source": [
    "with gzip.open('mnist.pkl.gz', 'rb') as f:\n",
    "    train_set, valid_set, test_set = pickle.load(f, encoding='latin1')\n",
    "\n",
    "Xtrain = train_set[0]\n",
    "Ttrain = train_set[1].reshape(-1, 1)\n",
    "\n",
    "Xval = valid_set[0]\n",
    "Tval = valid_set[1].reshape(-1, 1)\n",
    "\n",
    "Xtest = test_set[0]\n",
    "Ttest = test_set[1].reshape(-1, 1)\n",
    "\n",
    "print(Xtrain.shape, Ttrain.shape,  Xval.shape, Tval.shape,  Xtest.shape, Ttest.shape)"
   ]
  },
  {
   "cell_type": "code",
   "execution_count": 24,
   "metadata": {
    "ExecuteTime": {
     "end_time": "2021-09-24T18:26:21.609303Z",
     "start_time": "2021-09-24T18:26:21.599676Z"
    }
   },
   "outputs": [
    {
     "data": {
      "text/plain": [
       "784"
      ]
     },
     "execution_count": 24,
     "metadata": {},
     "output_type": "execute_result"
    }
   ],
   "source": [
    "28*28"
   ]
  },
  {
   "cell_type": "code",
   "execution_count": 25,
   "metadata": {
    "ExecuteTime": {
     "end_time": "2021-09-24T18:26:22.187860Z",
     "start_time": "2021-09-24T18:26:22.162227Z"
    }
   },
   "outputs": [],
   "source": [
    "def draw_image(image, label):\n",
    "    plt.imshow(-image.reshape(28, 28), cmap='gray')\n",
    "    plt.xticks([])\n",
    "    plt.yticks([])\n",
    "    plt.axis('off')\n",
    "    plt.title(label)"
   ]
  },
  {
   "cell_type": "code",
   "execution_count": 26,
   "metadata": {
    "ExecuteTime": {
     "end_time": "2021-09-24T18:26:24.129141Z",
     "start_time": "2021-09-24T18:26:22.682916Z"
    }
   },
   "outputs": [
    {
     "data": {
      "image/png": "[encoded data removed]",
      "text/plain": [
       "<Figure size 504x504 with 100 Axes>"
      ]
     },
     "metadata": {},
     "output_type": "display_data"
    }
   ],
   "source": [
    "plt.figure(figsize=(7, 7))\n",
    "for i in range(100):\n",
    "    plt.subplot(10, 10, i+1)\n",
    "    draw_image(Xtrain[i], Ttrain[i,0])\n",
    "plt.tight_layout()"
   ]
  },
  {
   "cell_type": "code",
   "execution_count": 27,
   "metadata": {
    "ExecuteTime": {
     "end_time": "2021-09-24T18:26:35.559448Z",
     "start_time": "2021-09-24T18:26:24.848046Z"
    }
   },
   "outputs": [
    {
     "name": "stdout",
     "output_type": "stream",
     "text": [
      "SCG: Epoch 4 ObjectiveF=0.95819\n",
      "SCG: Epoch 8 ObjectiveF=0.96994\n",
      "SCG: Epoch 12 ObjectiveF=0.97146\n",
      "SCG: Epoch 16 ObjectiveF=0.97146\n",
      "SCG: Epoch 20 ObjectiveF=0.97146\n",
      "SCG: Epoch 24 ObjectiveF=0.97273\n",
      "SCG: Epoch 28 ObjectiveF=0.97421\n",
      "SCG: Epoch 32 ObjectiveF=0.97475\n",
      "SCG: Epoch 36 ObjectiveF=0.97494\n",
      "SCG: Epoch 40 ObjectiveF=0.97496\n"
     ]
    },
    {
     "data": {
      "text/plain": [
       "NeuralNetwork(784, [], 10)"
      ]
     },
     "execution_count": 27,
     "metadata": {},
     "output_type": "execute_result"
    }
   ],
   "source": [
    "nnet = nn.NeuralNetworkClassifier(784, [], 10)\n",
    "nnet.train(Xtrain, Ttrain, n_epochs=40, method='scg')"
   ]
  },
  {
   "cell_type": "code",
   "execution_count": 28,
   "metadata": {
    "ExecuteTime": {
     "end_time": "2021-09-24T18:26:38.412114Z",
     "start_time": "2021-09-24T18:26:38.396704Z"
    }
   },
   "outputs": [
    {
     "name": "stdout",
     "output_type": "stream",
     "text": [
      "NeuralNetwork(784, [], 10)\n",
      " Trained for 40 epochs.\n",
      " Final standardized training error 0.975.\n"
     ]
    }
   ],
   "source": [
    "print(nnet)"
   ]
  },
  {
   "cell_type": "code",
   "execution_count": 29,
   "metadata": {
    "ExecuteTime": {
     "end_time": "2021-09-24T18:26:40.847453Z",
     "start_time": "2021-09-24T18:26:40.687447Z"
    }
   },
   "outputs": [
    {
     "data": {
      "text/plain": [
       "[93.138, 92.69, 92.34]"
      ]
     },
     "execution_count": 29,
     "metadata": {},
     "output_type": "execute_result"
    }
   ],
   "source": [
    "[percent_correct(nnet.use(X)[0], T) for X, T in zip([Xtrain, Xval, Xtest], [Ttrain, Tval, Ttest])]"
   ]
  },
  {
   "cell_type": "code",
   "execution_count": 30,
   "metadata": {
    "ExecuteTime": {
     "end_time": "2021-09-24T18:27:01.309178Z",
     "start_time": "2021-09-24T18:26:43.792019Z"
    }
   },
   "outputs": [
    {
     "name": "stdout",
     "output_type": "stream",
     "text": [
      "SCG: Epoch 4 ObjectiveF=0.88560\n",
      "SCG: Epoch 8 ObjectiveF=0.95820\n",
      "SCG: Epoch 12 ObjectiveF=0.97325\n",
      "SCG: Epoch 16 ObjectiveF=0.97961\n",
      "SCG: Epoch 20 ObjectiveF=0.98322\n",
      "SCG: Epoch 24 ObjectiveF=0.98575\n",
      "SCG: Epoch 28 ObjectiveF=0.98762\n",
      "SCG: Epoch 32 ObjectiveF=0.98896\n",
      "SCG: Epoch 36 ObjectiveF=0.98981\n",
      "SCG: Epoch 40 ObjectiveF=0.99067\n"
     ]
    },
    {
     "data": {
      "text/plain": [
       "NeuralNetwork(784, [20], 10)"
      ]
     },
     "execution_count": 30,
     "metadata": {},
     "output_type": "execute_result"
    }
   ],
   "source": [
    "nnet = nn.NeuralNetworkClassifier(784, [20], 10)\n",
    "nnet.train(Xtrain, Ttrain, n_epochs=40, method='scg')"
   ]
  },
  {
   "cell_type": "code",
   "execution_count": 30,
   "metadata": {
    "ExecuteTime": {
     "end_time": "2021-09-24T18:27:01.528413Z",
     "start_time": "2021-09-24T18:27:01.310339Z"
    }
   },
   "outputs": [
    {
     "data": {
      "text/plain": [
       "[97.47200000000001, 94.24, 93.55]"
      ]
     },
     "execution_count": 30,
     "metadata": {},
     "output_type": "execute_result"
    }
   ],
   "source": [
    "[percent_correct(nnet.use(X)[0], T) for X, T in zip([Xtrain, Xval, Xtest],\n",
    "                                                    [Ttrain, Tval, Ttest])]"
   ]
  },
  {
   "cell_type": "markdown",
   "metadata": {},
   "source": [
    "# Experiments\n",
    "\n",
    "For each method, try various hidden layer structures, learning rates, and numbers of epochs.  Use the validation percent accuracy to pick the best hidden layers, learning rates and numbers of epochs for each method (ignore learning rates for scg).  Report training, validation and test accuracy for your best validation results for each of the three methods.\n",
    "\n",
    "Include plots of data likelihood versus epochs, and confusion matrices, for best results for each method.\n",
    "\n",
    "Write at least 10 sentences about what you observe in the likelihood plots, the train, validation and test accuracies, and the confusion matrices."
   ]
  },
  {
   "cell_type": "code",
   "execution_count": 31,
   "metadata": {},
   "outputs": [
    {
     "data": {
      "text/plain": [
       "((50000, 784), (50000, 1), (10000, 784), (10000, 1), (10000, 784), (10000, 1))"
      ]
     },
     "execution_count": 31,
     "metadata": {},
     "output_type": "execute_result"
    }
   ],
   "source": [
    "Xtrain.shape, Ttrain.shape, Xval.shape, Tval.shape, Xtest.shape, Ttest.shape ## no need for partioning data here from lecture 9"
   ]
  },
  {
   "cell_type": "markdown",
   "metadata": {},
   "source": [
    "##For SCG"
   ]
  },
  {
   "cell_type": "code",
   "execution_count": 34,
   "metadata": {},
   "outputs": [
    {
     "name": "stdout",
     "output_type": "stream",
     "text": [
      "sgd: Epoch 5 ObjectiveF=0.79635\n",
      "sgd: Epoch 10 ObjectiveF=0.81252\n",
      "sgd: Epoch 15 ObjectiveF=0.83240\n",
      "sgd: Epoch 20 ObjectiveF=0.85155\n",
      "sgd: Epoch 25 ObjectiveF=0.86782\n",
      "sgd: Epoch 30 ObjectiveF=0.88085\n",
      "sgd: Epoch 35 ObjectiveF=0.89107\n",
      "sgd: Epoch 40 ObjectiveF=0.89910\n",
      "sgd: Epoch 45 ObjectiveF=0.90550\n",
      "sgd: Epoch 50 ObjectiveF=0.91068\n"
     ]
    },
    {
     "data": {
      "text/plain": [
       "[78.294, 80.42, 79.93]"
      ]
     },
     "execution_count": 34,
     "metadata": {},
     "output_type": "execute_result"
    },
    {
     "data": {
      "image/png": "[encoded data removed]",
      "text/plain": [
       "<Figure size 432x288 with 1 Axes>"
      ]
     },
     "metadata": {
      "needs_background": "light"
     },
     "output_type": "display_data"
    }
   ],
   "source": [
    "nnet = nn.NeuralNetworkClassifier(Xtrain.shape[1], [],  len(np.unique(Ttrain))) #from lecture 9\n",
    "nnet.train(Xtrain, Ttrain, n_epochs=50, learning_rate=0.01, method='sgd')\n",
    "plt.figure()\n",
    "plt.plot(nnet.get_error_trace())\n",
    "plt.xlabel('Iteration');\n",
    "plt.ylabel('Data Likelihood');\n",
    "[percent_correct(nnet.use(X)[0], T) for X, T in zip([Xtrain, Xval, Xtest], [Ttrain, Tval, Ttest])]"
   ]
  },
  {
   "cell_type": "code",
   "execution_count": 36,
   "metadata": {},
   "outputs": [
    {
     "name": "stdout",
     "output_type": "stream",
     "text": [
      "sgd: Epoch 10 ObjectiveF=0.81352\n",
      "sgd: Epoch 20 ObjectiveF=0.85218\n",
      "sgd: Epoch 30 ObjectiveF=0.88123\n",
      "sgd: Epoch 40 ObjectiveF=0.89937\n",
      "sgd: Epoch 50 ObjectiveF=0.91089\n",
      "sgd: Epoch 60 ObjectiveF=0.91876\n",
      "sgd: Epoch 70 ObjectiveF=0.92448\n",
      "sgd: Epoch 80 ObjectiveF=0.92887\n",
      "sgd: Epoch 90 ObjectiveF=0.93236\n",
      "sgd: Epoch 100 ObjectiveF=0.93522\n"
     ]
    },
    {
     "data": {
      "text/plain": [
       "[84.004, 85.42, 85.11]"
      ]
     },
     "execution_count": 36,
     "metadata": {},
     "output_type": "execute_result"
    },
    {
     "data": {
      "image/png": "[encoded data removed]",
      "text/plain": [
       "<Figure size 432x288 with 1 Axes>"
      ]
     },
     "metadata": {
      "needs_background": "light"
     },
     "output_type": "display_data"
    }
   ],
   "source": [
    "nnet = nn.NeuralNetworkClassifier(Xtrain.shape[1], [],  len(np.unique(Ttrain))) #from lecture 9\n",
    "nnet.train(Xtrain, Ttrain, n_epochs=100, learning_rate=0.01, method='sgd')\n",
    "plt.figure()\n",
    "plt.plot(nnet.get_error_trace())\n",
    "plt.xlabel('Iteration');\n",
    "plt.ylabel('Data Likelihood');\n",
    "[percent_correct(nnet.use(X)[0], T) for X, T in zip([Xtrain, Xval, Xtest], [Ttrain, Tval, Ttest])]"
   ]
  },
  {
   "cell_type": "code",
   "execution_count": 39,
   "metadata": {},
   "outputs": [
    {
     "name": "stdout",
     "output_type": "stream",
     "text": [
      "sgd: Epoch 10 ObjectiveF=0.90586\n",
      "sgd: Epoch 20 ObjectiveF=0.94382\n",
      "sgd: Epoch 30 ObjectiveF=0.95456\n",
      "sgd: Epoch 40 ObjectiveF=0.95848\n",
      "sgd: Epoch 50 ObjectiveF=0.96071\n",
      "sgd: Epoch 60 ObjectiveF=0.96225\n",
      "sgd: Epoch 70 ObjectiveF=0.96335\n",
      "sgd: Epoch 80 ObjectiveF=0.96420\n",
      "sgd: Epoch 90 ObjectiveF=0.96490\n",
      "sgd: Epoch 100 ObjectiveF=0.96549\n"
     ]
    },
    {
     "data": {
      "text/plain": [
       "[90.03, 91.03, 90.38000000000001]"
      ]
     },
     "execution_count": 39,
     "metadata": {},
     "output_type": "execute_result"
    },
    {
     "data": {
      "image/png": "[encoded data removed]",
      "text/plain": [
       "<Figure size 432x288 with 1 Axes>"
      ]
     },
     "metadata": {
      "needs_background": "light"
     },
     "output_type": "display_data"
    }
   ],
   "source": [
    "nnet = nn.NeuralNetworkClassifier(Xtrain.shape[1], [],  len(np.unique(Ttrain))) #from lecture 9\n",
    "nnet.train(Xtrain, Ttrain, n_epochs=100, learning_rate=0.09, method='sgd')\n",
    "plt.figure()\n",
    "plt.plot(nnet.get_error_trace())\n",
    "plt.xlabel('Iteration');\n",
    "plt.ylabel('Data Likelihood');\n",
    "[percent_correct(nnet.use(X)[0], T) for X, T in zip([Xtrain, Xval, Xtest], [Ttrain, Tval, Ttest])]"
   ]
  },
  {
   "cell_type": "code",
   "execution_count": 40,
   "metadata": {},
   "outputs": [
    {
     "name": "stdout",
     "output_type": "stream",
     "text": [
      "Percent Correct\n"
     ]
    },
    {
     "data": {
      "text/html": [
       "<style  type=\"text/css\" >\n",
       "#T_1ec0b_row0_col0,#T_1ec0b_row1_col1,#T_1ec0b_row2_col2,#T_1ec0b_row3_col3,#T_1ec0b_row4_col4,#T_1ec0b_row5_col5,#T_1ec0b_row6_col6,#T_1ec0b_row7_col7,#T_1ec0b_row8_col8,#T_1ec0b_row9_col9{\n",
       "            background-color:  #08306b;\n",
       "            color:  #f1f1f1;\n",
       "        }#T_1ec0b_row0_col1,#T_1ec0b_row0_col2,#T_1ec0b_row0_col4,#T_1ec0b_row0_col9,#T_1ec0b_row1_col0,#T_1ec0b_row1_col2,#T_1ec0b_row1_col4,#T_1ec0b_row1_col6,#T_1ec0b_row1_col7,#T_1ec0b_row1_col9,#T_1ec0b_row2_col5,#T_1ec0b_row3_col0,#T_1ec0b_row3_col4,#T_1ec0b_row3_col7,#T_1ec0b_row4_col0,#T_1ec0b_row4_col2,#T_1ec0b_row4_col3,#T_1ec0b_row4_col5,#T_1ec0b_row4_col7,#T_1ec0b_row4_col8,#T_1ec0b_row6_col3,#T_1ec0b_row6_col5,#T_1ec0b_row6_col7,#T_1ec0b_row6_col9,#T_1ec0b_row7_col5,#T_1ec0b_row7_col6,#T_1ec0b_row7_col8,#T_1ec0b_row9_col2,#T_1ec0b_row9_col6{\n",
       "            background-color:  #f7fbff;\n",
       "            color:  #000000;\n",
       "        }#T_1ec0b_row0_col3,#T_1ec0b_row0_col5,#T_1ec0b_row0_col7,#T_1ec0b_row0_col8,#T_1ec0b_row1_col3,#T_1ec0b_row1_col5,#T_1ec0b_row2_col9,#T_1ec0b_row3_col6,#T_1ec0b_row4_col6,#T_1ec0b_row6_col0,#T_1ec0b_row6_col1,#T_1ec0b_row6_col2,#T_1ec0b_row6_col4,#T_1ec0b_row7_col0,#T_1ec0b_row7_col4,#T_1ec0b_row8_col0,#T_1ec0b_row8_col4,#T_1ec0b_row8_col6,#T_1ec0b_row9_col0,#T_1ec0b_row9_col5,#T_1ec0b_row9_col8{\n",
       "            background-color:  #f6faff;\n",
       "            color:  #000000;\n",
       "        }#T_1ec0b_row0_col6,#T_1ec0b_row1_col8,#T_1ec0b_row2_col6,#T_1ec0b_row3_col9,#T_1ec0b_row4_col1,#T_1ec0b_row5_col0,#T_1ec0b_row5_col1,#T_1ec0b_row8_col2,#T_1ec0b_row8_col7,#T_1ec0b_row9_col3{\n",
       "            background-color:  #f5f9fe;\n",
       "            color:  #000000;\n",
       "        }#T_1ec0b_row2_col0,#T_1ec0b_row3_col1,#T_1ec0b_row5_col2,#T_1ec0b_row5_col4,#T_1ec0b_row5_col7,#T_1ec0b_row5_col9,#T_1ec0b_row6_col8,#T_1ec0b_row7_col2,#T_1ec0b_row7_col3,#T_1ec0b_row9_col1{\n",
       "            background-color:  #f5fafe;\n",
       "            color:  #000000;\n",
       "        }#T_1ec0b_row2_col1,#T_1ec0b_row2_col3,#T_1ec0b_row3_col2,#T_1ec0b_row7_col1{\n",
       "            background-color:  #f4f9fe;\n",
       "            color:  #000000;\n",
       "        }#T_1ec0b_row2_col4,#T_1ec0b_row2_col7,#T_1ec0b_row8_col9{\n",
       "            background-color:  #f3f8fe;\n",
       "            color:  #000000;\n",
       "        }#T_1ec0b_row2_col8,#T_1ec0b_row8_col5{\n",
       "            background-color:  #f2f8fd;\n",
       "            color:  #000000;\n",
       "        }#T_1ec0b_row3_col5,#T_1ec0b_row8_col1{\n",
       "            background-color:  #edf4fc;\n",
       "            color:  #000000;\n",
       "        }#T_1ec0b_row3_col8,#T_1ec0b_row9_col4{\n",
       "            background-color:  #f1f7fd;\n",
       "            color:  #000000;\n",
       "        }#T_1ec0b_row4_col9,#T_1ec0b_row5_col6,#T_1ec0b_row5_col8,#T_1ec0b_row7_col9,#T_1ec0b_row8_col3{\n",
       "            background-color:  #f2f7fd;\n",
       "            color:  #000000;\n",
       "        }#T_1ec0b_row5_col3{\n",
       "            background-color:  #eef5fc;\n",
       "            color:  #000000;\n",
       "        }#T_1ec0b_row9_col7{\n",
       "            background-color:  #f0f6fd;\n",
       "            color:  #000000;\n",
       "        }</style><table id=\"T_1ec0b_\" ><thead>    <tr>        <th class=\"blank level0\" ></th>        <th class=\"col_heading level0 col0\" >0</th>        <th class=\"col_heading level0 col1\" >1</th>        <th class=\"col_heading level0 col2\" >2</th>        <th class=\"col_heading level0 col3\" >3</th>        <th class=\"col_heading level0 col4\" >4</th>        <th class=\"col_heading level0 col5\" >5</th>        <th class=\"col_heading level0 col6\" >6</th>        <th class=\"col_heading level0 col7\" >7</th>        <th class=\"col_heading level0 col8\" >8</th>        <th class=\"col_heading level0 col9\" >9</th>    </tr></thead><tbody>\n",
       "                <tr>\n",
       "                        <th id=\"T_1ec0b_level0_row0\" class=\"row_heading level0 row0\" >0</th>\n",
       "                        <td id=\"T_1ec0b_row0_col0\" class=\"data row0 col0\" >96.2</td>\n",
       "                        <td id=\"T_1ec0b_row0_col1\" class=\"data row0 col1\" >0.0</td>\n",
       "                        <td id=\"T_1ec0b_row0_col2\" class=\"data row0 col2\" >0.3</td>\n",
       "                        <td id=\"T_1ec0b_row0_col3\" class=\"data row0 col3\" >0.4</td>\n",
       "                        <td id=\"T_1ec0b_row0_col4\" class=\"data row0 col4\" >0.3</td>\n",
       "                        <td id=\"T_1ec0b_row0_col5\" class=\"data row0 col5\" >0.6</td>\n",
       "                        <td id=\"T_1ec0b_row0_col6\" class=\"data row0 col6\" >1.2</td>\n",
       "                        <td id=\"T_1ec0b_row0_col7\" class=\"data row0 col7\" >0.4</td>\n",
       "                        <td id=\"T_1ec0b_row0_col8\" class=\"data row0 col8\" >0.5</td>\n",
       "                        <td id=\"T_1ec0b_row0_col9\" class=\"data row0 col9\" >0.1</td>\n",
       "            </tr>\n",
       "            <tr>\n",
       "                        <th id=\"T_1ec0b_level0_row1\" class=\"row_heading level0 row1\" >1</th>\n",
       "                        <td id=\"T_1ec0b_row1_col0\" class=\"data row1 col0\" >0.0</td>\n",
       "                        <td id=\"T_1ec0b_row1_col1\" class=\"data row1 col1\" >97.2</td>\n",
       "                        <td id=\"T_1ec0b_row1_col2\" class=\"data row1 col2\" >0.3</td>\n",
       "                        <td id=\"T_1ec0b_row1_col3\" class=\"data row1 col3\" >0.4</td>\n",
       "                        <td id=\"T_1ec0b_row1_col4\" class=\"data row1 col4\" >0.1</td>\n",
       "                        <td id=\"T_1ec0b_row1_col5\" class=\"data row1 col5\" >0.5</td>\n",
       "                        <td id=\"T_1ec0b_row1_col6\" class=\"data row1 col6\" >0.3</td>\n",
       "                        <td id=\"T_1ec0b_row1_col7\" class=\"data row1 col7\" >0.2</td>\n",
       "                        <td id=\"T_1ec0b_row1_col8\" class=\"data row1 col8\" >1.1</td>\n",
       "                        <td id=\"T_1ec0b_row1_col9\" class=\"data row1 col9\" >0.0</td>\n",
       "            </tr>\n",
       "            <tr>\n",
       "                        <th id=\"T_1ec0b_level0_row2\" class=\"row_heading level0 row2\" >2</th>\n",
       "                        <td id=\"T_1ec0b_row2_col0\" class=\"data row2 col0\" >0.8</td>\n",
       "                        <td id=\"T_1ec0b_row2_col1\" class=\"data row2 col1\" >1.6</td>\n",
       "                        <td id=\"T_1ec0b_row2_col2\" class=\"data row2 col2\" >87.8</td>\n",
       "                        <td id=\"T_1ec0b_row2_col3\" class=\"data row2 col3\" >1.6</td>\n",
       "                        <td id=\"T_1ec0b_row2_col4\" class=\"data row2 col4\" >2.2</td>\n",
       "                        <td id=\"T_1ec0b_row2_col5\" class=\"data row2 col5\" >0.2</td>\n",
       "                        <td id=\"T_1ec0b_row2_col6\" class=\"data row2 col6\" >1.3</td>\n",
       "                        <td id=\"T_1ec0b_row2_col7\" class=\"data row2 col7\" >1.8</td>\n",
       "                        <td id=\"T_1ec0b_row2_col8\" class=\"data row2 col8\" >2.1</td>\n",
       "                        <td id=\"T_1ec0b_row2_col9\" class=\"data row2 col9\" >0.5</td>\n",
       "            </tr>\n",
       "            <tr>\n",
       "                        <th id=\"T_1ec0b_level0_row3\" class=\"row_heading level0 row3\" >3</th>\n",
       "                        <td id=\"T_1ec0b_row3_col0\" class=\"data row3 col0\" >0.3</td>\n",
       "                        <td id=\"T_1ec0b_row3_col1\" class=\"data row3 col1\" >0.9</td>\n",
       "                        <td id=\"T_1ec0b_row3_col2\" class=\"data row3 col2\" >1.7</td>\n",
       "                        <td id=\"T_1ec0b_row3_col3\" class=\"data row3 col3\" >87.8</td>\n",
       "                        <td id=\"T_1ec0b_row3_col4\" class=\"data row3 col4\" >0.1</td>\n",
       "                        <td id=\"T_1ec0b_row3_col5\" class=\"data row3 col5\" >4.3</td>\n",
       "                        <td id=\"T_1ec0b_row3_col6\" class=\"data row3 col6\" >0.7</td>\n",
       "                        <td id=\"T_1ec0b_row3_col7\" class=\"data row3 col7\" >0.3</td>\n",
       "                        <td id=\"T_1ec0b_row3_col8\" class=\"data row3 col8\" >2.9</td>\n",
       "                        <td id=\"T_1ec0b_row3_col9\" class=\"data row3 col9\" >1.2</td>\n",
       "            </tr>\n",
       "            <tr>\n",
       "                        <th id=\"T_1ec0b_level0_row4\" class=\"row_heading level0 row4\" >4</th>\n",
       "                        <td id=\"T_1ec0b_row4_col0\" class=\"data row4 col0\" >0.1</td>\n",
       "                        <td id=\"T_1ec0b_row4_col1\" class=\"data row4 col1\" >1.3</td>\n",
       "                        <td id=\"T_1ec0b_row4_col2\" class=\"data row4 col2\" >0.1</td>\n",
       "                        <td id=\"T_1ec0b_row4_col3\" class=\"data row4 col3\" >0.1</td>\n",
       "                        <td id=\"T_1ec0b_row4_col4\" class=\"data row4 col4\" >94.7</td>\n",
       "                        <td id=\"T_1ec0b_row4_col5\" class=\"data row4 col5\" >0.1</td>\n",
       "                        <td id=\"T_1ec0b_row4_col6\" class=\"data row4 col6\" >0.5</td>\n",
       "                        <td id=\"T_1ec0b_row4_col7\" class=\"data row4 col7\" >0.2</td>\n",
       "                        <td id=\"T_1ec0b_row4_col8\" class=\"data row4 col8\" >0.2</td>\n",
       "                        <td id=\"T_1ec0b_row4_col9\" class=\"data row4 col9\" >2.6</td>\n",
       "            </tr>\n",
       "            <tr>\n",
       "                        <th id=\"T_1ec0b_level0_row5\" class=\"row_heading level0 row5\" >5</th>\n",
       "                        <td id=\"T_1ec0b_row5_col0\" class=\"data row5 col0\" >1.4</td>\n",
       "                        <td id=\"T_1ec0b_row5_col1\" class=\"data row5 col1\" >1.3</td>\n",
       "                        <td id=\"T_1ec0b_row5_col2\" class=\"data row5 col2\" >1.0</td>\n",
       "                        <td id=\"T_1ec0b_row5_col3\" class=\"data row5 col3\" >4.0</td>\n",
       "                        <td id=\"T_1ec0b_row5_col4\" class=\"data row5 col4\" >1.1</td>\n",
       "                        <td id=\"T_1ec0b_row5_col5\" class=\"data row5 col5\" >84.0</td>\n",
       "                        <td id=\"T_1ec0b_row5_col6\" class=\"data row5 col6\" >2.8</td>\n",
       "                        <td id=\"T_1ec0b_row5_col7\" class=\"data row5 col7\" >0.8</td>\n",
       "                        <td id=\"T_1ec0b_row5_col8\" class=\"data row5 col8\" >2.5</td>\n",
       "                        <td id=\"T_1ec0b_row5_col9\" class=\"data row5 col9\" >1.0</td>\n",
       "            </tr>\n",
       "            <tr>\n",
       "                        <th id=\"T_1ec0b_level0_row6\" class=\"row_heading level0 row6\" >6</th>\n",
       "                        <td id=\"T_1ec0b_row6_col0\" class=\"data row6 col0\" >0.4</td>\n",
       "                        <td id=\"T_1ec0b_row6_col1\" class=\"data row6 col1\" >0.7</td>\n",
       "                        <td id=\"T_1ec0b_row6_col2\" class=\"data row6 col2\" >0.6</td>\n",
       "                        <td id=\"T_1ec0b_row6_col3\" class=\"data row6 col3\" >0.0</td>\n",
       "                        <td id=\"T_1ec0b_row6_col4\" class=\"data row6 col4\" >0.6</td>\n",
       "                        <td id=\"T_1ec0b_row6_col5\" class=\"data row6 col5\" >0.3</td>\n",
       "                        <td id=\"T_1ec0b_row6_col6\" class=\"data row6 col6\" >96.4</td>\n",
       "                        <td id=\"T_1ec0b_row6_col7\" class=\"data row6 col7\" >0.0</td>\n",
       "                        <td id=\"T_1ec0b_row6_col8\" class=\"data row6 col8\" >0.9</td>\n",
       "                        <td id=\"T_1ec0b_row6_col9\" class=\"data row6 col9\" >0.0</td>\n",
       "            </tr>\n",
       "            <tr>\n",
       "                        <th id=\"T_1ec0b_level0_row7\" class=\"row_heading level0 row7\" >7</th>\n",
       "                        <td id=\"T_1ec0b_row7_col0\" class=\"data row7 col0\" >0.7</td>\n",
       "                        <td id=\"T_1ec0b_row7_col1\" class=\"data row7 col1\" >1.7</td>\n",
       "                        <td id=\"T_1ec0b_row7_col2\" class=\"data row7 col2\" >0.9</td>\n",
       "                        <td id=\"T_1ec0b_row7_col3\" class=\"data row7 col3\" >0.7</td>\n",
       "                        <td id=\"T_1ec0b_row7_col4\" class=\"data row7 col4\" >0.7</td>\n",
       "                        <td id=\"T_1ec0b_row7_col5\" class=\"data row7 col5\" >0.0</td>\n",
       "                        <td id=\"T_1ec0b_row7_col6\" class=\"data row7 col6\" >0.0</td>\n",
       "                        <td id=\"T_1ec0b_row7_col7\" class=\"data row7 col7\" >92.6</td>\n",
       "                        <td id=\"T_1ec0b_row7_col8\" class=\"data row7 col8\" >0.0</td>\n",
       "                        <td id=\"T_1ec0b_row7_col9\" class=\"data row7 col9\" >2.6</td>\n",
       "            </tr>\n",
       "            <tr>\n",
       "                        <th id=\"T_1ec0b_level0_row8\" class=\"row_heading level0 row8\" >8</th>\n",
       "                        <td id=\"T_1ec0b_row8_col0\" class=\"data row8 col0\" >0.6</td>\n",
       "                        <td id=\"T_1ec0b_row8_col1\" class=\"data row8 col1\" >5.0</td>\n",
       "                        <td id=\"T_1ec0b_row8_col2\" class=\"data row8 col2\" >1.3</td>\n",
       "                        <td id=\"T_1ec0b_row8_col3\" class=\"data row8 col3\" >2.5</td>\n",
       "                        <td id=\"T_1ec0b_row8_col4\" class=\"data row8 col4\" >0.7</td>\n",
       "                        <td id=\"T_1ec0b_row8_col5\" class=\"data row8 col5\" >2.0</td>\n",
       "                        <td id=\"T_1ec0b_row8_col6\" class=\"data row8 col6\" >0.5</td>\n",
       "                        <td id=\"T_1ec0b_row8_col7\" class=\"data row8 col7\" >1.4</td>\n",
       "                        <td id=\"T_1ec0b_row8_col8\" class=\"data row8 col8\" >84.0</td>\n",
       "                        <td id=\"T_1ec0b_row8_col9\" class=\"data row8 col9\" >2.1</td>\n",
       "            </tr>\n",
       "            <tr>\n",
       "                        <th id=\"T_1ec0b_level0_row9\" class=\"row_heading level0 row9\" >9</th>\n",
       "                        <td id=\"T_1ec0b_row9_col0\" class=\"data row9 col0\" >0.6</td>\n",
       "                        <td id=\"T_1ec0b_row9_col1\" class=\"data row9 col1\" >1.0</td>\n",
       "                        <td id=\"T_1ec0b_row9_col2\" class=\"data row9 col2\" >0.4</td>\n",
       "                        <td id=\"T_1ec0b_row9_col3\" class=\"data row9 col3\" >1.4</td>\n",
       "                        <td id=\"T_1ec0b_row9_col4\" class=\"data row9 col4\" >3.2</td>\n",
       "                        <td id=\"T_1ec0b_row9_col5\" class=\"data row9 col5\" >0.4</td>\n",
       "                        <td id=\"T_1ec0b_row9_col6\" class=\"data row9 col6\" >0.1</td>\n",
       "                        <td id=\"T_1ec0b_row9_col7\" class=\"data row9 col7\" >3.5</td>\n",
       "                        <td id=\"T_1ec0b_row9_col8\" class=\"data row9 col8\" >0.4</td>\n",
       "                        <td id=\"T_1ec0b_row9_col9\" class=\"data row9 col9\" >88.9</td>\n",
       "            </tr>\n",
       "    </tbody></table>"
      ],
      "text/plain": [
       "<pandas.io.formats.style.Styler at 0x29405f45f40>"
      ]
     },
     "execution_count": 40,
     "metadata": {},
     "output_type": "execute_result"
    }
   ],
   "source": [
    "confusion_matrix(nnet.use(Xval)[0], Tval)"
   ]
  },
  {
   "cell_type": "code",
   "execution_count": 41,
   "metadata": {},
   "outputs": [
    {
     "name": "stdout",
     "output_type": "stream",
     "text": [
      "Percent Correct\n"
     ]
    },
    {
     "data": {
      "text/html": [
       "<style  type=\"text/css\" >\n",
       "#T_5b5b6_row0_col0,#T_5b5b6_row1_col1,#T_5b5b6_row2_col2,#T_5b5b6_row3_col3,#T_5b5b6_row4_col4,#T_5b5b6_row5_col5,#T_5b5b6_row6_col6,#T_5b5b6_row7_col7,#T_5b5b6_row8_col8,#T_5b5b6_row9_col9{\n",
       "            background-color:  #08306b;\n",
       "            color:  #f1f1f1;\n",
       "        }#T_5b5b6_row0_col1,#T_5b5b6_row0_col2,#T_5b5b6_row0_col3,#T_5b5b6_row0_col4,#T_5b5b6_row0_col7,#T_5b5b6_row0_col8,#T_5b5b6_row0_col9,#T_5b5b6_row1_col0,#T_5b5b6_row1_col2,#T_5b5b6_row1_col3,#T_5b5b6_row1_col4,#T_5b5b6_row1_col5,#T_5b5b6_row1_col6,#T_5b5b6_row1_col7,#T_5b5b6_row1_col9,#T_5b5b6_row2_col5,#T_5b5b6_row3_col4,#T_5b5b6_row4_col0,#T_5b5b6_row4_col2,#T_5b5b6_row4_col3,#T_5b5b6_row4_col5,#T_5b5b6_row4_col7,#T_5b5b6_row4_col8,#T_5b5b6_row6_col3,#T_5b5b6_row6_col7,#T_5b5b6_row6_col9,#T_5b5b6_row7_col0,#T_5b5b6_row7_col5,#T_5b5b6_row7_col6,#T_5b5b6_row7_col8,#T_5b5b6_row9_col2,#T_5b5b6_row9_col6{\n",
       "            background-color:  #f7fbff;\n",
       "            color:  #000000;\n",
       "        }#T_5b5b6_row0_col5,#T_5b5b6_row0_col6,#T_5b5b6_row2_col6,#T_5b5b6_row3_col9,#T_5b5b6_row5_col9,#T_5b5b6_row6_col2,#T_5b5b6_row7_col4,#T_5b5b6_row8_col0,#T_5b5b6_row8_col2,#T_5b5b6_row9_col1{\n",
       "            background-color:  #f5fafe;\n",
       "            color:  #000000;\n",
       "        }#T_5b5b6_row1_col8,#T_5b5b6_row3_col7,#T_5b5b6_row5_col4,#T_5b5b6_row5_col7,#T_5b5b6_row8_col7,#T_5b5b6_row9_col0{\n",
       "            background-color:  #f4f9fe;\n",
       "            color:  #000000;\n",
       "        }#T_5b5b6_row2_col0,#T_5b5b6_row2_col1,#T_5b5b6_row2_col4,#T_5b5b6_row4_col6,#T_5b5b6_row5_col0,#T_5b5b6_row6_col0,#T_5b5b6_row6_col4,#T_5b5b6_row8_col6,#T_5b5b6_row9_col3{\n",
       "            background-color:  #f5f9fe;\n",
       "            color:  #000000;\n",
       "        }#T_5b5b6_row2_col3,#T_5b5b6_row3_col2,#T_5b5b6_row3_col8,#T_5b5b6_row6_col5,#T_5b5b6_row7_col1,#T_5b5b6_row8_col1,#T_5b5b6_row8_col4,#T_5b5b6_row8_col9{\n",
       "            background-color:  #f3f8fe;\n",
       "            color:  #000000;\n",
       "        }#T_5b5b6_row2_col7,#T_5b5b6_row5_col6,#T_5b5b6_row7_col2{\n",
       "            background-color:  #f2f8fd;\n",
       "            color:  #000000;\n",
       "        }#T_5b5b6_row2_col8,#T_5b5b6_row3_col5,#T_5b5b6_row7_col9{\n",
       "            background-color:  #eff6fc;\n",
       "            color:  #000000;\n",
       "        }#T_5b5b6_row2_col9,#T_5b5b6_row3_col0,#T_5b5b6_row3_col1,#T_5b5b6_row3_col6,#T_5b5b6_row4_col1,#T_5b5b6_row5_col1,#T_5b5b6_row5_col2,#T_5b5b6_row6_col1,#T_5b5b6_row6_col8,#T_5b5b6_row7_col3,#T_5b5b6_row9_col5,#T_5b5b6_row9_col8{\n",
       "            background-color:  #f6faff;\n",
       "            color:  #000000;\n",
       "        }#T_5b5b6_row4_col9,#T_5b5b6_row8_col5{\n",
       "            background-color:  #f0f6fd;\n",
       "            color:  #000000;\n",
       "        }#T_5b5b6_row5_col3{\n",
       "            background-color:  #eef5fc;\n",
       "            color:  #000000;\n",
       "        }#T_5b5b6_row5_col8{\n",
       "            background-color:  #f1f7fd;\n",
       "            color:  #000000;\n",
       "        }#T_5b5b6_row8_col3,#T_5b5b6_row9_col7{\n",
       "            background-color:  #f2f7fd;\n",
       "            color:  #000000;\n",
       "        }#T_5b5b6_row9_col4{\n",
       "            background-color:  #edf4fc;\n",
       "            color:  #000000;\n",
       "        }</style><table id=\"T_5b5b6_\" ><thead>    <tr>        <th class=\"blank level0\" ></th>        <th class=\"col_heading level0 col0\" >0</th>        <th class=\"col_heading level0 col1\" >1</th>        <th class=\"col_heading level0 col2\" >2</th>        <th class=\"col_heading level0 col3\" >3</th>        <th class=\"col_heading level0 col4\" >4</th>        <th class=\"col_heading level0 col5\" >5</th>        <th class=\"col_heading level0 col6\" >6</th>        <th class=\"col_heading level0 col7\" >7</th>        <th class=\"col_heading level0 col8\" >8</th>        <th class=\"col_heading level0 col9\" >9</th>    </tr></thead><tbody>\n",
       "                <tr>\n",
       "                        <th id=\"T_5b5b6_level0_row0\" class=\"row_heading level0 row0\" >0</th>\n",
       "                        <td id=\"T_5b5b6_row0_col0\" class=\"data row0 col0\" >97.6</td>\n",
       "                        <td id=\"T_5b5b6_row0_col1\" class=\"data row0 col1\" >0.0</td>\n",
       "                        <td id=\"T_5b5b6_row0_col2\" class=\"data row0 col2\" >0.1</td>\n",
       "                        <td id=\"T_5b5b6_row0_col3\" class=\"data row0 col3\" >0.1</td>\n",
       "                        <td id=\"T_5b5b6_row0_col4\" class=\"data row0 col4\" >0.0</td>\n",
       "                        <td id=\"T_5b5b6_row0_col5\" class=\"data row0 col5\" >0.9</td>\n",
       "                        <td id=\"T_5b5b6_row0_col6\" class=\"data row0 col6\" >1.0</td>\n",
       "                        <td id=\"T_5b5b6_row0_col7\" class=\"data row0 col7\" >0.1</td>\n",
       "                        <td id=\"T_5b5b6_row0_col8\" class=\"data row0 col8\" >0.2</td>\n",
       "                        <td id=\"T_5b5b6_row0_col9\" class=\"data row0 col9\" >0.0</td>\n",
       "            </tr>\n",
       "            <tr>\n",
       "                        <th id=\"T_5b5b6_level0_row1\" class=\"row_heading level0 row1\" >1</th>\n",
       "                        <td id=\"T_5b5b6_row1_col0\" class=\"data row1 col0\" >0.0</td>\n",
       "                        <td id=\"T_5b5b6_row1_col1\" class=\"data row1 col1\" >97.4</td>\n",
       "                        <td id=\"T_5b5b6_row1_col2\" class=\"data row1 col2\" >0.3</td>\n",
       "                        <td id=\"T_5b5b6_row1_col3\" class=\"data row1 col3\" >0.2</td>\n",
       "                        <td id=\"T_5b5b6_row1_col4\" class=\"data row1 col4\" >0.1</td>\n",
       "                        <td id=\"T_5b5b6_row1_col5\" class=\"data row1 col5\" >0.3</td>\n",
       "                        <td id=\"T_5b5b6_row1_col6\" class=\"data row1 col6\" >0.4</td>\n",
       "                        <td id=\"T_5b5b6_row1_col7\" class=\"data row1 col7\" >0.0</td>\n",
       "                        <td id=\"T_5b5b6_row1_col8\" class=\"data row1 col8\" >1.4</td>\n",
       "                        <td id=\"T_5b5b6_row1_col9\" class=\"data row1 col9\" >0.0</td>\n",
       "            </tr>\n",
       "            <tr>\n",
       "                        <th id=\"T_5b5b6_level0_row2\" class=\"row_heading level0 row2\" >2</th>\n",
       "                        <td id=\"T_5b5b6_row2_col0\" class=\"data row2 col0\" >1.4</td>\n",
       "                        <td id=\"T_5b5b6_row2_col1\" class=\"data row2 col1\" >1.3</td>\n",
       "                        <td id=\"T_5b5b6_row2_col2\" class=\"data row2 col2\" >86.9</td>\n",
       "                        <td id=\"T_5b5b6_row2_col3\" class=\"data row2 col3\" >1.8</td>\n",
       "                        <td id=\"T_5b5b6_row2_col4\" class=\"data row2 col4\" >1.5</td>\n",
       "                        <td id=\"T_5b5b6_row2_col5\" class=\"data row2 col5\" >0.2</td>\n",
       "                        <td id=\"T_5b5b6_row2_col6\" class=\"data row2 col6\" >1.0</td>\n",
       "                        <td id=\"T_5b5b6_row2_col7\" class=\"data row2 col7\" >2.1</td>\n",
       "                        <td id=\"T_5b5b6_row2_col8\" class=\"data row2 col8\" >3.4</td>\n",
       "                        <td id=\"T_5b5b6_row2_col9\" class=\"data row2 col9\" >0.5</td>\n",
       "            </tr>\n",
       "            <tr>\n",
       "                        <th id=\"T_5b5b6_level0_row3\" class=\"row_heading level0 row3\" >3</th>\n",
       "                        <td id=\"T_5b5b6_row3_col0\" class=\"data row3 col0\" >0.5</td>\n",
       "                        <td id=\"T_5b5b6_row3_col1\" class=\"data row3 col1\" >0.5</td>\n",
       "                        <td id=\"T_5b5b6_row3_col2\" class=\"data row3 col2\" >2.1</td>\n",
       "                        <td id=\"T_5b5b6_row3_col3\" class=\"data row3 col3\" >88.6</td>\n",
       "                        <td id=\"T_5b5b6_row3_col4\" class=\"data row3 col4\" >0.0</td>\n",
       "                        <td id=\"T_5b5b6_row3_col5\" class=\"data row3 col5\" >3.7</td>\n",
       "                        <td id=\"T_5b5b6_row3_col6\" class=\"data row3 col6\" >0.5</td>\n",
       "                        <td id=\"T_5b5b6_row3_col7\" class=\"data row3 col7\" >1.7</td>\n",
       "                        <td id=\"T_5b5b6_row3_col8\" class=\"data row3 col8\" >1.8</td>\n",
       "                        <td id=\"T_5b5b6_row3_col9\" class=\"data row3 col9\" >0.7</td>\n",
       "            </tr>\n",
       "            <tr>\n",
       "                        <th id=\"T_5b5b6_level0_row4\" class=\"row_heading level0 row4\" >4</th>\n",
       "                        <td id=\"T_5b5b6_row4_col0\" class=\"data row4 col0\" >0.1</td>\n",
       "                        <td id=\"T_5b5b6_row4_col1\" class=\"data row4 col1\" >0.7</td>\n",
       "                        <td id=\"T_5b5b6_row4_col2\" class=\"data row4 col2\" >0.4</td>\n",
       "                        <td id=\"T_5b5b6_row4_col3\" class=\"data row4 col3\" >0.0</td>\n",
       "                        <td id=\"T_5b5b6_row4_col4\" class=\"data row4 col4\" >93.5</td>\n",
       "                        <td id=\"T_5b5b6_row4_col5\" class=\"data row4 col5\" >0.2</td>\n",
       "                        <td id=\"T_5b5b6_row4_col6\" class=\"data row4 col6\" >1.2</td>\n",
       "                        <td id=\"T_5b5b6_row4_col7\" class=\"data row4 col7\" >0.2</td>\n",
       "                        <td id=\"T_5b5b6_row4_col8\" class=\"data row4 col8\" >0.3</td>\n",
       "                        <td id=\"T_5b5b6_row4_col9\" class=\"data row4 col9\" >3.4</td>\n",
       "            </tr>\n",
       "            <tr>\n",
       "                        <th id=\"T_5b5b6_level0_row5\" class=\"row_heading level0 row5\" >5</th>\n",
       "                        <td id=\"T_5b5b6_row5_col0\" class=\"data row5 col0\" >1.3</td>\n",
       "                        <td id=\"T_5b5b6_row5_col1\" class=\"data row5 col1\" >0.6</td>\n",
       "                        <td id=\"T_5b5b6_row5_col2\" class=\"data row5 col2\" >0.6</td>\n",
       "                        <td id=\"T_5b5b6_row5_col3\" class=\"data row5 col3\" >4.5</td>\n",
       "                        <td id=\"T_5b5b6_row5_col4\" class=\"data row5 col4\" >1.6</td>\n",
       "                        <td id=\"T_5b5b6_row5_col5\" class=\"data row5 col5\" >84.1</td>\n",
       "                        <td id=\"T_5b5b6_row5_col6\" class=\"data row5 col6\" >2.4</td>\n",
       "                        <td id=\"T_5b5b6_row5_col7\" class=\"data row5 col7\" >1.6</td>\n",
       "                        <td id=\"T_5b5b6_row5_col8\" class=\"data row5 col8\" >2.7</td>\n",
       "                        <td id=\"T_5b5b6_row5_col9\" class=\"data row5 col9\" >0.8</td>\n",
       "            </tr>\n",
       "            <tr>\n",
       "                        <th id=\"T_5b5b6_level0_row6\" class=\"row_heading level0 row6\" >6</th>\n",
       "                        <td id=\"T_5b5b6_row6_col0\" class=\"data row6 col0\" >1.5</td>\n",
       "                        <td id=\"T_5b5b6_row6_col1\" class=\"data row6 col1\" >0.7</td>\n",
       "                        <td id=\"T_5b5b6_row6_col2\" class=\"data row6 col2\" >0.9</td>\n",
       "                        <td id=\"T_5b5b6_row6_col3\" class=\"data row6 col3\" >0.0</td>\n",
       "                        <td id=\"T_5b5b6_row6_col4\" class=\"data row6 col4\" >1.4</td>\n",
       "                        <td id=\"T_5b5b6_row6_col5\" class=\"data row6 col5\" >1.8</td>\n",
       "                        <td id=\"T_5b5b6_row6_col6\" class=\"data row6 col6\" >93.2</td>\n",
       "                        <td id=\"T_5b5b6_row6_col7\" class=\"data row6 col7\" >0.1</td>\n",
       "                        <td id=\"T_5b5b6_row6_col8\" class=\"data row6 col8\" >0.4</td>\n",
       "                        <td id=\"T_5b5b6_row6_col9\" class=\"data row6 col9\" >0.0</td>\n",
       "            </tr>\n",
       "            <tr>\n",
       "                        <th id=\"T_5b5b6_level0_row7\" class=\"row_heading level0 row7\" >7</th>\n",
       "                        <td id=\"T_5b5b6_row7_col0\" class=\"data row7 col0\" >0.1</td>\n",
       "                        <td id=\"T_5b5b6_row7_col1\" class=\"data row7 col1\" >2.0</td>\n",
       "                        <td id=\"T_5b5b6_row7_col2\" class=\"data row7 col2\" >2.2</td>\n",
       "                        <td id=\"T_5b5b6_row7_col3\" class=\"data row7 col3\" >0.4</td>\n",
       "                        <td id=\"T_5b5b6_row7_col4\" class=\"data row7 col4\" >1.1</td>\n",
       "                        <td id=\"T_5b5b6_row7_col5\" class=\"data row7 col5\" >0.1</td>\n",
       "                        <td id=\"T_5b5b6_row7_col6\" class=\"data row7 col6\" >0.1</td>\n",
       "                        <td id=\"T_5b5b6_row7_col7\" class=\"data row7 col7\" >90.4</td>\n",
       "                        <td id=\"T_5b5b6_row7_col8\" class=\"data row7 col8\" >0.0</td>\n",
       "                        <td id=\"T_5b5b6_row7_col9\" class=\"data row7 col9\" >3.6</td>\n",
       "            </tr>\n",
       "            <tr>\n",
       "                        <th id=\"T_5b5b6_level0_row8\" class=\"row_heading level0 row8\" >8</th>\n",
       "                        <td id=\"T_5b5b6_row8_col0\" class=\"data row8 col0\" >1.0</td>\n",
       "                        <td id=\"T_5b5b6_row8_col1\" class=\"data row8 col1\" >2.1</td>\n",
       "                        <td id=\"T_5b5b6_row8_col2\" class=\"data row8 col2\" >0.9</td>\n",
       "                        <td id=\"T_5b5b6_row8_col3\" class=\"data row8 col3\" >2.7</td>\n",
       "                        <td id=\"T_5b5b6_row8_col4\" class=\"data row8 col4\" >2.0</td>\n",
       "                        <td id=\"T_5b5b6_row8_col5\" class=\"data row8 col5\" >3.3</td>\n",
       "                        <td id=\"T_5b5b6_row8_col6\" class=\"data row8 col6\" >1.2</td>\n",
       "                        <td id=\"T_5b5b6_row8_col7\" class=\"data row8 col7\" >1.7</td>\n",
       "                        <td id=\"T_5b5b6_row8_col8\" class=\"data row8 col8\" >83.2</td>\n",
       "                        <td id=\"T_5b5b6_row8_col9\" class=\"data row8 col9\" >2.0</td>\n",
       "            </tr>\n",
       "            <tr>\n",
       "                        <th id=\"T_5b5b6_level0_row9\" class=\"row_heading level0 row9\" >9</th>\n",
       "                        <td id=\"T_5b5b6_row9_col0\" class=\"data row9 col0\" >1.7</td>\n",
       "                        <td id=\"T_5b5b6_row9_col1\" class=\"data row9 col1\" >0.8</td>\n",
       "                        <td id=\"T_5b5b6_row9_col2\" class=\"data row9 col2\" >0.3</td>\n",
       "                        <td id=\"T_5b5b6_row9_col3\" class=\"data row9 col3\" >1.3</td>\n",
       "                        <td id=\"T_5b5b6_row9_col4\" class=\"data row9 col4\" >4.8</td>\n",
       "                        <td id=\"T_5b5b6_row9_col5\" class=\"data row9 col5\" >0.6</td>\n",
       "                        <td id=\"T_5b5b6_row9_col6\" class=\"data row9 col6\" >0.0</td>\n",
       "                        <td id=\"T_5b5b6_row9_col7\" class=\"data row9 col7\" >2.6</td>\n",
       "                        <td id=\"T_5b5b6_row9_col8\" class=\"data row9 col8\" >0.4</td>\n",
       "                        <td id=\"T_5b5b6_row9_col9\" class=\"data row9 col9\" >87.6</td>\n",
       "            </tr>\n",
       "    </tbody></table>"
      ],
      "text/plain": [
       "<pandas.io.formats.style.Styler at 0x29405f454c0>"
      ]
     },
     "execution_count": 41,
     "metadata": {},
     "output_type": "execute_result"
    }
   ],
   "source": [
    "confusion_matrix(nnet.use(Xtest)[0], Ttest)"
   ]
  },
  {
   "cell_type": "code",
   "execution_count": 42,
   "metadata": {},
   "outputs": [
    {
     "name": "stdout",
     "output_type": "stream",
     "text": [
      "Percent Correct\n"
     ]
    },
    {
     "data": {
      "text/html": [
       "<style  type=\"text/css\" >\n",
       "#T_8646d_row0_col0,#T_8646d_row1_col1,#T_8646d_row2_col2,#T_8646d_row3_col3,#T_8646d_row4_col4,#T_8646d_row5_col5,#T_8646d_row6_col6,#T_8646d_row7_col7,#T_8646d_row8_col8,#T_8646d_row9_col9{\n",
       "            background-color:  #08306b;\n",
       "            color:  #f1f1f1;\n",
       "        }#T_8646d_row0_col1,#T_8646d_row0_col2,#T_8646d_row0_col3,#T_8646d_row0_col4,#T_8646d_row0_col7,#T_8646d_row0_col9,#T_8646d_row1_col0,#T_8646d_row1_col2,#T_8646d_row1_col3,#T_8646d_row1_col4,#T_8646d_row1_col6,#T_8646d_row1_col7,#T_8646d_row1_col9,#T_8646d_row2_col5,#T_8646d_row3_col4,#T_8646d_row4_col0,#T_8646d_row4_col2,#T_8646d_row4_col3,#T_8646d_row4_col5,#T_8646d_row4_col7,#T_8646d_row5_col2,#T_8646d_row6_col3,#T_8646d_row6_col7,#T_8646d_row6_col9,#T_8646d_row7_col0,#T_8646d_row7_col5,#T_8646d_row7_col6,#T_8646d_row7_col8,#T_8646d_row8_col7,#T_8646d_row9_col2,#T_8646d_row9_col6{\n",
       "            background-color:  #f7fbff;\n",
       "            color:  #000000;\n",
       "        }#T_8646d_row0_col5,#T_8646d_row0_col6,#T_8646d_row2_col0,#T_8646d_row3_col1,#T_8646d_row4_col6,#T_8646d_row6_col0,#T_8646d_row7_col2,#T_8646d_row8_col0,#T_8646d_row8_col2,#T_8646d_row8_col4,#T_8646d_row8_col6{\n",
       "            background-color:  #f5fafe;\n",
       "            color:  #000000;\n",
       "        }#T_8646d_row0_col8,#T_8646d_row1_col5,#T_8646d_row2_col9,#T_8646d_row3_col0,#T_8646d_row3_col6,#T_8646d_row4_col1,#T_8646d_row4_col8,#T_8646d_row5_col7,#T_8646d_row6_col1,#T_8646d_row6_col2,#T_8646d_row6_col4,#T_8646d_row6_col8,#T_8646d_row7_col3,#T_8646d_row9_col0,#T_8646d_row9_col1,#T_8646d_row9_col5,#T_8646d_row9_col8{\n",
       "            background-color:  #f6faff;\n",
       "            color:  #000000;\n",
       "        }#T_8646d_row1_col8,#T_8646d_row3_col9,#T_8646d_row5_col1,#T_8646d_row5_col4,#T_8646d_row5_col9,#T_8646d_row6_col5,#T_8646d_row7_col4{\n",
       "            background-color:  #f5f9fe;\n",
       "            color:  #000000;\n",
       "        }#T_8646d_row2_col1,#T_8646d_row2_col3,#T_8646d_row3_col7,#T_8646d_row5_col0,#T_8646d_row7_col1,#T_8646d_row9_col3{\n",
       "            background-color:  #f4f9fe;\n",
       "            color:  #000000;\n",
       "        }#T_8646d_row2_col4,#T_8646d_row2_col6,#T_8646d_row2_col7,#T_8646d_row3_col2,#T_8646d_row3_col8,#T_8646d_row5_col6{\n",
       "            background-color:  #f3f8fe;\n",
       "            color:  #000000;\n",
       "        }#T_8646d_row2_col8{\n",
       "            background-color:  #f2f7fd;\n",
       "            color:  #000000;\n",
       "        }#T_8646d_row3_col5,#T_8646d_row4_col9,#T_8646d_row8_col1{\n",
       "            background-color:  #eef5fc;\n",
       "            color:  #000000;\n",
       "        }#T_8646d_row5_col3,#T_8646d_row5_col8,#T_8646d_row8_col5{\n",
       "            background-color:  #f1f7fd;\n",
       "            color:  #000000;\n",
       "        }#T_8646d_row7_col9,#T_8646d_row9_col7{\n",
       "            background-color:  #eff6fc;\n",
       "            color:  #000000;\n",
       "        }#T_8646d_row8_col3,#T_8646d_row9_col4{\n",
       "            background-color:  #f0f6fd;\n",
       "            color:  #000000;\n",
       "        }#T_8646d_row8_col9{\n",
       "            background-color:  #f2f8fd;\n",
       "            color:  #000000;\n",
       "        }</style><table id=\"T_8646d_\" ><thead>    <tr>        <th class=\"blank level0\" ></th>        <th class=\"col_heading level0 col0\" >0</th>        <th class=\"col_heading level0 col1\" >1</th>        <th class=\"col_heading level0 col2\" >2</th>        <th class=\"col_heading level0 col3\" >3</th>        <th class=\"col_heading level0 col4\" >4</th>        <th class=\"col_heading level0 col5\" >5</th>        <th class=\"col_heading level0 col6\" >6</th>        <th class=\"col_heading level0 col7\" >7</th>        <th class=\"col_heading level0 col8\" >8</th>        <th class=\"col_heading level0 col9\" >9</th>    </tr></thead><tbody>\n",
       "                <tr>\n",
       "                        <th id=\"T_8646d_level0_row0\" class=\"row_heading level0 row0\" >0</th>\n",
       "                        <td id=\"T_8646d_row0_col0\" class=\"data row0 col0\" >96.0</td>\n",
       "                        <td id=\"T_8646d_row0_col1\" class=\"data row0 col1\" >0.1</td>\n",
       "                        <td id=\"T_8646d_row0_col2\" class=\"data row0 col2\" >0.4</td>\n",
       "                        <td id=\"T_8646d_row0_col3\" class=\"data row0 col3\" >0.2</td>\n",
       "                        <td id=\"T_8646d_row0_col4\" class=\"data row0 col4\" >0.3</td>\n",
       "                        <td id=\"T_8646d_row0_col5\" class=\"data row0 col5\" >1.0</td>\n",
       "                        <td id=\"T_8646d_row0_col6\" class=\"data row0 col6\" >0.9</td>\n",
       "                        <td id=\"T_8646d_row0_col7\" class=\"data row0 col7\" >0.3</td>\n",
       "                        <td id=\"T_8646d_row0_col8\" class=\"data row0 col8\" >0.7</td>\n",
       "                        <td id=\"T_8646d_row0_col9\" class=\"data row0 col9\" >0.1</td>\n",
       "            </tr>\n",
       "            <tr>\n",
       "                        <th id=\"T_8646d_level0_row1\" class=\"row_heading level0 row1\" >1</th>\n",
       "                        <td id=\"T_8646d_row1_col0\" class=\"data row1 col0\" >0.0</td>\n",
       "                        <td id=\"T_8646d_row1_col1\" class=\"data row1 col1\" >96.9</td>\n",
       "                        <td id=\"T_8646d_row1_col2\" class=\"data row1 col2\" >0.5</td>\n",
       "                        <td id=\"T_8646d_row1_col3\" class=\"data row1 col3\" >0.3</td>\n",
       "                        <td id=\"T_8646d_row1_col4\" class=\"data row1 col4\" >0.1</td>\n",
       "                        <td id=\"T_8646d_row1_col5\" class=\"data row1 col5\" >0.5</td>\n",
       "                        <td id=\"T_8646d_row1_col6\" class=\"data row1 col6\" >0.1</td>\n",
       "                        <td id=\"T_8646d_row1_col7\" class=\"data row1 col7\" >0.2</td>\n",
       "                        <td id=\"T_8646d_row1_col8\" class=\"data row1 col8\" >1.3</td>\n",
       "                        <td id=\"T_8646d_row1_col9\" class=\"data row1 col9\" >0.1</td>\n",
       "            </tr>\n",
       "            <tr>\n",
       "                        <th id=\"T_8646d_level0_row2\" class=\"row_heading level0 row2\" >2</th>\n",
       "                        <td id=\"T_8646d_row2_col0\" class=\"data row2 col0\" >1.1</td>\n",
       "                        <td id=\"T_8646d_row2_col1\" class=\"data row2 col1\" >1.6</td>\n",
       "                        <td id=\"T_8646d_row2_col2\" class=\"data row2 col2\" >86.6</td>\n",
       "                        <td id=\"T_8646d_row2_col3\" class=\"data row2 col3\" >1.6</td>\n",
       "                        <td id=\"T_8646d_row2_col4\" class=\"data row2 col4\" >1.9</td>\n",
       "                        <td id=\"T_8646d_row2_col5\" class=\"data row2 col5\" >0.3</td>\n",
       "                        <td id=\"T_8646d_row2_col6\" class=\"data row2 col6\" >1.9</td>\n",
       "                        <td id=\"T_8646d_row2_col7\" class=\"data row2 col7\" >2.0</td>\n",
       "                        <td id=\"T_8646d_row2_col8\" class=\"data row2 col8\" >2.6</td>\n",
       "                        <td id=\"T_8646d_row2_col9\" class=\"data row2 col9\" >0.4</td>\n",
       "            </tr>\n",
       "            <tr>\n",
       "                        <th id=\"T_8646d_level0_row3\" class=\"row_heading level0 row3\" >3</th>\n",
       "                        <td id=\"T_8646d_row3_col0\" class=\"data row3 col0\" >0.6</td>\n",
       "                        <td id=\"T_8646d_row3_col1\" class=\"data row3 col1\" >1.1</td>\n",
       "                        <td id=\"T_8646d_row3_col2\" class=\"data row3 col2\" >2.4</td>\n",
       "                        <td id=\"T_8646d_row3_col3\" class=\"data row3 col3\" >86.6</td>\n",
       "                        <td id=\"T_8646d_row3_col4\" class=\"data row3 col4\" >0.2</td>\n",
       "                        <td id=\"T_8646d_row3_col5\" class=\"data row3 col5\" >3.8</td>\n",
       "                        <td id=\"T_8646d_row3_col6\" class=\"data row3 col6\" >0.5</td>\n",
       "                        <td id=\"T_8646d_row3_col7\" class=\"data row3 col7\" >1.7</td>\n",
       "                        <td id=\"T_8646d_row3_col8\" class=\"data row3 col8\" >2.0</td>\n",
       "                        <td id=\"T_8646d_row3_col9\" class=\"data row3 col9\" >1.2</td>\n",
       "            </tr>\n",
       "            <tr>\n",
       "                        <th id=\"T_8646d_level0_row4\" class=\"row_heading level0 row4\" >4</th>\n",
       "                        <td id=\"T_8646d_row4_col0\" class=\"data row4 col0\" >0.2</td>\n",
       "                        <td id=\"T_8646d_row4_col1\" class=\"data row4 col1\" >0.8</td>\n",
       "                        <td id=\"T_8646d_row4_col2\" class=\"data row4 col2\" >0.7</td>\n",
       "                        <td id=\"T_8646d_row4_col3\" class=\"data row4 col3\" >0.1</td>\n",
       "                        <td id=\"T_8646d_row4_col4\" class=\"data row4 col4\" >92.1</td>\n",
       "                        <td id=\"T_8646d_row4_col5\" class=\"data row4 col5\" >0.2</td>\n",
       "                        <td id=\"T_8646d_row4_col6\" class=\"data row4 col6\" >1.0</td>\n",
       "                        <td id=\"T_8646d_row4_col7\" class=\"data row4 col7\" >0.3</td>\n",
       "                        <td id=\"T_8646d_row4_col8\" class=\"data row4 col8\" >0.6</td>\n",
       "                        <td id=\"T_8646d_row4_col9\" class=\"data row4 col9\" >4.0</td>\n",
       "            </tr>\n",
       "            <tr>\n",
       "                        <th id=\"T_8646d_level0_row5\" class=\"row_heading level0 row5\" >5</th>\n",
       "                        <td id=\"T_8646d_row5_col0\" class=\"data row5 col0\" >1.7</td>\n",
       "                        <td id=\"T_8646d_row5_col1\" class=\"data row5 col1\" >1.5</td>\n",
       "                        <td id=\"T_8646d_row5_col2\" class=\"data row5 col2\" >0.5</td>\n",
       "                        <td id=\"T_8646d_row5_col3\" class=\"data row5 col3\" >3.0</td>\n",
       "                        <td id=\"T_8646d_row5_col4\" class=\"data row5 col4\" >1.5</td>\n",
       "                        <td id=\"T_8646d_row5_col5\" class=\"data row5 col5\" >85.0</td>\n",
       "                        <td id=\"T_8646d_row5_col6\" class=\"data row5 col6\" >2.1</td>\n",
       "                        <td id=\"T_8646d_row5_col7\" class=\"data row5 col7\" >0.7</td>\n",
       "                        <td id=\"T_8646d_row5_col8\" class=\"data row5 col8\" >2.8</td>\n",
       "                        <td id=\"T_8646d_row5_col9\" class=\"data row5 col9\" >1.2</td>\n",
       "            </tr>\n",
       "            <tr>\n",
       "                        <th id=\"T_8646d_level0_row6\" class=\"row_heading level0 row6\" >6</th>\n",
       "                        <td id=\"T_8646d_row6_col0\" class=\"data row6 col0\" >0.9</td>\n",
       "                        <td id=\"T_8646d_row6_col1\" class=\"data row6 col1\" >0.7</td>\n",
       "                        <td id=\"T_8646d_row6_col2\" class=\"data row6 col2\" >0.8</td>\n",
       "                        <td id=\"T_8646d_row6_col3\" class=\"data row6 col3\" >0.0</td>\n",
       "                        <td id=\"T_8646d_row6_col4\" class=\"data row6 col4\" >0.8</td>\n",
       "                        <td id=\"T_8646d_row6_col5\" class=\"data row6 col5\" >1.5</td>\n",
       "                        <td id=\"T_8646d_row6_col6\" class=\"data row6 col6\" >94.4</td>\n",
       "                        <td id=\"T_8646d_row6_col7\" class=\"data row6 col7\" >0.1</td>\n",
       "                        <td id=\"T_8646d_row6_col8\" class=\"data row6 col8\" >0.7</td>\n",
       "                        <td id=\"T_8646d_row6_col9\" class=\"data row6 col9\" >0.0</td>\n",
       "            </tr>\n",
       "            <tr>\n",
       "                        <th id=\"T_8646d_level0_row7\" class=\"row_heading level0 row7\" >7</th>\n",
       "                        <td id=\"T_8646d_row7_col0\" class=\"data row7 col0\" >0.4</td>\n",
       "                        <td id=\"T_8646d_row7_col1\" class=\"data row7 col1\" >1.7</td>\n",
       "                        <td id=\"T_8646d_row7_col2\" class=\"data row7 col2\" >1.1</td>\n",
       "                        <td id=\"T_8646d_row7_col3\" class=\"data row7 col3\" >0.4</td>\n",
       "                        <td id=\"T_8646d_row7_col4\" class=\"data row7 col4\" >1.4</td>\n",
       "                        <td id=\"T_8646d_row7_col5\" class=\"data row7 col5\" >0.2</td>\n",
       "                        <td id=\"T_8646d_row7_col6\" class=\"data row7 col6\" >0.0</td>\n",
       "                        <td id=\"T_8646d_row7_col7\" class=\"data row7 col7\" >91.2</td>\n",
       "                        <td id=\"T_8646d_row7_col8\" class=\"data row7 col8\" >0.1</td>\n",
       "                        <td id=\"T_8646d_row7_col9\" class=\"data row7 col9\" >3.6</td>\n",
       "            </tr>\n",
       "            <tr>\n",
       "                        <th id=\"T_8646d_level0_row8\" class=\"row_heading level0 row8\" >8</th>\n",
       "                        <td id=\"T_8646d_row8_col0\" class=\"data row8 col0\" >1.0</td>\n",
       "                        <td id=\"T_8646d_row8_col1\" class=\"data row8 col1\" >4.4</td>\n",
       "                        <td id=\"T_8646d_row8_col2\" class=\"data row8 col2\" >1.3</td>\n",
       "                        <td id=\"T_8646d_row8_col3\" class=\"data row8 col3\" >3.2</td>\n",
       "                        <td id=\"T_8646d_row8_col4\" class=\"data row8 col4\" >1.1</td>\n",
       "                        <td id=\"T_8646d_row8_col5\" class=\"data row8 col5\" >3.0</td>\n",
       "                        <td id=\"T_8646d_row8_col6\" class=\"data row8 col6\" >0.8</td>\n",
       "                        <td id=\"T_8646d_row8_col7\" class=\"data row8 col7\" >0.5</td>\n",
       "                        <td id=\"T_8646d_row8_col8\" class=\"data row8 col8\" >82.3</td>\n",
       "                        <td id=\"T_8646d_row8_col9\" class=\"data row8 col9\" >2.3</td>\n",
       "            </tr>\n",
       "            <tr>\n",
       "                        <th id=\"T_8646d_level0_row9\" class=\"row_heading level0 row9\" >9</th>\n",
       "                        <td id=\"T_8646d_row9_col0\" class=\"data row9 col0\" >0.7</td>\n",
       "                        <td id=\"T_8646d_row9_col1\" class=\"data row9 col1\" >0.7</td>\n",
       "                        <td id=\"T_8646d_row9_col2\" class=\"data row9 col2\" >0.4</td>\n",
       "                        <td id=\"T_8646d_row9_col3\" class=\"data row9 col3\" >1.5</td>\n",
       "                        <td id=\"T_8646d_row9_col4\" class=\"data row9 col4\" >3.7</td>\n",
       "                        <td id=\"T_8646d_row9_col5\" class=\"data row9 col5\" >0.6</td>\n",
       "                        <td id=\"T_8646d_row9_col6\" class=\"data row9 col6\" >0.0</td>\n",
       "                        <td id=\"T_8646d_row9_col7\" class=\"data row9 col7\" >4.0</td>\n",
       "                        <td id=\"T_8646d_row9_col8\" class=\"data row9 col8\" >0.6</td>\n",
       "                        <td id=\"T_8646d_row9_col9\" class=\"data row9 col9\" >87.6</td>\n",
       "            </tr>\n",
       "    </tbody></table>"
      ],
      "text/plain": [
       "<pandas.io.formats.style.Styler at 0x29405f40eb0>"
      ]
     },
     "execution_count": 42,
     "metadata": {},
     "output_type": "execute_result"
    }
   ],
   "source": [
    "confusion_matrix(nnet.use(Xtrain)[0], Ttrain)"
   ]
  },
  {
   "cell_type": "markdown",
   "metadata": {},
   "source": [
    "##For ADAM"
   ]
  },
  {
   "cell_type": "code",
   "execution_count": 44,
   "metadata": {},
   "outputs": [
    {
     "name": "stdout",
     "output_type": "stream",
     "text": [
      "Adam: Epoch 10 ObjectiveF=0.93532\n",
      "Adam: Epoch 20 ObjectiveF=0.96368\n",
      "Adam: Epoch 30 ObjectiveF=0.97407\n",
      "Adam: Epoch 40 ObjectiveF=0.97970\n",
      "Adam: Epoch 50 ObjectiveF=0.98307\n",
      "Adam: Epoch 60 ObjectiveF=0.98518\n",
      "Adam: Epoch 70 ObjectiveF=0.98669\n",
      "Adam: Epoch 80 ObjectiveF=0.98780\n",
      "Adam: Epoch 90 ObjectiveF=0.98869\n",
      "Adam: Epoch 100 ObjectiveF=0.98936\n"
     ]
    },
    {
     "data": {
      "text/plain": [
       "[97.16, 92.77, 92.30000000000001]"
      ]
     },
     "execution_count": 44,
     "metadata": {},
     "output_type": "execute_result"
    },
    {
     "data": {
      "image/png": "[encoded data removed]",
      "text/plain": [
       "<Figure size 432x288 with 1 Axes>"
      ]
     },
     "metadata": {
      "needs_background": "light"
     },
     "output_type": "display_data"
    }
   ],
   "source": [
    "nnet = nn.NeuralNetworkClassifier(Xtrain.shape[1], [50,25],  len(np.unique(Ttrain))) #from lecture 9\n",
    "nnet.train(Xtrain, Ttrain, n_epochs=100, learning_rate=0.09, method='adam')\n",
    "plt.figure()\n",
    "plt.plot(nnet.get_error_trace())\n",
    "plt.xlabel('Iteration');\n",
    "plt.ylabel('Data Likelihood');\n",
    "[percent_correct(nnet.use(X)[0], T) for X, T in zip([Xtrain, Xval, Xtest], [Ttrain, Tval, Ttest])]"
   ]
  },
  {
   "cell_type": "code",
   "execution_count": 46,
   "metadata": {},
   "outputs": [
    {
     "name": "stdout",
     "output_type": "stream",
     "text": [
      "Adam: Epoch 7 ObjectiveF=0.90048\n",
      "Adam: Epoch 14 ObjectiveF=0.94711\n",
      "Adam: Epoch 21 ObjectiveF=0.96089\n",
      "Adam: Epoch 28 ObjectiveF=0.96915\n",
      "Adam: Epoch 35 ObjectiveF=0.97439\n",
      "Adam: Epoch 42 ObjectiveF=0.97796\n",
      "Adam: Epoch 49 ObjectiveF=0.98041\n",
      "Adam: Epoch 56 ObjectiveF=0.98228\n",
      "Adam: Epoch 63 ObjectiveF=0.98371\n",
      "Adam: Epoch 70 ObjectiveF=0.98481\n"
     ]
    },
    {
     "data": {
      "text/plain": [
       "[96.10600000000001, 92.65, 91.55]"
      ]
     },
     "execution_count": 46,
     "metadata": {},
     "output_type": "execute_result"
    },
    {
     "data": {
      "image/png": "[encoded data removed]",
      "text/plain": [
       "<Figure size 432x288 with 1 Axes>"
      ]
     },
     "metadata": {
      "needs_background": "light"
     },
     "output_type": "display_data"
    }
   ],
   "source": [
    "nnet = nn.NeuralNetworkClassifier(Xtrain.shape[1], [50,25],  len(np.unique(Ttrain))) #from lecture 9\n",
    "nnet.train(Xtrain, Ttrain, n_epochs=75, learning_rate=0.09, method='adam')\n",
    "plt.figure()\n",
    "plt.plot(nnet.get_error_trace())\n",
    "plt.xlabel('Iteration');\n",
    "plt.ylabel('Data Likelihood');\n",
    "[percent_correct(nnet.use(X)[0], T) for X, T in zip([Xtrain, Xval, Xtest], [Ttrain, Tval, Ttest])]"
   ]
  },
  {
   "cell_type": "code",
   "execution_count": 47,
   "metadata": {},
   "outputs": [
    {
     "name": "stdout",
     "output_type": "stream",
     "text": [
      "Adam: Epoch 7 ObjectiveF=0.91448\n",
      "Adam: Epoch 14 ObjectiveF=0.95540\n",
      "Adam: Epoch 21 ObjectiveF=0.96800\n",
      "Adam: Epoch 28 ObjectiveF=0.97446\n",
      "Adam: Epoch 35 ObjectiveF=0.97866\n",
      "Adam: Epoch 42 ObjectiveF=0.98141\n",
      "Adam: Epoch 49 ObjectiveF=0.98340\n",
      "Adam: Epoch 56 ObjectiveF=0.98485\n",
      "Adam: Epoch 63 ObjectiveF=0.98603\n",
      "Adam: Epoch 70 ObjectiveF=0.98698\n"
     ]
    },
    {
     "data": {
      "text/plain": [
       "[96.738, 93.0, 92.23]"
      ]
     },
     "execution_count": 47,
     "metadata": {},
     "output_type": "execute_result"
    },
    {
     "data": {
      "image/png": "[encoded data removed]",
      "text/plain": [
       "<Figure size 432x288 with 1 Axes>"
      ]
     },
     "metadata": {
      "needs_background": "light"
     },
     "output_type": "display_data"
    }
   ],
   "source": [
    "nnet = nn.NeuralNetworkClassifier(Xtrain.shape[1], [50,25],  len(np.unique(Ttrain))) #from lecture 9\n",
    "nnet.train(Xtrain, Ttrain, n_epochs=75, learning_rate=0.1, method='adam')\n",
    "plt.figure()\n",
    "plt.plot(nnet.get_error_trace())\n",
    "plt.xlabel('Iteration');\n",
    "plt.ylabel('Data Likelihood');\n",
    "[percent_correct(nnet.use(X)[0], T) for X, T in zip([Xtrain, Xval, Xtest], [Ttrain, Tval, Ttest])]"
   ]
  },
  {
   "cell_type": "code",
   "execution_count": 48,
   "metadata": {},
   "outputs": [
    {
     "name": "stdout",
     "output_type": "stream",
     "text": [
      "Percent Correct\n"
     ]
    },
    {
     "data": {
      "text/html": [
       "<style  type=\"text/css\" >\n",
       "#T_0062b_row0_col0,#T_0062b_row1_col1,#T_0062b_row2_col2,#T_0062b_row3_col3,#T_0062b_row4_col4,#T_0062b_row5_col5,#T_0062b_row6_col6,#T_0062b_row7_col7,#T_0062b_row8_col8,#T_0062b_row9_col9{\n",
       "            background-color:  #08306b;\n",
       "            color:  #f1f1f1;\n",
       "        }#T_0062b_row0_col1,#T_0062b_row0_col3,#T_0062b_row0_col4,#T_0062b_row0_col7,#T_0062b_row0_col8,#T_0062b_row0_col9,#T_0062b_row1_col0,#T_0062b_row1_col2,#T_0062b_row1_col3,#T_0062b_row1_col4,#T_0062b_row1_col5,#T_0062b_row1_col7,#T_0062b_row1_col9,#T_0062b_row2_col4,#T_0062b_row2_col5,#T_0062b_row3_col4,#T_0062b_row3_col6,#T_0062b_row4_col0,#T_0062b_row4_col3,#T_0062b_row4_col5,#T_0062b_row4_col6,#T_0062b_row4_col8,#T_0062b_row5_col1,#T_0062b_row5_col4,#T_0062b_row5_col7,#T_0062b_row6_col1,#T_0062b_row6_col2,#T_0062b_row6_col3,#T_0062b_row6_col7,#T_0062b_row6_col8,#T_0062b_row6_col9,#T_0062b_row7_col0,#T_0062b_row7_col4,#T_0062b_row7_col5,#T_0062b_row7_col6,#T_0062b_row7_col8,#T_0062b_row8_col4,#T_0062b_row9_col1,#T_0062b_row9_col2,#T_0062b_row9_col5,#T_0062b_row9_col6{\n",
       "            background-color:  #f7fbff;\n",
       "            color:  #000000;\n",
       "        }#T_0062b_row0_col2,#T_0062b_row0_col5,#T_0062b_row1_col6,#T_0062b_row2_col0,#T_0062b_row2_col1,#T_0062b_row2_col7,#T_0062b_row2_col9,#T_0062b_row3_col0,#T_0062b_row3_col1,#T_0062b_row3_col7,#T_0062b_row3_col9,#T_0062b_row4_col1,#T_0062b_row4_col7,#T_0062b_row5_col9,#T_0062b_row6_col0,#T_0062b_row6_col4,#T_0062b_row6_col5,#T_0062b_row7_col1,#T_0062b_row7_col3,#T_0062b_row8_col0,#T_0062b_row8_col2,#T_0062b_row8_col7,#T_0062b_row9_col0{\n",
       "            background-color:  #f6faff;\n",
       "            color:  #000000;\n",
       "        }#T_0062b_row0_col6,#T_0062b_row1_col8,#T_0062b_row2_col3,#T_0062b_row2_col6,#T_0062b_row3_col2,#T_0062b_row8_col1,#T_0062b_row8_col9{\n",
       "            background-color:  #f5f9fe;\n",
       "            color:  #000000;\n",
       "        }#T_0062b_row2_col8,#T_0062b_row4_col2,#T_0062b_row5_col0,#T_0062b_row5_col2,#T_0062b_row7_col2,#T_0062b_row8_col6,#T_0062b_row9_col3,#T_0062b_row9_col8{\n",
       "            background-color:  #f5fafe;\n",
       "            color:  #000000;\n",
       "        }#T_0062b_row3_col5{\n",
       "            background-color:  #eff6fc;\n",
       "            color:  #000000;\n",
       "        }#T_0062b_row3_col8,#T_0062b_row4_col9,#T_0062b_row9_col7{\n",
       "            background-color:  #f2f7fd;\n",
       "            color:  #000000;\n",
       "        }#T_0062b_row5_col3{\n",
       "            background-color:  #eef5fc;\n",
       "            color:  #000000;\n",
       "        }#T_0062b_row5_col6,#T_0062b_row5_col8,#T_0062b_row7_col9{\n",
       "            background-color:  #f3f8fe;\n",
       "            color:  #000000;\n",
       "        }#T_0062b_row8_col3,#T_0062b_row8_col5{\n",
       "            background-color:  #f2f8fd;\n",
       "            color:  #000000;\n",
       "        }#T_0062b_row9_col4{\n",
       "            background-color:  #f0f6fd;\n",
       "            color:  #000000;\n",
       "        }</style><table id=\"T_0062b_\" ><thead>    <tr>        <th class=\"blank level0\" ></th>        <th class=\"col_heading level0 col0\" >0</th>        <th class=\"col_heading level0 col1\" >1</th>        <th class=\"col_heading level0 col2\" >2</th>        <th class=\"col_heading level0 col3\" >3</th>        <th class=\"col_heading level0 col4\" >4</th>        <th class=\"col_heading level0 col5\" >5</th>        <th class=\"col_heading level0 col6\" >6</th>        <th class=\"col_heading level0 col7\" >7</th>        <th class=\"col_heading level0 col8\" >8</th>        <th class=\"col_heading level0 col9\" >9</th>    </tr></thead><tbody>\n",
       "                <tr>\n",
       "                        <th id=\"T_0062b_level0_row0\" class=\"row_heading level0 row0\" >0</th>\n",
       "                        <td id=\"T_0062b_row0_col0\" class=\"data row0 col0\" >96.3</td>\n",
       "                        <td id=\"T_0062b_row0_col1\" class=\"data row0 col1\" >0.0</td>\n",
       "                        <td id=\"T_0062b_row0_col2\" class=\"data row0 col2\" >0.6</td>\n",
       "                        <td id=\"T_0062b_row0_col3\" class=\"data row0 col3\" >0.3</td>\n",
       "                        <td id=\"T_0062b_row0_col4\" class=\"data row0 col4\" >0.2</td>\n",
       "                        <td id=\"T_0062b_row0_col5\" class=\"data row0 col5\" >0.6</td>\n",
       "                        <td id=\"T_0062b_row0_col6\" class=\"data row0 col6\" >1.2</td>\n",
       "                        <td id=\"T_0062b_row0_col7\" class=\"data row0 col7\" >0.0</td>\n",
       "                        <td id=\"T_0062b_row0_col8\" class=\"data row0 col8\" >0.5</td>\n",
       "                        <td id=\"T_0062b_row0_col9\" class=\"data row0 col9\" >0.3</td>\n",
       "            </tr>\n",
       "            <tr>\n",
       "                        <th id=\"T_0062b_level0_row1\" class=\"row_heading level0 row1\" >1</th>\n",
       "                        <td id=\"T_0062b_row1_col0\" class=\"data row1 col0\" >0.0</td>\n",
       "                        <td id=\"T_0062b_row1_col1\" class=\"data row1 col1\" >96.7</td>\n",
       "                        <td id=\"T_0062b_row1_col2\" class=\"data row1 col2\" >0.4</td>\n",
       "                        <td id=\"T_0062b_row1_col3\" class=\"data row1 col3\" >0.3</td>\n",
       "                        <td id=\"T_0062b_row1_col4\" class=\"data row1 col4\" >0.2</td>\n",
       "                        <td id=\"T_0062b_row1_col5\" class=\"data row1 col5\" >0.3</td>\n",
       "                        <td id=\"T_0062b_row1_col6\" class=\"data row1 col6\" >0.5</td>\n",
       "                        <td id=\"T_0062b_row1_col7\" class=\"data row1 col7\" >0.2</td>\n",
       "                        <td id=\"T_0062b_row1_col8\" class=\"data row1 col8\" >1.4</td>\n",
       "                        <td id=\"T_0062b_row1_col9\" class=\"data row1 col9\" >0.1</td>\n",
       "            </tr>\n",
       "            <tr>\n",
       "                        <th id=\"T_0062b_level0_row2\" class=\"row_heading level0 row2\" >2</th>\n",
       "                        <td id=\"T_0062b_row2_col0\" class=\"data row2 col0\" >0.6</td>\n",
       "                        <td id=\"T_0062b_row2_col1\" class=\"data row2 col1\" >0.4</td>\n",
       "                        <td id=\"T_0062b_row2_col2\" class=\"data row2 col2\" >93.8</td>\n",
       "                        <td id=\"T_0062b_row2_col3\" class=\"data row2 col3\" >1.3</td>\n",
       "                        <td id=\"T_0062b_row2_col4\" class=\"data row2 col4\" >0.3</td>\n",
       "                        <td id=\"T_0062b_row2_col5\" class=\"data row2 col5\" >0.2</td>\n",
       "                        <td id=\"T_0062b_row2_col6\" class=\"data row2 col6\" >1.2</td>\n",
       "                        <td id=\"T_0062b_row2_col7\" class=\"data row2 col7\" >0.6</td>\n",
       "                        <td id=\"T_0062b_row2_col8\" class=\"data row2 col8\" >1.1</td>\n",
       "                        <td id=\"T_0062b_row2_col9\" class=\"data row2 col9\" >0.4</td>\n",
       "            </tr>\n",
       "            <tr>\n",
       "                        <th id=\"T_0062b_level0_row3\" class=\"row_heading level0 row3\" >3</th>\n",
       "                        <td id=\"T_0062b_row3_col0\" class=\"data row3 col0\" >0.6</td>\n",
       "                        <td id=\"T_0062b_row3_col1\" class=\"data row3 col1\" >0.5</td>\n",
       "                        <td id=\"T_0062b_row3_col2\" class=\"data row3 col2\" >1.5</td>\n",
       "                        <td id=\"T_0062b_row3_col3\" class=\"data row3 col3\" >89.3</td>\n",
       "                        <td id=\"T_0062b_row3_col4\" class=\"data row3 col4\" >0.1</td>\n",
       "                        <td id=\"T_0062b_row3_col5\" class=\"data row3 col5\" >3.6</td>\n",
       "                        <td id=\"T_0062b_row3_col6\" class=\"data row3 col6\" >0.2</td>\n",
       "                        <td id=\"T_0062b_row3_col7\" class=\"data row3 col7\" >0.6</td>\n",
       "                        <td id=\"T_0062b_row3_col8\" class=\"data row3 col8\" >3.0</td>\n",
       "                        <td id=\"T_0062b_row3_col9\" class=\"data row3 col9\" >0.7</td>\n",
       "            </tr>\n",
       "            <tr>\n",
       "                        <th id=\"T_0062b_level0_row4\" class=\"row_heading level0 row4\" >4</th>\n",
       "                        <td id=\"T_0062b_row4_col0\" class=\"data row4 col0\" >0.2</td>\n",
       "                        <td id=\"T_0062b_row4_col1\" class=\"data row4 col1\" >0.7</td>\n",
       "                        <td id=\"T_0062b_row4_col2\" class=\"data row4 col2\" >1.1</td>\n",
       "                        <td id=\"T_0062b_row4_col3\" class=\"data row4 col3\" >0.1</td>\n",
       "                        <td id=\"T_0062b_row4_col4\" class=\"data row4 col4\" >93.6</td>\n",
       "                        <td id=\"T_0062b_row4_col5\" class=\"data row4 col5\" >0.3</td>\n",
       "                        <td id=\"T_0062b_row4_col6\" class=\"data row4 col6\" >0.3</td>\n",
       "                        <td id=\"T_0062b_row4_col7\" class=\"data row4 col7\" >0.6</td>\n",
       "                        <td id=\"T_0062b_row4_col8\" class=\"data row4 col8\" >0.3</td>\n",
       "                        <td id=\"T_0062b_row4_col9\" class=\"data row4 col9\" >2.7</td>\n",
       "            </tr>\n",
       "            <tr>\n",
       "                        <th id=\"T_0062b_level0_row5\" class=\"row_heading level0 row5\" >5</th>\n",
       "                        <td id=\"T_0062b_row5_col0\" class=\"data row5 col0\" >0.8</td>\n",
       "                        <td id=\"T_0062b_row5_col1\" class=\"data row5 col1\" >0.1</td>\n",
       "                        <td id=\"T_0062b_row5_col2\" class=\"data row5 col2\" >1.1</td>\n",
       "                        <td id=\"T_0062b_row5_col3\" class=\"data row5 col3\" >4.0</td>\n",
       "                        <td id=\"T_0062b_row5_col4\" class=\"data row5 col4\" >0.3</td>\n",
       "                        <td id=\"T_0062b_row5_col5\" class=\"data row5 col5\" >88.6</td>\n",
       "                        <td id=\"T_0062b_row5_col6\" class=\"data row5 col6\" >2.0</td>\n",
       "                        <td id=\"T_0062b_row5_col7\" class=\"data row5 col7\" >0.2</td>\n",
       "                        <td id=\"T_0062b_row5_col8\" class=\"data row5 col8\" >2.2</td>\n",
       "                        <td id=\"T_0062b_row5_col9\" class=\"data row5 col9\" >0.7</td>\n",
       "            </tr>\n",
       "            <tr>\n",
       "                        <th id=\"T_0062b_level0_row6\" class=\"row_heading level0 row6\" >6</th>\n",
       "                        <td id=\"T_0062b_row6_col0\" class=\"data row6 col0\" >0.7</td>\n",
       "                        <td id=\"T_0062b_row6_col1\" class=\"data row6 col1\" >0.2</td>\n",
       "                        <td id=\"T_0062b_row6_col2\" class=\"data row6 col2\" >0.5</td>\n",
       "                        <td id=\"T_0062b_row6_col3\" class=\"data row6 col3\" >0.0</td>\n",
       "                        <td id=\"T_0062b_row6_col4\" class=\"data row6 col4\" >0.8</td>\n",
       "                        <td id=\"T_0062b_row6_col5\" class=\"data row6 col5\" >0.5</td>\n",
       "                        <td id=\"T_0062b_row6_col6\" class=\"data row6 col6\" >96.6</td>\n",
       "                        <td id=\"T_0062b_row6_col7\" class=\"data row6 col7\" >0.0</td>\n",
       "                        <td id=\"T_0062b_row6_col8\" class=\"data row6 col8\" >0.6</td>\n",
       "                        <td id=\"T_0062b_row6_col9\" class=\"data row6 col9\" >0.0</td>\n",
       "            </tr>\n",
       "            <tr>\n",
       "                        <th id=\"T_0062b_level0_row7\" class=\"row_heading level0 row7\" >7</th>\n",
       "                        <td id=\"T_0062b_row7_col0\" class=\"data row7 col0\" >0.4</td>\n",
       "                        <td id=\"T_0062b_row7_col1\" class=\"data row7 col1\" >0.6</td>\n",
       "                        <td id=\"T_0062b_row7_col2\" class=\"data row7 col2\" >1.0</td>\n",
       "                        <td id=\"T_0062b_row7_col3\" class=\"data row7 col3\" >0.6</td>\n",
       "                        <td id=\"T_0062b_row7_col4\" class=\"data row7 col4\" >0.4</td>\n",
       "                        <td id=\"T_0062b_row7_col5\" class=\"data row7 col5\" >0.1</td>\n",
       "                        <td id=\"T_0062b_row7_col6\" class=\"data row7 col6\" >0.0</td>\n",
       "                        <td id=\"T_0062b_row7_col7\" class=\"data row7 col7\" >94.7</td>\n",
       "                        <td id=\"T_0062b_row7_col8\" class=\"data row7 col8\" >0.3</td>\n",
       "                        <td id=\"T_0062b_row7_col9\" class=\"data row7 col9\" >1.9</td>\n",
       "            </tr>\n",
       "            <tr>\n",
       "                        <th id=\"T_0062b_level0_row8\" class=\"row_heading level0 row8\" >8</th>\n",
       "                        <td id=\"T_0062b_row8_col0\" class=\"data row8 col0\" >0.5</td>\n",
       "                        <td id=\"T_0062b_row8_col1\" class=\"data row8 col1\" >1.3</td>\n",
       "                        <td id=\"T_0062b_row8_col2\" class=\"data row8 col2\" >0.7</td>\n",
       "                        <td id=\"T_0062b_row8_col3\" class=\"data row8 col3\" >2.3</td>\n",
       "                        <td id=\"T_0062b_row8_col4\" class=\"data row8 col4\" >0.4</td>\n",
       "                        <td id=\"T_0062b_row8_col5\" class=\"data row8 col5\" >2.5</td>\n",
       "                        <td id=\"T_0062b_row8_col6\" class=\"data row8 col6\" >0.8</td>\n",
       "                        <td id=\"T_0062b_row8_col7\" class=\"data row8 col7\" >0.6</td>\n",
       "                        <td id=\"T_0062b_row8_col8\" class=\"data row8 col8\" >89.7</td>\n",
       "                        <td id=\"T_0062b_row8_col9\" class=\"data row8 col9\" >1.3</td>\n",
       "            </tr>\n",
       "            <tr>\n",
       "                        <th id=\"T_0062b_level0_row9\" class=\"row_heading level0 row9\" >9</th>\n",
       "                        <td id=\"T_0062b_row9_col0\" class=\"data row9 col0\" >0.5</td>\n",
       "                        <td id=\"T_0062b_row9_col1\" class=\"data row9 col1\" >0.1</td>\n",
       "                        <td id=\"T_0062b_row9_col2\" class=\"data row9 col2\" >0.2</td>\n",
       "                        <td id=\"T_0062b_row9_col3\" class=\"data row9 col3\" >0.9</td>\n",
       "                        <td id=\"T_0062b_row9_col4\" class=\"data row9 col4\" >3.5</td>\n",
       "                        <td id=\"T_0062b_row9_col5\" class=\"data row9 col5\" >0.2</td>\n",
       "                        <td id=\"T_0062b_row9_col6\" class=\"data row9 col6\" >0.2</td>\n",
       "                        <td id=\"T_0062b_row9_col7\" class=\"data row9 col7\" >2.9</td>\n",
       "                        <td id=\"T_0062b_row9_col8\" class=\"data row9 col8\" >1.2</td>\n",
       "                        <td id=\"T_0062b_row9_col9\" class=\"data row9 col9\" >90.1</td>\n",
       "            </tr>\n",
       "    </tbody></table>"
      ],
      "text/plain": [
       "<pandas.io.formats.style.Styler at 0x29403cff4f0>"
      ]
     },
     "execution_count": 48,
     "metadata": {},
     "output_type": "execute_result"
    }
   ],
   "source": [
    "confusion_matrix(nnet.use(Xval)[0], Tval)"
   ]
  },
  {
   "cell_type": "code",
   "execution_count": 49,
   "metadata": {},
   "outputs": [
    {
     "name": "stdout",
     "output_type": "stream",
     "text": [
      "Percent Correct\n"
     ]
    },
    {
     "data": {
      "text/html": [
       "<style  type=\"text/css\" >\n",
       "#T_6c15f_row0_col0,#T_6c15f_row1_col1,#T_6c15f_row2_col2,#T_6c15f_row3_col3,#T_6c15f_row4_col4,#T_6c15f_row5_col5,#T_6c15f_row6_col6,#T_6c15f_row7_col7,#T_6c15f_row8_col8,#T_6c15f_row9_col9{\n",
       "            background-color:  #08306b;\n",
       "            color:  #f1f1f1;\n",
       "        }#T_6c15f_row0_col1,#T_6c15f_row0_col2,#T_6c15f_row0_col3,#T_6c15f_row0_col7,#T_6c15f_row0_col8,#T_6c15f_row0_col9,#T_6c15f_row1_col0,#T_6c15f_row1_col3,#T_6c15f_row1_col4,#T_6c15f_row1_col5,#T_6c15f_row1_col6,#T_6c15f_row1_col7,#T_6c15f_row1_col9,#T_6c15f_row2_col1,#T_6c15f_row2_col5,#T_6c15f_row2_col9,#T_6c15f_row3_col0,#T_6c15f_row3_col4,#T_6c15f_row3_col6,#T_6c15f_row4_col0,#T_6c15f_row4_col1,#T_6c15f_row4_col3,#T_6c15f_row4_col5,#T_6c15f_row4_col8,#T_6c15f_row5_col1,#T_6c15f_row6_col1,#T_6c15f_row6_col3,#T_6c15f_row6_col7,#T_6c15f_row6_col9,#T_6c15f_row7_col0,#T_6c15f_row7_col5,#T_6c15f_row7_col6,#T_6c15f_row7_col8,#T_6c15f_row9_col2,#T_6c15f_row9_col6{\n",
       "            background-color:  #f7fbff;\n",
       "            color:  #000000;\n",
       "        }#T_6c15f_row0_col4,#T_6c15f_row1_col2,#T_6c15f_row2_col4,#T_6c15f_row2_col7,#T_6c15f_row3_col1,#T_6c15f_row4_col7,#T_6c15f_row5_col2,#T_6c15f_row5_col4,#T_6c15f_row5_col7,#T_6c15f_row6_col2,#T_6c15f_row6_col8,#T_6c15f_row7_col4,#T_6c15f_row8_col4,#T_6c15f_row9_col1,#T_6c15f_row9_col5{\n",
       "            background-color:  #f6faff;\n",
       "            color:  #000000;\n",
       "        }#T_6c15f_row0_col5,#T_6c15f_row1_col8,#T_6c15f_row3_col9,#T_6c15f_row4_col6,#T_6c15f_row5_col0,#T_6c15f_row5_col9,#T_6c15f_row7_col1,#T_6c15f_row8_col0,#T_6c15f_row8_col1,#T_6c15f_row8_col7,#T_6c15f_row9_col0,#T_6c15f_row9_col3,#T_6c15f_row9_col8{\n",
       "            background-color:  #f5fafe;\n",
       "            color:  #000000;\n",
       "        }#T_6c15f_row0_col6,#T_6c15f_row2_col0,#T_6c15f_row2_col6,#T_6c15f_row4_col2,#T_6c15f_row5_col6,#T_6c15f_row6_col0,#T_6c15f_row6_col4,#T_6c15f_row6_col5,#T_6c15f_row7_col3,#T_6c15f_row8_col6,#T_6c15f_row8_col9{\n",
       "            background-color:  #f5f9fe;\n",
       "            color:  #000000;\n",
       "        }#T_6c15f_row2_col3{\n",
       "            background-color:  #f3f8fe;\n",
       "            color:  #000000;\n",
       "        }#T_6c15f_row2_col8,#T_6c15f_row3_col2,#T_6c15f_row3_col7,#T_6c15f_row7_col2,#T_6c15f_row8_col2{\n",
       "            background-color:  #f4f9fe;\n",
       "            color:  #000000;\n",
       "        }#T_6c15f_row3_col5,#T_6c15f_row3_col8{\n",
       "            background-color:  #f2f8fd;\n",
       "            color:  #000000;\n",
       "        }#T_6c15f_row4_col9,#T_6c15f_row5_col8{\n",
       "            background-color:  #f2f7fd;\n",
       "            color:  #000000;\n",
       "        }#T_6c15f_row5_col3{\n",
       "            background-color:  #eef5fc;\n",
       "            color:  #000000;\n",
       "        }#T_6c15f_row7_col9,#T_6c15f_row8_col3{\n",
       "            background-color:  #f1f7fd;\n",
       "            color:  #000000;\n",
       "        }#T_6c15f_row8_col5,#T_6c15f_row9_col4,#T_6c15f_row9_col7{\n",
       "            background-color:  #f0f6fd;\n",
       "            color:  #000000;\n",
       "        }</style><table id=\"T_6c15f_\" ><thead>    <tr>        <th class=\"blank level0\" ></th>        <th class=\"col_heading level0 col0\" >0</th>        <th class=\"col_heading level0 col1\" >1</th>        <th class=\"col_heading level0 col2\" >2</th>        <th class=\"col_heading level0 col3\" >3</th>        <th class=\"col_heading level0 col4\" >4</th>        <th class=\"col_heading level0 col5\" >5</th>        <th class=\"col_heading level0 col6\" >6</th>        <th class=\"col_heading level0 col7\" >7</th>        <th class=\"col_heading level0 col8\" >8</th>        <th class=\"col_heading level0 col9\" >9</th>    </tr></thead><tbody>\n",
       "                <tr>\n",
       "                        <th id=\"T_6c15f_level0_row0\" class=\"row_heading level0 row0\" >0</th>\n",
       "                        <td id=\"T_6c15f_row0_col0\" class=\"data row0 col0\" >96.8</td>\n",
       "                        <td id=\"T_6c15f_row0_col1\" class=\"data row0 col1\" >0.0</td>\n",
       "                        <td id=\"T_6c15f_row0_col2\" class=\"data row0 col2\" >0.0</td>\n",
       "                        <td id=\"T_6c15f_row0_col3\" class=\"data row0 col3\" >0.3</td>\n",
       "                        <td id=\"T_6c15f_row0_col4\" class=\"data row0 col4\" >0.5</td>\n",
       "                        <td id=\"T_6c15f_row0_col5\" class=\"data row0 col5\" >0.8</td>\n",
       "                        <td id=\"T_6c15f_row0_col6\" class=\"data row0 col6\" >1.3</td>\n",
       "                        <td id=\"T_6c15f_row0_col7\" class=\"data row0 col7\" >0.2</td>\n",
       "                        <td id=\"T_6c15f_row0_col8\" class=\"data row0 col8\" >0.0</td>\n",
       "                        <td id=\"T_6c15f_row0_col9\" class=\"data row0 col9\" >0.0</td>\n",
       "            </tr>\n",
       "            <tr>\n",
       "                        <th id=\"T_6c15f_level0_row1\" class=\"row_heading level0 row1\" >1</th>\n",
       "                        <td id=\"T_6c15f_row1_col0\" class=\"data row1 col0\" >0.0</td>\n",
       "                        <td id=\"T_6c15f_row1_col1\" class=\"data row1 col1\" >97.9</td>\n",
       "                        <td id=\"T_6c15f_row1_col2\" class=\"data row1 col2\" >0.6</td>\n",
       "                        <td id=\"T_6c15f_row1_col3\" class=\"data row1 col3\" >0.3</td>\n",
       "                        <td id=\"T_6c15f_row1_col4\" class=\"data row1 col4\" >0.0</td>\n",
       "                        <td id=\"T_6c15f_row1_col5\" class=\"data row1 col5\" >0.0</td>\n",
       "                        <td id=\"T_6c15f_row1_col6\" class=\"data row1 col6\" >0.3</td>\n",
       "                        <td id=\"T_6c15f_row1_col7\" class=\"data row1 col7\" >0.3</td>\n",
       "                        <td id=\"T_6c15f_row1_col8\" class=\"data row1 col8\" >0.7</td>\n",
       "                        <td id=\"T_6c15f_row1_col9\" class=\"data row1 col9\" >0.0</td>\n",
       "            </tr>\n",
       "            <tr>\n",
       "                        <th id=\"T_6c15f_level0_row2\" class=\"row_heading level0 row2\" >2</th>\n",
       "                        <td id=\"T_6c15f_row2_col0\" class=\"data row2 col0\" >1.3</td>\n",
       "                        <td id=\"T_6c15f_row2_col1\" class=\"data row2 col1\" >0.2</td>\n",
       "                        <td id=\"T_6c15f_row2_col2\" class=\"data row2 col2\" >92.1</td>\n",
       "                        <td id=\"T_6c15f_row2_col3\" class=\"data row2 col3\" >2.1</td>\n",
       "                        <td id=\"T_6c15f_row2_col4\" class=\"data row2 col4\" >0.6</td>\n",
       "                        <td id=\"T_6c15f_row2_col5\" class=\"data row2 col5\" >0.2</td>\n",
       "                        <td id=\"T_6c15f_row2_col6\" class=\"data row2 col6\" >1.3</td>\n",
       "                        <td id=\"T_6c15f_row2_col7\" class=\"data row2 col7\" >0.6</td>\n",
       "                        <td id=\"T_6c15f_row2_col8\" class=\"data row2 col8\" >1.6</td>\n",
       "                        <td id=\"T_6c15f_row2_col9\" class=\"data row2 col9\" >0.1</td>\n",
       "            </tr>\n",
       "            <tr>\n",
       "                        <th id=\"T_6c15f_level0_row3\" class=\"row_heading level0 row3\" >3</th>\n",
       "                        <td id=\"T_6c15f_row3_col0\" class=\"data row3 col0\" >0.2</td>\n",
       "                        <td id=\"T_6c15f_row3_col1\" class=\"data row3 col1\" >0.5</td>\n",
       "                        <td id=\"T_6c15f_row3_col2\" class=\"data row3 col2\" >1.7</td>\n",
       "                        <td id=\"T_6c15f_row3_col3\" class=\"data row3 col3\" >90.6</td>\n",
       "                        <td id=\"T_6c15f_row3_col4\" class=\"data row3 col4\" >0.1</td>\n",
       "                        <td id=\"T_6c15f_row3_col5\" class=\"data row3 col5\" >2.3</td>\n",
       "                        <td id=\"T_6c15f_row3_col6\" class=\"data row3 col6\" >0.2</td>\n",
       "                        <td id=\"T_6c15f_row3_col7\" class=\"data row3 col7\" >1.6</td>\n",
       "                        <td id=\"T_6c15f_row3_col8\" class=\"data row3 col8\" >2.1</td>\n",
       "                        <td id=\"T_6c15f_row3_col9\" class=\"data row3 col9\" >0.8</td>\n",
       "            </tr>\n",
       "            <tr>\n",
       "                        <th id=\"T_6c15f_level0_row4\" class=\"row_heading level0 row4\" >4</th>\n",
       "                        <td id=\"T_6c15f_row4_col0\" class=\"data row4 col0\" >0.3</td>\n",
       "                        <td id=\"T_6c15f_row4_col1\" class=\"data row4 col1\" >0.3</td>\n",
       "                        <td id=\"T_6c15f_row4_col2\" class=\"data row4 col2\" >1.1</td>\n",
       "                        <td id=\"T_6c15f_row4_col3\" class=\"data row4 col3\" >0.1</td>\n",
       "                        <td id=\"T_6c15f_row4_col4\" class=\"data row4 col4\" >94.0</td>\n",
       "                        <td id=\"T_6c15f_row4_col5\" class=\"data row4 col5\" >0.0</td>\n",
       "                        <td id=\"T_6c15f_row4_col6\" class=\"data row4 col6\" >1.0</td>\n",
       "                        <td id=\"T_6c15f_row4_col7\" class=\"data row4 col7\" >0.4</td>\n",
       "                        <td id=\"T_6c15f_row4_col8\" class=\"data row4 col8\" >0.3</td>\n",
       "                        <td id=\"T_6c15f_row4_col9\" class=\"data row4 col9\" >2.4</td>\n",
       "            </tr>\n",
       "            <tr>\n",
       "                        <th id=\"T_6c15f_level0_row5\" class=\"row_heading level0 row5\" >5</th>\n",
       "                        <td id=\"T_6c15f_row5_col0\" class=\"data row5 col0\" >1.1</td>\n",
       "                        <td id=\"T_6c15f_row5_col1\" class=\"data row5 col1\" >0.1</td>\n",
       "                        <td id=\"T_6c15f_row5_col2\" class=\"data row5 col2\" >0.7</td>\n",
       "                        <td id=\"T_6c15f_row5_col3\" class=\"data row5 col3\" >4.0</td>\n",
       "                        <td id=\"T_6c15f_row5_col4\" class=\"data row5 col4\" >0.4</td>\n",
       "                        <td id=\"T_6c15f_row5_col5\" class=\"data row5 col5\" >88.1</td>\n",
       "                        <td id=\"T_6c15f_row5_col6\" class=\"data row5 col6\" >1.2</td>\n",
       "                        <td id=\"T_6c15f_row5_col7\" class=\"data row5 col7\" >0.7</td>\n",
       "                        <td id=\"T_6c15f_row5_col8\" class=\"data row5 col8\" >2.7</td>\n",
       "                        <td id=\"T_6c15f_row5_col9\" class=\"data row5 col9\" >0.9</td>\n",
       "            </tr>\n",
       "            <tr>\n",
       "                        <th id=\"T_6c15f_level0_row6\" class=\"row_heading level0 row6\" >6</th>\n",
       "                        <td id=\"T_6c15f_row6_col0\" class=\"data row6 col0\" >1.4</td>\n",
       "                        <td id=\"T_6c15f_row6_col1\" class=\"data row6 col1\" >0.1</td>\n",
       "                        <td id=\"T_6c15f_row6_col2\" class=\"data row6 col2\" >0.6</td>\n",
       "                        <td id=\"T_6c15f_row6_col3\" class=\"data row6 col3\" >0.1</td>\n",
       "                        <td id=\"T_6c15f_row6_col4\" class=\"data row6 col4\" >1.4</td>\n",
       "                        <td id=\"T_6c15f_row6_col5\" class=\"data row6 col5\" >1.4</td>\n",
       "                        <td id=\"T_6c15f_row6_col6\" class=\"data row6 col6\" >94.4</td>\n",
       "                        <td id=\"T_6c15f_row6_col7\" class=\"data row6 col7\" >0.0</td>\n",
       "                        <td id=\"T_6c15f_row6_col8\" class=\"data row6 col8\" >0.6</td>\n",
       "                        <td id=\"T_6c15f_row6_col9\" class=\"data row6 col9\" >0.1</td>\n",
       "            </tr>\n",
       "            <tr>\n",
       "                        <th id=\"T_6c15f_level0_row7\" class=\"row_heading level0 row7\" >7</th>\n",
       "                        <td id=\"T_6c15f_row7_col0\" class=\"data row7 col0\" >0.2</td>\n",
       "                        <td id=\"T_6c15f_row7_col1\" class=\"data row7 col1\" >1.0</td>\n",
       "                        <td id=\"T_6c15f_row7_col2\" class=\"data row7 col2\" >1.7</td>\n",
       "                        <td id=\"T_6c15f_row7_col3\" class=\"data row7 col3\" >1.3</td>\n",
       "                        <td id=\"T_6c15f_row7_col4\" class=\"data row7 col4\" >0.6</td>\n",
       "                        <td id=\"T_6c15f_row7_col5\" class=\"data row7 col5\" >0.1</td>\n",
       "                        <td id=\"T_6c15f_row7_col6\" class=\"data row7 col6\" >0.1</td>\n",
       "                        <td id=\"T_6c15f_row7_col7\" class=\"data row7 col7\" >92.0</td>\n",
       "                        <td id=\"T_6c15f_row7_col8\" class=\"data row7 col8\" >0.3</td>\n",
       "                        <td id=\"T_6c15f_row7_col9\" class=\"data row7 col9\" >2.8</td>\n",
       "            </tr>\n",
       "            <tr>\n",
       "                        <th id=\"T_6c15f_level0_row8\" class=\"row_heading level0 row8\" >8</th>\n",
       "                        <td id=\"T_6c15f_row8_col0\" class=\"data row8 col0\" >0.9</td>\n",
       "                        <td id=\"T_6c15f_row8_col1\" class=\"data row8 col1\" >0.9</td>\n",
       "                        <td id=\"T_6c15f_row8_col2\" class=\"data row8 col2\" >1.5</td>\n",
       "                        <td id=\"T_6c15f_row8_col3\" class=\"data row8 col3\" >3.2</td>\n",
       "                        <td id=\"T_6c15f_row8_col4\" class=\"data row8 col4\" >0.6</td>\n",
       "                        <td id=\"T_6c15f_row8_col5\" class=\"data row8 col5\" >3.3</td>\n",
       "                        <td id=\"T_6c15f_row8_col6\" class=\"data row8 col6\" >1.2</td>\n",
       "                        <td id=\"T_6c15f_row8_col7\" class=\"data row8 col7\" >1.0</td>\n",
       "                        <td id=\"T_6c15f_row8_col8\" class=\"data row8 col8\" >86.1</td>\n",
       "                        <td id=\"T_6c15f_row8_col9\" class=\"data row8 col9\" >1.1</td>\n",
       "            </tr>\n",
       "            <tr>\n",
       "                        <th id=\"T_6c15f_level0_row9\" class=\"row_heading level0 row9\" >9</th>\n",
       "                        <td id=\"T_6c15f_row9_col0\" class=\"data row9 col0\" >0.8</td>\n",
       "                        <td id=\"T_6c15f_row9_col1\" class=\"data row9 col1\" >0.6</td>\n",
       "                        <td id=\"T_6c15f_row9_col2\" class=\"data row9 col2\" >0.3</td>\n",
       "                        <td id=\"T_6c15f_row9_col3\" class=\"data row9 col3\" >1.1</td>\n",
       "                        <td id=\"T_6c15f_row9_col4\" class=\"data row9 col4\" >3.7</td>\n",
       "                        <td id=\"T_6c15f_row9_col5\" class=\"data row9 col5\" >0.4</td>\n",
       "                        <td id=\"T_6c15f_row9_col6\" class=\"data row9 col6\" >0.0</td>\n",
       "                        <td id=\"T_6c15f_row9_col7\" class=\"data row9 col7\" >3.3</td>\n",
       "                        <td id=\"T_6c15f_row9_col8\" class=\"data row9 col8\" >0.7</td>\n",
       "                        <td id=\"T_6c15f_row9_col9\" class=\"data row9 col9\" >89.2</td>\n",
       "            </tr>\n",
       "    </tbody></table>"
      ],
      "text/plain": [
       "<pandas.io.formats.style.Styler at 0x29403cead00>"
      ]
     },
     "execution_count": 49,
     "metadata": {},
     "output_type": "execute_result"
    }
   ],
   "source": [
    "confusion_matrix(nnet.use(Xtest)[0], Ttest)"
   ]
  },
  {
   "cell_type": "code",
   "execution_count": 50,
   "metadata": {},
   "outputs": [
    {
     "name": "stdout",
     "output_type": "stream",
     "text": [
      "Percent Correct\n"
     ]
    },
    {
     "data": {
      "text/html": [
       "<style  type=\"text/css\" >\n",
       "#T_ad431_row0_col0,#T_ad431_row1_col1,#T_ad431_row2_col2,#T_ad431_row3_col3,#T_ad431_row4_col4,#T_ad431_row5_col5,#T_ad431_row6_col6,#T_ad431_row7_col7,#T_ad431_row8_col8,#T_ad431_row9_col9{\n",
       "            background-color:  #08306b;\n",
       "            color:  #f1f1f1;\n",
       "        }#T_ad431_row0_col1,#T_ad431_row0_col2,#T_ad431_row0_col3,#T_ad431_row0_col4,#T_ad431_row0_col5,#T_ad431_row0_col6,#T_ad431_row0_col7,#T_ad431_row0_col8,#T_ad431_row0_col9,#T_ad431_row1_col0,#T_ad431_row1_col3,#T_ad431_row1_col4,#T_ad431_row1_col5,#T_ad431_row1_col6,#T_ad431_row1_col7,#T_ad431_row1_col9,#T_ad431_row2_col1,#T_ad431_row2_col5,#T_ad431_row2_col9,#T_ad431_row3_col0,#T_ad431_row3_col1,#T_ad431_row3_col4,#T_ad431_row3_col6,#T_ad431_row3_col9,#T_ad431_row4_col0,#T_ad431_row4_col1,#T_ad431_row4_col2,#T_ad431_row4_col3,#T_ad431_row4_col5,#T_ad431_row4_col7,#T_ad431_row4_col8,#T_ad431_row5_col1,#T_ad431_row5_col2,#T_ad431_row5_col4,#T_ad431_row5_col7,#T_ad431_row5_col9,#T_ad431_row6_col0,#T_ad431_row6_col1,#T_ad431_row6_col2,#T_ad431_row6_col3,#T_ad431_row6_col7,#T_ad431_row6_col8,#T_ad431_row6_col9,#T_ad431_row7_col0,#T_ad431_row7_col1,#T_ad431_row7_col2,#T_ad431_row7_col3,#T_ad431_row7_col5,#T_ad431_row7_col6,#T_ad431_row7_col8,#T_ad431_row8_col0,#T_ad431_row8_col2,#T_ad431_row8_col4,#T_ad431_row8_col7,#T_ad431_row9_col0,#T_ad431_row9_col1,#T_ad431_row9_col2,#T_ad431_row9_col3,#T_ad431_row9_col5,#T_ad431_row9_col6,#T_ad431_row9_col8{\n",
       "            background-color:  #f7fbff;\n",
       "            color:  #000000;\n",
       "        }#T_ad431_row1_col2,#T_ad431_row1_col8,#T_ad431_row2_col0,#T_ad431_row2_col3,#T_ad431_row2_col4,#T_ad431_row2_col6,#T_ad431_row2_col7,#T_ad431_row2_col8,#T_ad431_row3_col7,#T_ad431_row4_col6,#T_ad431_row5_col0,#T_ad431_row5_col6,#T_ad431_row6_col4,#T_ad431_row6_col5,#T_ad431_row7_col4,#T_ad431_row8_col1,#T_ad431_row8_col6,#T_ad431_row8_col9{\n",
       "            background-color:  #f6faff;\n",
       "            color:  #000000;\n",
       "        }#T_ad431_row3_col2,#T_ad431_row3_col5,#T_ad431_row3_col8,#T_ad431_row4_col9,#T_ad431_row5_col8,#T_ad431_row7_col9,#T_ad431_row8_col3,#T_ad431_row9_col7{\n",
       "            background-color:  #f5fafe;\n",
       "            color:  #000000;\n",
       "        }#T_ad431_row5_col3,#T_ad431_row8_col5{\n",
       "            background-color:  #f5f9fe;\n",
       "            color:  #000000;\n",
       "        }#T_ad431_row9_col4{\n",
       "            background-color:  #f4f9fe;\n",
       "            color:  #000000;\n",
       "        }</style><table id=\"T_ad431_\" ><thead>    <tr>        <th class=\"blank level0\" ></th>        <th class=\"col_heading level0 col0\" >0</th>        <th class=\"col_heading level0 col1\" >1</th>        <th class=\"col_heading level0 col2\" >2</th>        <th class=\"col_heading level0 col3\" >3</th>        <th class=\"col_heading level0 col4\" >4</th>        <th class=\"col_heading level0 col5\" >5</th>        <th class=\"col_heading level0 col6\" >6</th>        <th class=\"col_heading level0 col7\" >7</th>        <th class=\"col_heading level0 col8\" >8</th>        <th class=\"col_heading level0 col9\" >9</th>    </tr></thead><tbody>\n",
       "                <tr>\n",
       "                        <th id=\"T_ad431_level0_row0\" class=\"row_heading level0 row0\" >0</th>\n",
       "                        <td id=\"T_ad431_row0_col0\" class=\"data row0 col0\" >98.6</td>\n",
       "                        <td id=\"T_ad431_row0_col1\" class=\"data row0 col1\" >0.0</td>\n",
       "                        <td id=\"T_ad431_row0_col2\" class=\"data row0 col2\" >0.2</td>\n",
       "                        <td id=\"T_ad431_row0_col3\" class=\"data row0 col3\" >0.1</td>\n",
       "                        <td id=\"T_ad431_row0_col4\" class=\"data row0 col4\" >0.2</td>\n",
       "                        <td id=\"T_ad431_row0_col5\" class=\"data row0 col5\" >0.1</td>\n",
       "                        <td id=\"T_ad431_row0_col6\" class=\"data row0 col6\" >0.2</td>\n",
       "                        <td id=\"T_ad431_row0_col7\" class=\"data row0 col7\" >0.0</td>\n",
       "                        <td id=\"T_ad431_row0_col8\" class=\"data row0 col8\" >0.4</td>\n",
       "                        <td id=\"T_ad431_row0_col9\" class=\"data row0 col9\" >0.1</td>\n",
       "            </tr>\n",
       "            <tr>\n",
       "                        <th id=\"T_ad431_level0_row1\" class=\"row_heading level0 row1\" >1</th>\n",
       "                        <td id=\"T_ad431_row1_col0\" class=\"data row1 col0\" >0.0</td>\n",
       "                        <td id=\"T_ad431_row1_col1\" class=\"data row1 col1\" >97.7</td>\n",
       "                        <td id=\"T_ad431_row1_col2\" class=\"data row1 col2\" >0.6</td>\n",
       "                        <td id=\"T_ad431_row1_col3\" class=\"data row1 col3\" >0.4</td>\n",
       "                        <td id=\"T_ad431_row1_col4\" class=\"data row1 col4\" >0.2</td>\n",
       "                        <td id=\"T_ad431_row1_col5\" class=\"data row1 col5\" >0.2</td>\n",
       "                        <td id=\"T_ad431_row1_col6\" class=\"data row1 col6\" >0.1</td>\n",
       "                        <td id=\"T_ad431_row1_col7\" class=\"data row1 col7\" >0.3</td>\n",
       "                        <td id=\"T_ad431_row1_col8\" class=\"data row1 col8\" >0.5</td>\n",
       "                        <td id=\"T_ad431_row1_col9\" class=\"data row1 col9\" >0.1</td>\n",
       "            </tr>\n",
       "            <tr>\n",
       "                        <th id=\"T_ad431_level0_row2\" class=\"row_heading level0 row2\" >2</th>\n",
       "                        <td id=\"T_ad431_row2_col0\" class=\"data row2 col0\" >0.5</td>\n",
       "                        <td id=\"T_ad431_row2_col1\" class=\"data row2 col1\" >0.1</td>\n",
       "                        <td id=\"T_ad431_row2_col2\" class=\"data row2 col2\" >96.6</td>\n",
       "                        <td id=\"T_ad431_row2_col3\" class=\"data row2 col3\" >0.7</td>\n",
       "                        <td id=\"T_ad431_row2_col4\" class=\"data row2 col4\" >0.4</td>\n",
       "                        <td id=\"T_ad431_row2_col5\" class=\"data row2 col5\" >0.1</td>\n",
       "                        <td id=\"T_ad431_row2_col6\" class=\"data row2 col6\" >0.4</td>\n",
       "                        <td id=\"T_ad431_row2_col7\" class=\"data row2 col7\" >0.4</td>\n",
       "                        <td id=\"T_ad431_row2_col8\" class=\"data row2 col8\" >0.7</td>\n",
       "                        <td id=\"T_ad431_row2_col9\" class=\"data row2 col9\" >0.0</td>\n",
       "            </tr>\n",
       "            <tr>\n",
       "                        <th id=\"T_ad431_level0_row3\" class=\"row_heading level0 row3\" >3</th>\n",
       "                        <td id=\"T_ad431_row3_col0\" class=\"data row3 col0\" >0.1</td>\n",
       "                        <td id=\"T_ad431_row3_col1\" class=\"data row3 col1\" >0.4</td>\n",
       "                        <td id=\"T_ad431_row3_col2\" class=\"data row3 col2\" >1.2</td>\n",
       "                        <td id=\"T_ad431_row3_col3\" class=\"data row3 col3\" >95.4</td>\n",
       "                        <td id=\"T_ad431_row3_col4\" class=\"data row3 col4\" >0.0</td>\n",
       "                        <td id=\"T_ad431_row3_col5\" class=\"data row3 col5\" >1.1</td>\n",
       "                        <td id=\"T_ad431_row3_col6\" class=\"data row3 col6\" >0.1</td>\n",
       "                        <td id=\"T_ad431_row3_col7\" class=\"data row3 col7\" >0.6</td>\n",
       "                        <td id=\"T_ad431_row3_col8\" class=\"data row3 col8\" >0.9</td>\n",
       "                        <td id=\"T_ad431_row3_col9\" class=\"data row3 col9\" >0.3</td>\n",
       "            </tr>\n",
       "            <tr>\n",
       "                        <th id=\"T_ad431_level0_row4\" class=\"row_heading level0 row4\" >4</th>\n",
       "                        <td id=\"T_ad431_row4_col0\" class=\"data row4 col0\" >0.1</td>\n",
       "                        <td id=\"T_ad431_row4_col1\" class=\"data row4 col1\" >0.1</td>\n",
       "                        <td id=\"T_ad431_row4_col2\" class=\"data row4 col2\" >0.3</td>\n",
       "                        <td id=\"T_ad431_row4_col3\" class=\"data row4 col3\" >0.0</td>\n",
       "                        <td id=\"T_ad431_row4_col4\" class=\"data row4 col4\" >97.4</td>\n",
       "                        <td id=\"T_ad431_row4_col5\" class=\"data row4 col5\" >0.1</td>\n",
       "                        <td id=\"T_ad431_row4_col6\" class=\"data row4 col6\" >0.5</td>\n",
       "                        <td id=\"T_ad431_row4_col7\" class=\"data row4 col7\" >0.2</td>\n",
       "                        <td id=\"T_ad431_row4_col8\" class=\"data row4 col8\" >0.1</td>\n",
       "                        <td id=\"T_ad431_row4_col9\" class=\"data row4 col9\" >1.1</td>\n",
       "            </tr>\n",
       "            <tr>\n",
       "                        <th id=\"T_ad431_level0_row5\" class=\"row_heading level0 row5\" >5</th>\n",
       "                        <td id=\"T_ad431_row5_col0\" class=\"data row5 col0\" >0.5</td>\n",
       "                        <td id=\"T_ad431_row5_col1\" class=\"data row5 col1\" >0.2</td>\n",
       "                        <td id=\"T_ad431_row5_col2\" class=\"data row5 col2\" >0.2</td>\n",
       "                        <td id=\"T_ad431_row5_col3\" class=\"data row5 col3\" >1.2</td>\n",
       "                        <td id=\"T_ad431_row5_col4\" class=\"data row5 col4\" >0.2</td>\n",
       "                        <td id=\"T_ad431_row5_col5\" class=\"data row5 col5\" >95.7</td>\n",
       "                        <td id=\"T_ad431_row5_col6\" class=\"data row5 col6\" >0.6</td>\n",
       "                        <td id=\"T_ad431_row5_col7\" class=\"data row5 col7\" >0.2</td>\n",
       "                        <td id=\"T_ad431_row5_col8\" class=\"data row5 col8\" >0.9</td>\n",
       "                        <td id=\"T_ad431_row5_col9\" class=\"data row5 col9\" >0.3</td>\n",
       "            </tr>\n",
       "            <tr>\n",
       "                        <th id=\"T_ad431_level0_row6\" class=\"row_heading level0 row6\" >6</th>\n",
       "                        <td id=\"T_ad431_row6_col0\" class=\"data row6 col0\" >0.2</td>\n",
       "                        <td id=\"T_ad431_row6_col1\" class=\"data row6 col1\" >0.1</td>\n",
       "                        <td id=\"T_ad431_row6_col2\" class=\"data row6 col2\" >0.2</td>\n",
       "                        <td id=\"T_ad431_row6_col3\" class=\"data row6 col3\" >0.0</td>\n",
       "                        <td id=\"T_ad431_row6_col4\" class=\"data row6 col4\" >0.6</td>\n",
       "                        <td id=\"T_ad431_row6_col5\" class=\"data row6 col5\" >0.6</td>\n",
       "                        <td id=\"T_ad431_row6_col6\" class=\"data row6 col6\" >98.0</td>\n",
       "                        <td id=\"T_ad431_row6_col7\" class=\"data row6 col7\" >0.0</td>\n",
       "                        <td id=\"T_ad431_row6_col8\" class=\"data row6 col8\" >0.2</td>\n",
       "                        <td id=\"T_ad431_row6_col9\" class=\"data row6 col9\" >0.0</td>\n",
       "            </tr>\n",
       "            <tr>\n",
       "                        <th id=\"T_ad431_level0_row7\" class=\"row_heading level0 row7\" >7</th>\n",
       "                        <td id=\"T_ad431_row7_col0\" class=\"data row7 col0\" >0.1</td>\n",
       "                        <td id=\"T_ad431_row7_col1\" class=\"data row7 col1\" >0.2</td>\n",
       "                        <td id=\"T_ad431_row7_col2\" class=\"data row7 col2\" >0.4</td>\n",
       "                        <td id=\"T_ad431_row7_col3\" class=\"data row7 col3\" >0.3</td>\n",
       "                        <td id=\"T_ad431_row7_col4\" class=\"data row7 col4\" >0.6</td>\n",
       "                        <td id=\"T_ad431_row7_col5\" class=\"data row7 col5\" >0.1</td>\n",
       "                        <td id=\"T_ad431_row7_col6\" class=\"data row7 col6\" >0.0</td>\n",
       "                        <td id=\"T_ad431_row7_col7\" class=\"data row7 col7\" >97.1</td>\n",
       "                        <td id=\"T_ad431_row7_col8\" class=\"data row7 col8\" >0.1</td>\n",
       "                        <td id=\"T_ad431_row7_col9\" class=\"data row7 col9\" >1.0</td>\n",
       "            </tr>\n",
       "            <tr>\n",
       "                        <th id=\"T_ad431_level0_row8\" class=\"row_heading level0 row8\" >8</th>\n",
       "                        <td id=\"T_ad431_row8_col0\" class=\"data row8 col0\" >0.2</td>\n",
       "                        <td id=\"T_ad431_row8_col1\" class=\"data row8 col1\" >0.7</td>\n",
       "                        <td id=\"T_ad431_row8_col2\" class=\"data row8 col2\" >0.5</td>\n",
       "                        <td id=\"T_ad431_row8_col3\" class=\"data row8 col3\" >1.0</td>\n",
       "                        <td id=\"T_ad431_row8_col4\" class=\"data row8 col4\" >0.2</td>\n",
       "                        <td id=\"T_ad431_row8_col5\" class=\"data row8 col5\" >1.3</td>\n",
       "                        <td id=\"T_ad431_row8_col6\" class=\"data row8 col6\" >0.7</td>\n",
       "                        <td id=\"T_ad431_row8_col7\" class=\"data row8 col7\" >0.0</td>\n",
       "                        <td id=\"T_ad431_row8_col8\" class=\"data row8 col8\" >94.9</td>\n",
       "                        <td id=\"T_ad431_row8_col9\" class=\"data row8 col9\" >0.4</td>\n",
       "            </tr>\n",
       "            <tr>\n",
       "                        <th id=\"T_ad431_level0_row9\" class=\"row_heading level0 row9\" >9</th>\n",
       "                        <td id=\"T_ad431_row9_col0\" class=\"data row9 col0\" >0.3</td>\n",
       "                        <td id=\"T_ad431_row9_col1\" class=\"data row9 col1\" >0.0</td>\n",
       "                        <td id=\"T_ad431_row9_col2\" class=\"data row9 col2\" >0.1</td>\n",
       "                        <td id=\"T_ad431_row9_col3\" class=\"data row9 col3\" >0.4</td>\n",
       "                        <td id=\"T_ad431_row9_col4\" class=\"data row9 col4\" >1.8</td>\n",
       "                        <td id=\"T_ad431_row9_col5\" class=\"data row9 col5\" >0.1</td>\n",
       "                        <td id=\"T_ad431_row9_col6\" class=\"data row9 col6\" >0.0</td>\n",
       "                        <td id=\"T_ad431_row9_col7\" class=\"data row9 col7\" >1.1</td>\n",
       "                        <td id=\"T_ad431_row9_col8\" class=\"data row9 col8\" >0.4</td>\n",
       "                        <td id=\"T_ad431_row9_col9\" class=\"data row9 col9\" >95.7</td>\n",
       "            </tr>\n",
       "    </tbody></table>"
      ],
      "text/plain": [
       "<pandas.io.formats.style.Styler at 0x29403ceaa00>"
      ]
     },
     "execution_count": 50,
     "metadata": {},
     "output_type": "execute_result"
    }
   ],
   "source": [
    "confusion_matrix(nnet.use(Xtrain)[0], Ttrain)"
   ]
  },
  {
   "cell_type": "markdown",
   "metadata": {},
   "source": [
    "##FOR SGD"
   ]
  },
  {
   "cell_type": "code",
   "execution_count": 52,
   "metadata": {},
   "outputs": [
    {
     "name": "stdout",
     "output_type": "stream",
     "text": [
      "SCG: Epoch 8 ObjectiveF=0.81840\n",
      "SCG: Epoch 16 ObjectiveF=0.85004\n",
      "SCG: Epoch 24 ObjectiveF=0.92531\n",
      "SCG: Epoch 32 ObjectiveF=0.96668\n",
      "SCG: Epoch 40 ObjectiveF=0.98033\n",
      "SCG: Epoch 48 ObjectiveF=0.98808\n",
      "SCG: Epoch 56 ObjectiveF=0.99326\n",
      "SCG: Epoch 64 ObjectiveF=0.99644\n",
      "SCG: Epoch 72 ObjectiveF=0.99794\n"
     ]
    },
    {
     "data": {
      "text/plain": [
       "[99.722, 95.35, 94.69]"
      ]
     },
     "execution_count": 52,
     "metadata": {},
     "output_type": "execute_result"
    },
    {
     "data": {
      "image/png": "[encoded data removed]",
      "text/plain": [
       "<Figure size 432x288 with 1 Axes>"
      ]
     },
     "metadata": {
      "needs_background": "light"
     },
     "output_type": "display_data"
    }
   ],
   "source": [
    "nnet = nn.NeuralNetworkClassifier(Xtrain.shape[1], [50,25],  len(np.unique(Ttrain))) #from lecture 9\n",
    "nnet.train(Xtrain, Ttrain, n_epochs=75, method='scg')\n",
    "plt.figure()\n",
    "plt.plot(nnet.get_error_trace())\n",
    "plt.xlabel('Iteration');\n",
    "plt.ylabel('Data Likelihood');\n",
    "[percent_correct(nnet.use(X)[0], T) for X, T in zip([Xtrain, Xval, Xtest], [Ttrain, Tval, Ttest])]"
   ]
  },
  {
   "cell_type": "code",
   "execution_count": 54,
   "metadata": {},
   "outputs": [
    {
     "name": "stdout",
     "output_type": "stream",
     "text": [
      "SCG: Epoch 10 ObjectiveF=0.82848\n",
      "SCG: Epoch 20 ObjectiveF=0.89521\n",
      "SCG: Epoch 30 ObjectiveF=0.97136\n",
      "SCG: Epoch 40 ObjectiveF=0.98653\n",
      "SCG: Epoch 50 ObjectiveF=0.99425\n",
      "SCG: Epoch 60 ObjectiveF=0.99778\n",
      "SCG: Epoch 70 ObjectiveF=0.99907\n",
      "SCG: Epoch 80 ObjectiveF=0.99963\n",
      "SCG: Epoch 90 ObjectiveF=0.99984\n",
      "SCG: Epoch 100 ObjectiveF=0.99994\n"
     ]
    },
    {
     "data": {
      "text/plain": [
       "[100.0, 95.34, 95.08]"
      ]
     },
     "execution_count": 54,
     "metadata": {},
     "output_type": "execute_result"
    },
    {
     "data": {
      "image/png": "[encoded data removed]",
      "text/plain": [
       "<Figure size 432x288 with 1 Axes>"
      ]
     },
     "metadata": {
      "needs_background": "light"
     },
     "output_type": "display_data"
    }
   ],
   "source": [
    "nnet = nn.NeuralNetworkClassifier(Xtrain.shape[1], [50,25],  len(np.unique(Ttrain))) #from lecture 9\n",
    "nnet.train(Xtrain, Ttrain, n_epochs=100, method='scg')\n",
    "plt.figure()\n",
    "plt.plot(nnet.get_error_trace())\n",
    "plt.xlabel('Iteration');\n",
    "plt.ylabel('Data Likelihood');\n",
    "[percent_correct(nnet.use(X)[0], T) for X, T in zip([Xtrain, Xval, Xtest], [Ttrain, Tval, Ttest])]"
   ]
  },
  {
   "cell_type": "code",
   "execution_count": 55,
   "metadata": {},
   "outputs": [
    {
     "name": "stdout",
     "output_type": "stream",
     "text": [
      "Percent Correct\n"
     ]
    },
    {
     "data": {
      "text/html": [
       "<style  type=\"text/css\" >\n",
       "#T_05eec_row0_col0,#T_05eec_row1_col1,#T_05eec_row2_col2,#T_05eec_row3_col3,#T_05eec_row4_col4,#T_05eec_row5_col5,#T_05eec_row6_col6,#T_05eec_row7_col7,#T_05eec_row8_col8,#T_05eec_row9_col9{\n",
       "            background-color:  #08306b;\n",
       "            color:  #f1f1f1;\n",
       "        }#T_05eec_row0_col1,#T_05eec_row0_col3,#T_05eec_row0_col4,#T_05eec_row0_col5,#T_05eec_row0_col7,#T_05eec_row0_col8,#T_05eec_row1_col0,#T_05eec_row1_col2,#T_05eec_row1_col4,#T_05eec_row1_col5,#T_05eec_row1_col6,#T_05eec_row1_col7,#T_05eec_row1_col9,#T_05eec_row2_col5,#T_05eec_row2_col6,#T_05eec_row2_col9,#T_05eec_row3_col1,#T_05eec_row3_col4,#T_05eec_row3_col6,#T_05eec_row3_col7,#T_05eec_row4_col0,#T_05eec_row4_col3,#T_05eec_row4_col5,#T_05eec_row4_col7,#T_05eec_row4_col8,#T_05eec_row5_col0,#T_05eec_row5_col1,#T_05eec_row5_col2,#T_05eec_row5_col4,#T_05eec_row6_col1,#T_05eec_row6_col3,#T_05eec_row6_col7,#T_05eec_row6_col8,#T_05eec_row6_col9,#T_05eec_row7_col0,#T_05eec_row7_col1,#T_05eec_row7_col2,#T_05eec_row7_col4,#T_05eec_row7_col5,#T_05eec_row7_col6,#T_05eec_row7_col8,#T_05eec_row8_col4,#T_05eec_row8_col7,#T_05eec_row9_col0,#T_05eec_row9_col1,#T_05eec_row9_col2,#T_05eec_row9_col6{\n",
       "            background-color:  #f7fbff;\n",
       "            color:  #000000;\n",
       "        }#T_05eec_row0_col2,#T_05eec_row0_col6,#T_05eec_row0_col9,#T_05eec_row1_col3,#T_05eec_row1_col8,#T_05eec_row2_col0,#T_05eec_row2_col1,#T_05eec_row2_col4,#T_05eec_row2_col8,#T_05eec_row3_col0,#T_05eec_row3_col2,#T_05eec_row3_col9,#T_05eec_row4_col1,#T_05eec_row4_col2,#T_05eec_row4_col6,#T_05eec_row5_col9,#T_05eec_row6_col0,#T_05eec_row6_col2,#T_05eec_row6_col4,#T_05eec_row6_col5,#T_05eec_row8_col0,#T_05eec_row8_col1,#T_05eec_row8_col6,#T_05eec_row9_col5{\n",
       "            background-color:  #f6faff;\n",
       "            color:  #000000;\n",
       "        }#T_05eec_row2_col3,#T_05eec_row3_col5,#T_05eec_row5_col8,#T_05eec_row7_col9{\n",
       "            background-color:  #f4f9fe;\n",
       "            color:  #000000;\n",
       "        }#T_05eec_row2_col7,#T_05eec_row5_col6,#T_05eec_row5_col7,#T_05eec_row7_col3,#T_05eec_row8_col3,#T_05eec_row9_col3,#T_05eec_row9_col8{\n",
       "            background-color:  #f5fafe;\n",
       "            color:  #000000;\n",
       "        }#T_05eec_row3_col8,#T_05eec_row8_col2,#T_05eec_row8_col5,#T_05eec_row8_col9,#T_05eec_row9_col7{\n",
       "            background-color:  #f5f9fe;\n",
       "            color:  #000000;\n",
       "        }#T_05eec_row4_col9,#T_05eec_row9_col4{\n",
       "            background-color:  #f3f8fe;\n",
       "            color:  #000000;\n",
       "        }#T_05eec_row5_col3{\n",
       "            background-color:  #f2f7fd;\n",
       "            color:  #000000;\n",
       "        }</style><table id=\"T_05eec_\" ><thead>    <tr>        <th class=\"blank level0\" ></th>        <th class=\"col_heading level0 col0\" >0</th>        <th class=\"col_heading level0 col1\" >1</th>        <th class=\"col_heading level0 col2\" >2</th>        <th class=\"col_heading level0 col3\" >3</th>        <th class=\"col_heading level0 col4\" >4</th>        <th class=\"col_heading level0 col5\" >5</th>        <th class=\"col_heading level0 col6\" >6</th>        <th class=\"col_heading level0 col7\" >7</th>        <th class=\"col_heading level0 col8\" >8</th>        <th class=\"col_heading level0 col9\" >9</th>    </tr></thead><tbody>\n",
       "                <tr>\n",
       "                        <th id=\"T_05eec_level0_row0\" class=\"row_heading level0 row0\" >0</th>\n",
       "                        <td id=\"T_05eec_row0_col0\" class=\"data row0 col0\" >97.7</td>\n",
       "                        <td id=\"T_05eec_row0_col1\" class=\"data row0 col1\" >0.0</td>\n",
       "                        <td id=\"T_05eec_row0_col2\" class=\"data row0 col2\" >0.6</td>\n",
       "                        <td id=\"T_05eec_row0_col3\" class=\"data row0 col3\" >0.0</td>\n",
       "                        <td id=\"T_05eec_row0_col4\" class=\"data row0 col4\" >0.2</td>\n",
       "                        <td id=\"T_05eec_row0_col5\" class=\"data row0 col5\" >0.3</td>\n",
       "                        <td id=\"T_05eec_row0_col6\" class=\"data row0 col6\" >0.4</td>\n",
       "                        <td id=\"T_05eec_row0_col7\" class=\"data row0 col7\" >0.1</td>\n",
       "                        <td id=\"T_05eec_row0_col8\" class=\"data row0 col8\" >0.3</td>\n",
       "                        <td id=\"T_05eec_row0_col9\" class=\"data row0 col9\" >0.4</td>\n",
       "            </tr>\n",
       "            <tr>\n",
       "                        <th id=\"T_05eec_level0_row1\" class=\"row_heading level0 row1\" >1</th>\n",
       "                        <td id=\"T_05eec_row1_col0\" class=\"data row1 col0\" >0.0</td>\n",
       "                        <td id=\"T_05eec_row1_col1\" class=\"data row1 col1\" >98.3</td>\n",
       "                        <td id=\"T_05eec_row1_col2\" class=\"data row1 col2\" >0.3</td>\n",
       "                        <td id=\"T_05eec_row1_col3\" class=\"data row1 col3\" >0.4</td>\n",
       "                        <td id=\"T_05eec_row1_col4\" class=\"data row1 col4\" >0.1</td>\n",
       "                        <td id=\"T_05eec_row1_col5\" class=\"data row1 col5\" >0.0</td>\n",
       "                        <td id=\"T_05eec_row1_col6\" class=\"data row1 col6\" >0.1</td>\n",
       "                        <td id=\"T_05eec_row1_col7\" class=\"data row1 col7\" >0.1</td>\n",
       "                        <td id=\"T_05eec_row1_col8\" class=\"data row1 col8\" >0.8</td>\n",
       "                        <td id=\"T_05eec_row1_col9\" class=\"data row1 col9\" >0.0</td>\n",
       "            </tr>\n",
       "            <tr>\n",
       "                        <th id=\"T_05eec_level0_row2\" class=\"row_heading level0 row2\" >2</th>\n",
       "                        <td id=\"T_05eec_row2_col0\" class=\"data row2 col0\" >0.7</td>\n",
       "                        <td id=\"T_05eec_row2_col1\" class=\"data row2 col1\" >0.4</td>\n",
       "                        <td id=\"T_05eec_row2_col2\" class=\"data row2 col2\" >94.5</td>\n",
       "                        <td id=\"T_05eec_row2_col3\" class=\"data row2 col3\" >1.6</td>\n",
       "                        <td id=\"T_05eec_row2_col4\" class=\"data row2 col4\" >0.5</td>\n",
       "                        <td id=\"T_05eec_row2_col5\" class=\"data row2 col5\" >0.0</td>\n",
       "                        <td id=\"T_05eec_row2_col6\" class=\"data row2 col6\" >0.3</td>\n",
       "                        <td id=\"T_05eec_row2_col7\" class=\"data row2 col7\" >0.9</td>\n",
       "                        <td id=\"T_05eec_row2_col8\" class=\"data row2 col8\" >0.7</td>\n",
       "                        <td id=\"T_05eec_row2_col9\" class=\"data row2 col9\" >0.3</td>\n",
       "            </tr>\n",
       "            <tr>\n",
       "                        <th id=\"T_05eec_level0_row3\" class=\"row_heading level0 row3\" >3</th>\n",
       "                        <td id=\"T_05eec_row3_col0\" class=\"data row3 col0\" >0.4</td>\n",
       "                        <td id=\"T_05eec_row3_col1\" class=\"data row3 col1\" >0.1</td>\n",
       "                        <td id=\"T_05eec_row3_col2\" class=\"data row3 col2\" >0.9</td>\n",
       "                        <td id=\"T_05eec_row3_col3\" class=\"data row3 col3\" >95.0</td>\n",
       "                        <td id=\"T_05eec_row3_col4\" class=\"data row3 col4\" >0.0</td>\n",
       "                        <td id=\"T_05eec_row3_col5\" class=\"data row3 col5\" >1.5</td>\n",
       "                        <td id=\"T_05eec_row3_col6\" class=\"data row3 col6\" >0.2</td>\n",
       "                        <td id=\"T_05eec_row3_col7\" class=\"data row3 col7\" >0.3</td>\n",
       "                        <td id=\"T_05eec_row3_col8\" class=\"data row3 col8\" >1.3</td>\n",
       "                        <td id=\"T_05eec_row3_col9\" class=\"data row3 col9\" >0.5</td>\n",
       "            </tr>\n",
       "            <tr>\n",
       "                        <th id=\"T_05eec_level0_row4\" class=\"row_heading level0 row4\" >4</th>\n",
       "                        <td id=\"T_05eec_row4_col0\" class=\"data row4 col0\" >0.0</td>\n",
       "                        <td id=\"T_05eec_row4_col1\" class=\"data row4 col1\" >0.5</td>\n",
       "                        <td id=\"T_05eec_row4_col2\" class=\"data row4 col2\" >0.9</td>\n",
       "                        <td id=\"T_05eec_row4_col3\" class=\"data row4 col3\" >0.0</td>\n",
       "                        <td id=\"T_05eec_row4_col4\" class=\"data row4 col4\" >95.4</td>\n",
       "                        <td id=\"T_05eec_row4_col5\" class=\"data row4 col5\" >0.3</td>\n",
       "                        <td id=\"T_05eec_row4_col6\" class=\"data row4 col6\" >0.4</td>\n",
       "                        <td id=\"T_05eec_row4_col7\" class=\"data row4 col7\" >0.3</td>\n",
       "                        <td id=\"T_05eec_row4_col8\" class=\"data row4 col8\" >0.2</td>\n",
       "                        <td id=\"T_05eec_row4_col9\" class=\"data row4 col9\" >1.9</td>\n",
       "            </tr>\n",
       "            <tr>\n",
       "                        <th id=\"T_05eec_level0_row5\" class=\"row_heading level0 row5\" >5</th>\n",
       "                        <td id=\"T_05eec_row5_col0\" class=\"data row5 col0\" >0.3</td>\n",
       "                        <td id=\"T_05eec_row5_col1\" class=\"data row5 col1\" >0.0</td>\n",
       "                        <td id=\"T_05eec_row5_col2\" class=\"data row5 col2\" >0.3</td>\n",
       "                        <td id=\"T_05eec_row5_col3\" class=\"data row5 col3\" >2.8</td>\n",
       "                        <td id=\"T_05eec_row5_col4\" class=\"data row5 col4\" >0.2</td>\n",
       "                        <td id=\"T_05eec_row5_col5\" class=\"data row5 col5\" >92.2</td>\n",
       "                        <td id=\"T_05eec_row5_col6\" class=\"data row5 col6\" >1.1</td>\n",
       "                        <td id=\"T_05eec_row5_col7\" class=\"data row5 col7\" >0.9</td>\n",
       "                        <td id=\"T_05eec_row5_col8\" class=\"data row5 col8\" >1.6</td>\n",
       "                        <td id=\"T_05eec_row5_col9\" class=\"data row5 col9\" >0.4</td>\n",
       "            </tr>\n",
       "            <tr>\n",
       "                        <th id=\"T_05eec_level0_row6\" class=\"row_heading level0 row6\" >6</th>\n",
       "                        <td id=\"T_05eec_row6_col0\" class=\"data row6 col0\" >0.5</td>\n",
       "                        <td id=\"T_05eec_row6_col1\" class=\"data row6 col1\" >0.1</td>\n",
       "                        <td id=\"T_05eec_row6_col2\" class=\"data row6 col2\" >0.7</td>\n",
       "                        <td id=\"T_05eec_row6_col3\" class=\"data row6 col3\" >0.0</td>\n",
       "                        <td id=\"T_05eec_row6_col4\" class=\"data row6 col4\" >0.4</td>\n",
       "                        <td id=\"T_05eec_row6_col5\" class=\"data row6 col5\" >0.6</td>\n",
       "                        <td id=\"T_05eec_row6_col6\" class=\"data row6 col6\" >97.2</td>\n",
       "                        <td id=\"T_05eec_row6_col7\" class=\"data row6 col7\" >0.0</td>\n",
       "                        <td id=\"T_05eec_row6_col8\" class=\"data row6 col8\" >0.4</td>\n",
       "                        <td id=\"T_05eec_row6_col9\" class=\"data row6 col9\" >0.0</td>\n",
       "            </tr>\n",
       "            <tr>\n",
       "                        <th id=\"T_05eec_level0_row7\" class=\"row_heading level0 row7\" >7</th>\n",
       "                        <td id=\"T_05eec_row7_col0\" class=\"data row7 col0\" >0.2</td>\n",
       "                        <td id=\"T_05eec_row7_col1\" class=\"data row7 col1\" >0.4</td>\n",
       "                        <td id=\"T_05eec_row7_col2\" class=\"data row7 col2\" >0.6</td>\n",
       "                        <td id=\"T_05eec_row7_col3\" class=\"data row7 col3\" >1.0</td>\n",
       "                        <td id=\"T_05eec_row7_col4\" class=\"data row7 col4\" >0.3</td>\n",
       "                        <td id=\"T_05eec_row7_col5\" class=\"data row7 col5\" >0.2</td>\n",
       "                        <td id=\"T_05eec_row7_col6\" class=\"data row7 col6\" >0.0</td>\n",
       "                        <td id=\"T_05eec_row7_col7\" class=\"data row7 col7\" >95.9</td>\n",
       "                        <td id=\"T_05eec_row7_col8\" class=\"data row7 col8\" >0.1</td>\n",
       "                        <td id=\"T_05eec_row7_col9\" class=\"data row7 col9\" >1.5</td>\n",
       "            </tr>\n",
       "            <tr>\n",
       "                        <th id=\"T_05eec_level0_row8\" class=\"row_heading level0 row8\" >8</th>\n",
       "                        <td id=\"T_05eec_row8_col0\" class=\"data row8 col0\" >0.5</td>\n",
       "                        <td id=\"T_05eec_row8_col1\" class=\"data row8 col1\" >0.5</td>\n",
       "                        <td id=\"T_05eec_row8_col2\" class=\"data row8 col2\" >1.5</td>\n",
       "                        <td id=\"T_05eec_row8_col3\" class=\"data row8 col3\" >1.1</td>\n",
       "                        <td id=\"T_05eec_row8_col4\" class=\"data row8 col4\" >0.2</td>\n",
       "                        <td id=\"T_05eec_row8_col5\" class=\"data row8 col5\" >1.2</td>\n",
       "                        <td id=\"T_05eec_row8_col6\" class=\"data row8 col6\" >0.5</td>\n",
       "                        <td id=\"T_05eec_row8_col7\" class=\"data row8 col7\" >0.3</td>\n",
       "                        <td id=\"T_05eec_row8_col8\" class=\"data row8 col8\" >93.1</td>\n",
       "                        <td id=\"T_05eec_row8_col9\" class=\"data row8 col9\" >1.2</td>\n",
       "            </tr>\n",
       "            <tr>\n",
       "                        <th id=\"T_05eec_level0_row9\" class=\"row_heading level0 row9\" >9</th>\n",
       "                        <td id=\"T_05eec_row9_col0\" class=\"data row9 col0\" >0.2</td>\n",
       "                        <td id=\"T_05eec_row9_col1\" class=\"data row9 col1\" >0.1</td>\n",
       "                        <td id=\"T_05eec_row9_col2\" class=\"data row9 col2\" >0.2</td>\n",
       "                        <td id=\"T_05eec_row9_col3\" class=\"data row9 col3\" >1.0</td>\n",
       "                        <td id=\"T_05eec_row9_col4\" class=\"data row9 col4\" >2.0</td>\n",
       "                        <td id=\"T_05eec_row9_col5\" class=\"data row9 col5\" >0.6</td>\n",
       "                        <td id=\"T_05eec_row9_col6\" class=\"data row9 col6\" >0.0</td>\n",
       "                        <td id=\"T_05eec_row9_col7\" class=\"data row9 col7\" >1.2</td>\n",
       "                        <td id=\"T_05eec_row9_col8\" class=\"data row9 col8\" >0.9</td>\n",
       "                        <td id=\"T_05eec_row9_col9\" class=\"data row9 col9\" >93.7</td>\n",
       "            </tr>\n",
       "    </tbody></table>"
      ],
      "text/plain": [
       "<pandas.io.formats.style.Styler at 0x29403c56dc0>"
      ]
     },
     "execution_count": 55,
     "metadata": {},
     "output_type": "execute_result"
    }
   ],
   "source": [
    "confusion_matrix(nnet.use(Xval)[0], Tval)"
   ]
  },
  {
   "cell_type": "code",
   "execution_count": 56,
   "metadata": {},
   "outputs": [
    {
     "name": "stdout",
     "output_type": "stream",
     "text": [
      "Percent Correct\n"
     ]
    },
    {
     "data": {
      "text/html": [
       "<style  type=\"text/css\" >\n",
       "#T_6c8d5_row0_col0,#T_6c8d5_row1_col1,#T_6c8d5_row2_col2,#T_6c8d5_row3_col3,#T_6c8d5_row4_col4,#T_6c8d5_row5_col5,#T_6c8d5_row6_col6,#T_6c8d5_row7_col7,#T_6c8d5_row8_col8,#T_6c8d5_row9_col9{\n",
       "            background-color:  #08306b;\n",
       "            color:  #f1f1f1;\n",
       "        }#T_6c8d5_row0_col1,#T_6c8d5_row0_col2,#T_6c8d5_row0_col3,#T_6c8d5_row0_col4,#T_6c8d5_row0_col7,#T_6c8d5_row0_col9,#T_6c8d5_row1_col0,#T_6c8d5_row1_col2,#T_6c8d5_row1_col3,#T_6c8d5_row1_col4,#T_6c8d5_row1_col5,#T_6c8d5_row1_col6,#T_6c8d5_row1_col7,#T_6c8d5_row1_col8,#T_6c8d5_row1_col9,#T_6c8d5_row2_col1,#T_6c8d5_row2_col5,#T_6c8d5_row2_col9,#T_6c8d5_row3_col0,#T_6c8d5_row3_col1,#T_6c8d5_row3_col4,#T_6c8d5_row3_col6,#T_6c8d5_row4_col0,#T_6c8d5_row4_col1,#T_6c8d5_row4_col5,#T_6c8d5_row4_col7,#T_6c8d5_row4_col8,#T_6c8d5_row5_col1,#T_6c8d5_row5_col2,#T_6c8d5_row5_col4,#T_6c8d5_row5_col7,#T_6c8d5_row6_col1,#T_6c8d5_row6_col2,#T_6c8d5_row6_col3,#T_6c8d5_row6_col7,#T_6c8d5_row6_col8,#T_6c8d5_row6_col9,#T_6c8d5_row7_col0,#T_6c8d5_row7_col4,#T_6c8d5_row7_col5,#T_6c8d5_row7_col6,#T_6c8d5_row7_col8,#T_6c8d5_row8_col0,#T_6c8d5_row8_col1,#T_6c8d5_row8_col6,#T_6c8d5_row9_col0,#T_6c8d5_row9_col1,#T_6c8d5_row9_col2,#T_6c8d5_row9_col6{\n",
       "            background-color:  #f7fbff;\n",
       "            color:  #000000;\n",
       "        }#T_6c8d5_row0_col5,#T_6c8d5_row0_col8,#T_6c8d5_row2_col0,#T_6c8d5_row2_col7,#T_6c8d5_row3_col7,#T_6c8d5_row4_col2,#T_6c8d5_row4_col3,#T_6c8d5_row4_col6,#T_6c8d5_row5_col0,#T_6c8d5_row5_col6,#T_6c8d5_row5_col9,#T_6c8d5_row6_col0,#T_6c8d5_row6_col4,#T_6c8d5_row7_col1,#T_6c8d5_row8_col4,#T_6c8d5_row8_col7,#T_6c8d5_row8_col9,#T_6c8d5_row9_col5{\n",
       "            background-color:  #f6faff;\n",
       "            color:  #000000;\n",
       "        }#T_6c8d5_row0_col6,#T_6c8d5_row2_col4,#T_6c8d5_row2_col6,#T_6c8d5_row2_col8,#T_6c8d5_row3_col9,#T_6c8d5_row7_col2,#T_6c8d5_row8_col2,#T_6c8d5_row9_col3,#T_6c8d5_row9_col8{\n",
       "            background-color:  #f5fafe;\n",
       "            color:  #000000;\n",
       "        }#T_6c8d5_row2_col3,#T_6c8d5_row7_col9,#T_6c8d5_row9_col4{\n",
       "            background-color:  #f4f9fe;\n",
       "            color:  #000000;\n",
       "        }#T_6c8d5_row3_col2,#T_6c8d5_row3_col5,#T_6c8d5_row3_col8,#T_6c8d5_row4_col9,#T_6c8d5_row6_col5,#T_6c8d5_row7_col3,#T_6c8d5_row9_col7{\n",
       "            background-color:  #f5f9fe;\n",
       "            color:  #000000;\n",
       "        }#T_6c8d5_row5_col3,#T_6c8d5_row5_col8,#T_6c8d5_row8_col5{\n",
       "            background-color:  #f3f8fe;\n",
       "            color:  #000000;\n",
       "        }#T_6c8d5_row8_col3{\n",
       "            background-color:  #f2f8fd;\n",
       "            color:  #000000;\n",
       "        }</style><table id=\"T_6c8d5_\" ><thead>    <tr>        <th class=\"blank level0\" ></th>        <th class=\"col_heading level0 col0\" >0</th>        <th class=\"col_heading level0 col1\" >1</th>        <th class=\"col_heading level0 col2\" >2</th>        <th class=\"col_heading level0 col3\" >3</th>        <th class=\"col_heading level0 col4\" >4</th>        <th class=\"col_heading level0 col5\" >5</th>        <th class=\"col_heading level0 col6\" >6</th>        <th class=\"col_heading level0 col7\" >7</th>        <th class=\"col_heading level0 col8\" >8</th>        <th class=\"col_heading level0 col9\" >9</th>    </tr></thead><tbody>\n",
       "                <tr>\n",
       "                        <th id=\"T_6c8d5_level0_row0\" class=\"row_heading level0 row0\" >0</th>\n",
       "                        <td id=\"T_6c8d5_row0_col0\" class=\"data row0 col0\" >97.0</td>\n",
       "                        <td id=\"T_6c8d5_row0_col1\" class=\"data row0 col1\" >0.0</td>\n",
       "                        <td id=\"T_6c8d5_row0_col2\" class=\"data row0 col2\" >0.3</td>\n",
       "                        <td id=\"T_6c8d5_row0_col3\" class=\"data row0 col3\" >0.3</td>\n",
       "                        <td id=\"T_6c8d5_row0_col4\" class=\"data row0 col4\" >0.0</td>\n",
       "                        <td id=\"T_6c8d5_row0_col5\" class=\"data row0 col5\" >0.6</td>\n",
       "                        <td id=\"T_6c8d5_row0_col6\" class=\"data row0 col6\" >0.9</td>\n",
       "                        <td id=\"T_6c8d5_row0_col7\" class=\"data row0 col7\" >0.2</td>\n",
       "                        <td id=\"T_6c8d5_row0_col8\" class=\"data row0 col8\" >0.4</td>\n",
       "                        <td id=\"T_6c8d5_row0_col9\" class=\"data row0 col9\" >0.2</td>\n",
       "            </tr>\n",
       "            <tr>\n",
       "                        <th id=\"T_6c8d5_level0_row1\" class=\"row_heading level0 row1\" >1</th>\n",
       "                        <td id=\"T_6c8d5_row1_col0\" class=\"data row1 col0\" >0.0</td>\n",
       "                        <td id=\"T_6c8d5_row1_col1\" class=\"data row1 col1\" >98.9</td>\n",
       "                        <td id=\"T_6c8d5_row1_col2\" class=\"data row1 col2\" >0.4</td>\n",
       "                        <td id=\"T_6c8d5_row1_col3\" class=\"data row1 col3\" >0.3</td>\n",
       "                        <td id=\"T_6c8d5_row1_col4\" class=\"data row1 col4\" >0.1</td>\n",
       "                        <td id=\"T_6c8d5_row1_col5\" class=\"data row1 col5\" >0.2</td>\n",
       "                        <td id=\"T_6c8d5_row1_col6\" class=\"data row1 col6\" >0.2</td>\n",
       "                        <td id=\"T_6c8d5_row1_col7\" class=\"data row1 col7\" >0.1</td>\n",
       "                        <td id=\"T_6c8d5_row1_col8\" class=\"data row1 col8\" >0.0</td>\n",
       "                        <td id=\"T_6c8d5_row1_col9\" class=\"data row1 col9\" >0.0</td>\n",
       "            </tr>\n",
       "            <tr>\n",
       "                        <th id=\"T_6c8d5_level0_row2\" class=\"row_heading level0 row2\" >2</th>\n",
       "                        <td id=\"T_6c8d5_row2_col0\" class=\"data row2 col0\" >0.7</td>\n",
       "                        <td id=\"T_6c8d5_row2_col1\" class=\"data row2 col1\" >0.3</td>\n",
       "                        <td id=\"T_6c8d5_row2_col2\" class=\"data row2 col2\" >93.7</td>\n",
       "                        <td id=\"T_6c8d5_row2_col3\" class=\"data row2 col3\" >1.7</td>\n",
       "                        <td id=\"T_6c8d5_row2_col4\" class=\"data row2 col4\" >0.8</td>\n",
       "                        <td id=\"T_6c8d5_row2_col5\" class=\"data row2 col5\" >0.0</td>\n",
       "                        <td id=\"T_6c8d5_row2_col6\" class=\"data row2 col6\" >0.9</td>\n",
       "                        <td id=\"T_6c8d5_row2_col7\" class=\"data row2 col7\" >0.8</td>\n",
       "                        <td id=\"T_6c8d5_row2_col8\" class=\"data row2 col8\" >0.9</td>\n",
       "                        <td id=\"T_6c8d5_row2_col9\" class=\"data row2 col9\" >0.3</td>\n",
       "            </tr>\n",
       "            <tr>\n",
       "                        <th id=\"T_6c8d5_level0_row3\" class=\"row_heading level0 row3\" >3</th>\n",
       "                        <td id=\"T_6c8d5_row3_col0\" class=\"data row3 col0\" >0.1</td>\n",
       "                        <td id=\"T_6c8d5_row3_col1\" class=\"data row3 col1\" >0.1</td>\n",
       "                        <td id=\"T_6c8d5_row3_col2\" class=\"data row3 col2\" >1.5</td>\n",
       "                        <td id=\"T_6c8d5_row3_col3\" class=\"data row3 col3\" >93.9</td>\n",
       "                        <td id=\"T_6c8d5_row3_col4\" class=\"data row3 col4\" >0.1</td>\n",
       "                        <td id=\"T_6c8d5_row3_col5\" class=\"data row3 col5\" >1.4</td>\n",
       "                        <td id=\"T_6c8d5_row3_col6\" class=\"data row3 col6\" >0.0</td>\n",
       "                        <td id=\"T_6c8d5_row3_col7\" class=\"data row3 col7\" >0.8</td>\n",
       "                        <td id=\"T_6c8d5_row3_col8\" class=\"data row3 col8\" >1.4</td>\n",
       "                        <td id=\"T_6c8d5_row3_col9\" class=\"data row3 col9\" >0.8</td>\n",
       "            </tr>\n",
       "            <tr>\n",
       "                        <th id=\"T_6c8d5_level0_row4\" class=\"row_heading level0 row4\" >4</th>\n",
       "                        <td id=\"T_6c8d5_row4_col0\" class=\"data row4 col0\" >0.0</td>\n",
       "                        <td id=\"T_6c8d5_row4_col1\" class=\"data row4 col1\" >0.1</td>\n",
       "                        <td id=\"T_6c8d5_row4_col2\" class=\"data row4 col2\" >0.5</td>\n",
       "                        <td id=\"T_6c8d5_row4_col3\" class=\"data row4 col3\" >0.6</td>\n",
       "                        <td id=\"T_6c8d5_row4_col4\" class=\"data row4 col4\" >95.9</td>\n",
       "                        <td id=\"T_6c8d5_row4_col5\" class=\"data row4 col5\" >0.2</td>\n",
       "                        <td id=\"T_6c8d5_row4_col6\" class=\"data row4 col6\" >0.7</td>\n",
       "                        <td id=\"T_6c8d5_row4_col7\" class=\"data row4 col7\" >0.4</td>\n",
       "                        <td id=\"T_6c8d5_row4_col8\" class=\"data row4 col8\" >0.2</td>\n",
       "                        <td id=\"T_6c8d5_row4_col9\" class=\"data row4 col9\" >1.3</td>\n",
       "            </tr>\n",
       "            <tr>\n",
       "                        <th id=\"T_6c8d5_level0_row5\" class=\"row_heading level0 row5\" >5</th>\n",
       "                        <td id=\"T_6c8d5_row5_col0\" class=\"data row5 col0\" >0.7</td>\n",
       "                        <td id=\"T_6c8d5_row5_col1\" class=\"data row5 col1\" >0.1</td>\n",
       "                        <td id=\"T_6c8d5_row5_col2\" class=\"data row5 col2\" >0.1</td>\n",
       "                        <td id=\"T_6c8d5_row5_col3\" class=\"data row5 col3\" >1.9</td>\n",
       "                        <td id=\"T_6c8d5_row5_col4\" class=\"data row5 col4\" >0.2</td>\n",
       "                        <td id=\"T_6c8d5_row5_col5\" class=\"data row5 col5\" >93.3</td>\n",
       "                        <td id=\"T_6c8d5_row5_col6\" class=\"data row5 col6\" >0.6</td>\n",
       "                        <td id=\"T_6c8d5_row5_col7\" class=\"data row5 col7\" >0.3</td>\n",
       "                        <td id=\"T_6c8d5_row5_col8\" class=\"data row5 col8\" >2.1</td>\n",
       "                        <td id=\"T_6c8d5_row5_col9\" class=\"data row5 col9\" >0.7</td>\n",
       "            </tr>\n",
       "            <tr>\n",
       "                        <th id=\"T_6c8d5_level0_row6\" class=\"row_heading level0 row6\" >6</th>\n",
       "                        <td id=\"T_6c8d5_row6_col0\" class=\"data row6 col0\" >0.4</td>\n",
       "                        <td id=\"T_6c8d5_row6_col1\" class=\"data row6 col1\" >0.2</td>\n",
       "                        <td id=\"T_6c8d5_row6_col2\" class=\"data row6 col2\" >0.1</td>\n",
       "                        <td id=\"T_6c8d5_row6_col3\" class=\"data row6 col3\" >0.0</td>\n",
       "                        <td id=\"T_6c8d5_row6_col4\" class=\"data row6 col4\" >0.7</td>\n",
       "                        <td id=\"T_6c8d5_row6_col5\" class=\"data row6 col5\" >1.1</td>\n",
       "                        <td id=\"T_6c8d5_row6_col6\" class=\"data row6 col6\" >97.1</td>\n",
       "                        <td id=\"T_6c8d5_row6_col7\" class=\"data row6 col7\" >0.1</td>\n",
       "                        <td id=\"T_6c8d5_row6_col8\" class=\"data row6 col8\" >0.2</td>\n",
       "                        <td id=\"T_6c8d5_row6_col9\" class=\"data row6 col9\" >0.0</td>\n",
       "            </tr>\n",
       "            <tr>\n",
       "                        <th id=\"T_6c8d5_level0_row7\" class=\"row_heading level0 row7\" >7</th>\n",
       "                        <td id=\"T_6c8d5_row7_col0\" class=\"data row7 col0\" >0.1</td>\n",
       "                        <td id=\"T_6c8d5_row7_col1\" class=\"data row7 col1\" >0.4</td>\n",
       "                        <td id=\"T_6c8d5_row7_col2\" class=\"data row7 col2\" >1.1</td>\n",
       "                        <td id=\"T_6c8d5_row7_col3\" class=\"data row7 col3\" >1.2</td>\n",
       "                        <td id=\"T_6c8d5_row7_col4\" class=\"data row7 col4\" >0.2</td>\n",
       "                        <td id=\"T_6c8d5_row7_col5\" class=\"data row7 col5\" >0.0</td>\n",
       "                        <td id=\"T_6c8d5_row7_col6\" class=\"data row7 col6\" >0.0</td>\n",
       "                        <td id=\"T_6c8d5_row7_col7\" class=\"data row7 col7\" >95.2</td>\n",
       "                        <td id=\"T_6c8d5_row7_col8\" class=\"data row7 col8\" >0.2</td>\n",
       "                        <td id=\"T_6c8d5_row7_col9\" class=\"data row7 col9\" >1.7</td>\n",
       "            </tr>\n",
       "            <tr>\n",
       "                        <th id=\"T_6c8d5_level0_row8\" class=\"row_heading level0 row8\" >8</th>\n",
       "                        <td id=\"T_6c8d5_row8_col0\" class=\"data row8 col0\" >0.3</td>\n",
       "                        <td id=\"T_6c8d5_row8_col1\" class=\"data row8 col1\" >0.1</td>\n",
       "                        <td id=\"T_6c8d5_row8_col2\" class=\"data row8 col2\" >1.1</td>\n",
       "                        <td id=\"T_6c8d5_row8_col3\" class=\"data row8 col3\" >2.3</td>\n",
       "                        <td id=\"T_6c8d5_row8_col4\" class=\"data row8 col4\" >0.6</td>\n",
       "                        <td id=\"T_6c8d5_row8_col5\" class=\"data row8 col5\" >1.8</td>\n",
       "                        <td id=\"T_6c8d5_row8_col6\" class=\"data row8 col6\" >0.3</td>\n",
       "                        <td id=\"T_6c8d5_row8_col7\" class=\"data row8 col7\" >0.6</td>\n",
       "                        <td id=\"T_6c8d5_row8_col8\" class=\"data row8 col8\" >92.1</td>\n",
       "                        <td id=\"T_6c8d5_row8_col9\" class=\"data row8 col9\" >0.7</td>\n",
       "            </tr>\n",
       "            <tr>\n",
       "                        <th id=\"T_6c8d5_level0_row9\" class=\"row_heading level0 row9\" >9</th>\n",
       "                        <td id=\"T_6c8d5_row9_col0\" class=\"data row9 col0\" >0.3</td>\n",
       "                        <td id=\"T_6c8d5_row9_col1\" class=\"data row9 col1\" >0.3</td>\n",
       "                        <td id=\"T_6c8d5_row9_col2\" class=\"data row9 col2\" >0.3</td>\n",
       "                        <td id=\"T_6c8d5_row9_col3\" class=\"data row9 col3\" >1.0</td>\n",
       "                        <td id=\"T_6c8d5_row9_col4\" class=\"data row9 col4\" >1.8</td>\n",
       "                        <td id=\"T_6c8d5_row9_col5\" class=\"data row9 col5\" >0.6</td>\n",
       "                        <td id=\"T_6c8d5_row9_col6\" class=\"data row9 col6\" >0.1</td>\n",
       "                        <td id=\"T_6c8d5_row9_col7\" class=\"data row9 col7\" >1.5</td>\n",
       "                        <td id=\"T_6c8d5_row9_col8\" class=\"data row9 col8\" >1.0</td>\n",
       "                        <td id=\"T_6c8d5_row9_col9\" class=\"data row9 col9\" >93.2</td>\n",
       "            </tr>\n",
       "    </tbody></table>"
      ],
      "text/plain": [
       "<pandas.io.formats.style.Styler at 0x29405f47e20>"
      ]
     },
     "execution_count": 56,
     "metadata": {},
     "output_type": "execute_result"
    }
   ],
   "source": [
    "confusion_matrix(nnet.use(Xtest)[0], Ttest)"
   ]
  },
  {
   "cell_type": "code",
   "execution_count": 57,
   "metadata": {},
   "outputs": [
    {
     "name": "stdout",
     "output_type": "stream",
     "text": [
      "Percent Correct\n"
     ]
    },
    {
     "data": {
      "text/html": [
       "<style  type=\"text/css\" >\n",
       "#T_75660_row0_col0,#T_75660_row1_col1,#T_75660_row2_col2,#T_75660_row3_col3,#T_75660_row4_col4,#T_75660_row5_col5,#T_75660_row6_col6,#T_75660_row7_col7,#T_75660_row8_col8,#T_75660_row9_col9{\n",
       "            background-color:  #08306b;\n",
       "            color:  #f1f1f1;\n",
       "        }#T_75660_row0_col1,#T_75660_row0_col2,#T_75660_row0_col3,#T_75660_row0_col4,#T_75660_row0_col5,#T_75660_row0_col6,#T_75660_row0_col7,#T_75660_row0_col8,#T_75660_row0_col9,#T_75660_row1_col0,#T_75660_row1_col2,#T_75660_row1_col3,#T_75660_row1_col4,#T_75660_row1_col5,#T_75660_row1_col6,#T_75660_row1_col7,#T_75660_row1_col8,#T_75660_row1_col9,#T_75660_row2_col0,#T_75660_row2_col1,#T_75660_row2_col3,#T_75660_row2_col4,#T_75660_row2_col5,#T_75660_row2_col6,#T_75660_row2_col7,#T_75660_row2_col8,#T_75660_row2_col9,#T_75660_row3_col0,#T_75660_row3_col1,#T_75660_row3_col2,#T_75660_row3_col4,#T_75660_row3_col5,#T_75660_row3_col6,#T_75660_row3_col7,#T_75660_row3_col8,#T_75660_row3_col9,#T_75660_row4_col0,#T_75660_row4_col1,#T_75660_row4_col2,#T_75660_row4_col3,#T_75660_row4_col5,#T_75660_row4_col6,#T_75660_row4_col7,#T_75660_row4_col8,#T_75660_row4_col9,#T_75660_row5_col0,#T_75660_row5_col1,#T_75660_row5_col2,#T_75660_row5_col3,#T_75660_row5_col4,#T_75660_row5_col6,#T_75660_row5_col7,#T_75660_row5_col8,#T_75660_row5_col9,#T_75660_row6_col0,#T_75660_row6_col1,#T_75660_row6_col2,#T_75660_row6_col3,#T_75660_row6_col4,#T_75660_row6_col5,#T_75660_row6_col7,#T_75660_row6_col8,#T_75660_row6_col9,#T_75660_row7_col0,#T_75660_row7_col1,#T_75660_row7_col2,#T_75660_row7_col3,#T_75660_row7_col4,#T_75660_row7_col5,#T_75660_row7_col6,#T_75660_row7_col8,#T_75660_row7_col9,#T_75660_row8_col0,#T_75660_row8_col1,#T_75660_row8_col2,#T_75660_row8_col3,#T_75660_row8_col4,#T_75660_row8_col5,#T_75660_row8_col6,#T_75660_row8_col7,#T_75660_row8_col9,#T_75660_row9_col0,#T_75660_row9_col1,#T_75660_row9_col2,#T_75660_row9_col3,#T_75660_row9_col4,#T_75660_row9_col5,#T_75660_row9_col6,#T_75660_row9_col7,#T_75660_row9_col8{\n",
       "            background-color:  #f7fbff;\n",
       "            color:  #000000;\n",
       "        }</style><table id=\"T_75660_\" ><thead>    <tr>        <th class=\"blank level0\" ></th>        <th class=\"col_heading level0 col0\" >0</th>        <th class=\"col_heading level0 col1\" >1</th>        <th class=\"col_heading level0 col2\" >2</th>        <th class=\"col_heading level0 col3\" >3</th>        <th class=\"col_heading level0 col4\" >4</th>        <th class=\"col_heading level0 col5\" >5</th>        <th class=\"col_heading level0 col6\" >6</th>        <th class=\"col_heading level0 col7\" >7</th>        <th class=\"col_heading level0 col8\" >8</th>        <th class=\"col_heading level0 col9\" >9</th>    </tr></thead><tbody>\n",
       "                <tr>\n",
       "                        <th id=\"T_75660_level0_row0\" class=\"row_heading level0 row0\" >0</th>\n",
       "                        <td id=\"T_75660_row0_col0\" class=\"data row0 col0\" >100.0</td>\n",
       "                        <td id=\"T_75660_row0_col1\" class=\"data row0 col1\" >0.0</td>\n",
       "                        <td id=\"T_75660_row0_col2\" class=\"data row0 col2\" >0.0</td>\n",
       "                        <td id=\"T_75660_row0_col3\" class=\"data row0 col3\" >0.0</td>\n",
       "                        <td id=\"T_75660_row0_col4\" class=\"data row0 col4\" >0.0</td>\n",
       "                        <td id=\"T_75660_row0_col5\" class=\"data row0 col5\" >0.0</td>\n",
       "                        <td id=\"T_75660_row0_col6\" class=\"data row0 col6\" >0.0</td>\n",
       "                        <td id=\"T_75660_row0_col7\" class=\"data row0 col7\" >0.0</td>\n",
       "                        <td id=\"T_75660_row0_col8\" class=\"data row0 col8\" >0.0</td>\n",
       "                        <td id=\"T_75660_row0_col9\" class=\"data row0 col9\" >0.0</td>\n",
       "            </tr>\n",
       "            <tr>\n",
       "                        <th id=\"T_75660_level0_row1\" class=\"row_heading level0 row1\" >1</th>\n",
       "                        <td id=\"T_75660_row1_col0\" class=\"data row1 col0\" >0.0</td>\n",
       "                        <td id=\"T_75660_row1_col1\" class=\"data row1 col1\" >100.0</td>\n",
       "                        <td id=\"T_75660_row1_col2\" class=\"data row1 col2\" >0.0</td>\n",
       "                        <td id=\"T_75660_row1_col3\" class=\"data row1 col3\" >0.0</td>\n",
       "                        <td id=\"T_75660_row1_col4\" class=\"data row1 col4\" >0.0</td>\n",
       "                        <td id=\"T_75660_row1_col5\" class=\"data row1 col5\" >0.0</td>\n",
       "                        <td id=\"T_75660_row1_col6\" class=\"data row1 col6\" >0.0</td>\n",
       "                        <td id=\"T_75660_row1_col7\" class=\"data row1 col7\" >0.0</td>\n",
       "                        <td id=\"T_75660_row1_col8\" class=\"data row1 col8\" >0.0</td>\n",
       "                        <td id=\"T_75660_row1_col9\" class=\"data row1 col9\" >0.0</td>\n",
       "            </tr>\n",
       "            <tr>\n",
       "                        <th id=\"T_75660_level0_row2\" class=\"row_heading level0 row2\" >2</th>\n",
       "                        <td id=\"T_75660_row2_col0\" class=\"data row2 col0\" >0.0</td>\n",
       "                        <td id=\"T_75660_row2_col1\" class=\"data row2 col1\" >0.0</td>\n",
       "                        <td id=\"T_75660_row2_col2\" class=\"data row2 col2\" >100.0</td>\n",
       "                        <td id=\"T_75660_row2_col3\" class=\"data row2 col3\" >0.0</td>\n",
       "                        <td id=\"T_75660_row2_col4\" class=\"data row2 col4\" >0.0</td>\n",
       "                        <td id=\"T_75660_row2_col5\" class=\"data row2 col5\" >0.0</td>\n",
       "                        <td id=\"T_75660_row2_col6\" class=\"data row2 col6\" >0.0</td>\n",
       "                        <td id=\"T_75660_row2_col7\" class=\"data row2 col7\" >0.0</td>\n",
       "                        <td id=\"T_75660_row2_col8\" class=\"data row2 col8\" >0.0</td>\n",
       "                        <td id=\"T_75660_row2_col9\" class=\"data row2 col9\" >0.0</td>\n",
       "            </tr>\n",
       "            <tr>\n",
       "                        <th id=\"T_75660_level0_row3\" class=\"row_heading level0 row3\" >3</th>\n",
       "                        <td id=\"T_75660_row3_col0\" class=\"data row3 col0\" >0.0</td>\n",
       "                        <td id=\"T_75660_row3_col1\" class=\"data row3 col1\" >0.0</td>\n",
       "                        <td id=\"T_75660_row3_col2\" class=\"data row3 col2\" >0.0</td>\n",
       "                        <td id=\"T_75660_row3_col3\" class=\"data row3 col3\" >100.0</td>\n",
       "                        <td id=\"T_75660_row3_col4\" class=\"data row3 col4\" >0.0</td>\n",
       "                        <td id=\"T_75660_row3_col5\" class=\"data row3 col5\" >0.0</td>\n",
       "                        <td id=\"T_75660_row3_col6\" class=\"data row3 col6\" >0.0</td>\n",
       "                        <td id=\"T_75660_row3_col7\" class=\"data row3 col7\" >0.0</td>\n",
       "                        <td id=\"T_75660_row3_col8\" class=\"data row3 col8\" >0.0</td>\n",
       "                        <td id=\"T_75660_row3_col9\" class=\"data row3 col9\" >0.0</td>\n",
       "            </tr>\n",
       "            <tr>\n",
       "                        <th id=\"T_75660_level0_row4\" class=\"row_heading level0 row4\" >4</th>\n",
       "                        <td id=\"T_75660_row4_col0\" class=\"data row4 col0\" >0.0</td>\n",
       "                        <td id=\"T_75660_row4_col1\" class=\"data row4 col1\" >0.0</td>\n",
       "                        <td id=\"T_75660_row4_col2\" class=\"data row4 col2\" >0.0</td>\n",
       "                        <td id=\"T_75660_row4_col3\" class=\"data row4 col3\" >0.0</td>\n",
       "                        <td id=\"T_75660_row4_col4\" class=\"data row4 col4\" >100.0</td>\n",
       "                        <td id=\"T_75660_row4_col5\" class=\"data row4 col5\" >0.0</td>\n",
       "                        <td id=\"T_75660_row4_col6\" class=\"data row4 col6\" >0.0</td>\n",
       "                        <td id=\"T_75660_row4_col7\" class=\"data row4 col7\" >0.0</td>\n",
       "                        <td id=\"T_75660_row4_col8\" class=\"data row4 col8\" >0.0</td>\n",
       "                        <td id=\"T_75660_row4_col9\" class=\"data row4 col9\" >0.0</td>\n",
       "            </tr>\n",
       "            <tr>\n",
       "                        <th id=\"T_75660_level0_row5\" class=\"row_heading level0 row5\" >5</th>\n",
       "                        <td id=\"T_75660_row5_col0\" class=\"data row5 col0\" >0.0</td>\n",
       "                        <td id=\"T_75660_row5_col1\" class=\"data row5 col1\" >0.0</td>\n",
       "                        <td id=\"T_75660_row5_col2\" class=\"data row5 col2\" >0.0</td>\n",
       "                        <td id=\"T_75660_row5_col3\" class=\"data row5 col3\" >0.0</td>\n",
       "                        <td id=\"T_75660_row5_col4\" class=\"data row5 col4\" >0.0</td>\n",
       "                        <td id=\"T_75660_row5_col5\" class=\"data row5 col5\" >100.0</td>\n",
       "                        <td id=\"T_75660_row5_col6\" class=\"data row5 col6\" >0.0</td>\n",
       "                        <td id=\"T_75660_row5_col7\" class=\"data row5 col7\" >0.0</td>\n",
       "                        <td id=\"T_75660_row5_col8\" class=\"data row5 col8\" >0.0</td>\n",
       "                        <td id=\"T_75660_row5_col9\" class=\"data row5 col9\" >0.0</td>\n",
       "            </tr>\n",
       "            <tr>\n",
       "                        <th id=\"T_75660_level0_row6\" class=\"row_heading level0 row6\" >6</th>\n",
       "                        <td id=\"T_75660_row6_col0\" class=\"data row6 col0\" >0.0</td>\n",
       "                        <td id=\"T_75660_row6_col1\" class=\"data row6 col1\" >0.0</td>\n",
       "                        <td id=\"T_75660_row6_col2\" class=\"data row6 col2\" >0.0</td>\n",
       "                        <td id=\"T_75660_row6_col3\" class=\"data row6 col3\" >0.0</td>\n",
       "                        <td id=\"T_75660_row6_col4\" class=\"data row6 col4\" >0.0</td>\n",
       "                        <td id=\"T_75660_row6_col5\" class=\"data row6 col5\" >0.0</td>\n",
       "                        <td id=\"T_75660_row6_col6\" class=\"data row6 col6\" >100.0</td>\n",
       "                        <td id=\"T_75660_row6_col7\" class=\"data row6 col7\" >0.0</td>\n",
       "                        <td id=\"T_75660_row6_col8\" class=\"data row6 col8\" >0.0</td>\n",
       "                        <td id=\"T_75660_row6_col9\" class=\"data row6 col9\" >0.0</td>\n",
       "            </tr>\n",
       "            <tr>\n",
       "                        <th id=\"T_75660_level0_row7\" class=\"row_heading level0 row7\" >7</th>\n",
       "                        <td id=\"T_75660_row7_col0\" class=\"data row7 col0\" >0.0</td>\n",
       "                        <td id=\"T_75660_row7_col1\" class=\"data row7 col1\" >0.0</td>\n",
       "                        <td id=\"T_75660_row7_col2\" class=\"data row7 col2\" >0.0</td>\n",
       "                        <td id=\"T_75660_row7_col3\" class=\"data row7 col3\" >0.0</td>\n",
       "                        <td id=\"T_75660_row7_col4\" class=\"data row7 col4\" >0.0</td>\n",
       "                        <td id=\"T_75660_row7_col5\" class=\"data row7 col5\" >0.0</td>\n",
       "                        <td id=\"T_75660_row7_col6\" class=\"data row7 col6\" >0.0</td>\n",
       "                        <td id=\"T_75660_row7_col7\" class=\"data row7 col7\" >100.0</td>\n",
       "                        <td id=\"T_75660_row7_col8\" class=\"data row7 col8\" >0.0</td>\n",
       "                        <td id=\"T_75660_row7_col9\" class=\"data row7 col9\" >0.0</td>\n",
       "            </tr>\n",
       "            <tr>\n",
       "                        <th id=\"T_75660_level0_row8\" class=\"row_heading level0 row8\" >8</th>\n",
       "                        <td id=\"T_75660_row8_col0\" class=\"data row8 col0\" >0.0</td>\n",
       "                        <td id=\"T_75660_row8_col1\" class=\"data row8 col1\" >0.0</td>\n",
       "                        <td id=\"T_75660_row8_col2\" class=\"data row8 col2\" >0.0</td>\n",
       "                        <td id=\"T_75660_row8_col3\" class=\"data row8 col3\" >0.0</td>\n",
       "                        <td id=\"T_75660_row8_col4\" class=\"data row8 col4\" >0.0</td>\n",
       "                        <td id=\"T_75660_row8_col5\" class=\"data row8 col5\" >0.0</td>\n",
       "                        <td id=\"T_75660_row8_col6\" class=\"data row8 col6\" >0.0</td>\n",
       "                        <td id=\"T_75660_row8_col7\" class=\"data row8 col7\" >0.0</td>\n",
       "                        <td id=\"T_75660_row8_col8\" class=\"data row8 col8\" >100.0</td>\n",
       "                        <td id=\"T_75660_row8_col9\" class=\"data row8 col9\" >0.0</td>\n",
       "            </tr>\n",
       "            <tr>\n",
       "                        <th id=\"T_75660_level0_row9\" class=\"row_heading level0 row9\" >9</th>\n",
       "                        <td id=\"T_75660_row9_col0\" class=\"data row9 col0\" >0.0</td>\n",
       "                        <td id=\"T_75660_row9_col1\" class=\"data row9 col1\" >0.0</td>\n",
       "                        <td id=\"T_75660_row9_col2\" class=\"data row9 col2\" >0.0</td>\n",
       "                        <td id=\"T_75660_row9_col3\" class=\"data row9 col3\" >0.0</td>\n",
       "                        <td id=\"T_75660_row9_col4\" class=\"data row9 col4\" >0.0</td>\n",
       "                        <td id=\"T_75660_row9_col5\" class=\"data row9 col5\" >0.0</td>\n",
       "                        <td id=\"T_75660_row9_col6\" class=\"data row9 col6\" >0.0</td>\n",
       "                        <td id=\"T_75660_row9_col7\" class=\"data row9 col7\" >0.0</td>\n",
       "                        <td id=\"T_75660_row9_col8\" class=\"data row9 col8\" >0.0</td>\n",
       "                        <td id=\"T_75660_row9_col9\" class=\"data row9 col9\" >100.0</td>\n",
       "            </tr>\n",
       "    </tbody></table>"
      ],
      "text/plain": [
       "<pandas.io.formats.style.Styler at 0x2946dfc4580>"
      ]
     },
     "execution_count": 57,
     "metadata": {},
     "output_type": "execute_result"
    }
   ],
   "source": [
    "confusion_matrix(nnet.use(Xtrain)[0], Ttrain)"
   ]
  },
  {
   "cell_type": "markdown",
   "metadata": {},
   "source": [
    "##DIscussion"
   ]
  },
  {
   "cell_type": "markdown",
   "metadata": {},
   "source": [
    "1.Increasing the number of layers in the network increases the accuracy, but it does a saturation point beyond which it does increase accuracy any further\n",
    "2.Decreasing the number of epochs reduces percent accuracy, increasing the number of epochs increases the percent accuracy but increases computational load and consequently time taken for the results.\n",
    "3.Increasing the learning rate increases percent accuracy and but reducing causes the optimizer to hunt for the best value.\n",
    "4.SGD performs better with no hidden layers in our case.\n",
    "5.Increasing number of epochs beyond a certain value does not contribute significantly and the optimizer keeps on searching for a better value and the accuracy hence does increase beyond certain point.\n",
    "6.A two layer network gives a better value for Adam.\n",
    "7.If the data is over-fitting reducing the number of epochs reduces computational load without any significant reduction in accuracy.\n",
    "8.Increasing learning rate further does significantly increase accuracy but reducing learning rate does affect lower the accuracy significacntly and increases the computational load.\n",
    "9.A two layer network gives much better results with SCG.\n",
    "10.Unlike SGD and Adam, SCG has a much higher step value between epochs that is it reduces error faster and approaches zero before the computation of total number of epochs in some cases but we do not want overfitting, which reduces are \n",
    "percent accuracy.\n",
    "11.Since we are achieving near perfect accuracy we can reduce the number of epochs and reduce computational complexity without any significant decrease in accuracy."
   ]
  },
  {
   "cell_type": "markdown",
   "metadata": {
    "ExecuteTime": {
     "end_time": "2020-10-16T20:44:33.927450Z",
     "start_time": "2020-10-16T20:44:33.925092Z"
    }
   },
   "source": [
    "# Grading\n",
    "\n",
    "Download [A3grader.tar](https://www.cs.colostate.edu/~anderson/cs545/notebooks/A3grader.tar), extract `A3grader.py` before running the following cell."
   ]
  },
  {
   "cell_type": "code",
   "execution_count": 31,
   "metadata": {
    "ExecuteTime": {
     "end_time": "2020-10-16T21:31:34.762274Z",
     "start_time": "2020-10-16T21:31:33.286016Z"
    }
   },
   "outputs": [
    {
     "name": "stdout",
     "output_type": "stream",
     "text": [
      "\n",
      "======================= Code Execution =======================\n",
      "\n",
      "Extracting python code from notebook named 'Shetty-A3.ipynb' and storing in notebookcode.py\n",
      "Removing all statements that are not function or class defs or import statements.\n",
      "\n",
      "## Testing inheritance ####################################################################\n",
      "\n",
      "    correct = issubclass(NeuralNetworkClassifier, NeuralNetwork)\n",
      "\n",
      "\n",
      "--- 10/10 points. NeuralNetworkClassifier correctly extends NeuralNetwork.\n",
      "\n",
      "## Testing inheritance ####################################################################\n",
      "\n",
      "    import inspect\n",
      "    forward_func = [f for f in inspect.classify_class_attrs(NeuralNetworkClassifier) if (f.name == 'forward' or f.name == '_forward')]\n",
      "    correct = forward_func[0].defining_class == NeuralNetwork\n",
      "\n",
      "\n",
      "--- 5/5 points. NeuralNetworkClassifier forward function correctly inherited from NeuralNetwork.\n",
      "\n",
      "## Testing inheritance ####################################################################\n",
      "\n",
      "    import inspect\n",
      "    str_func = [f for f in inspect.classify_class_attrs(NeuralNetworkClassifier) if (f.name == '__str__')]\n",
      "    correct = str_func[0].defining_class == NeuralNetworkClassifier\n",
      "\n",
      "\n",
      "--- 5/5 points. NeuralNetworkClassifier __str__ function correctly defined in NeuralNetworkClassifier.\n",
      "\n",
      "## Testing constructor ####################################################################\n",
      "\n",
      "    nnet = NeuralNetworkClassifier(2, [], 5)\n",
      "    W_shapes = [W.shape for W in nnet.Ws]\n",
      "\n",
      "\n",
      "--- 10/10 points. W_shapes is correct value of [(3, 5)]\n",
      "\n",
      "## Testing constructor ####################################################################\n",
      "\n",
      "    G_shapes = [G.shape for G in nnet.Grads]\n",
      "\n",
      "\n",
      "--- 10/10 points. G_shapes is correct value of [(3, 5)]\n",
      "\n",
      "## Testing train ####################################################################\n",
      "\n",
      "    np.random.seed(42)\n",
      "    X = np.random.uniform(0, 1, size=(100, 2))\n",
      "    T = (np.abs(X[:, 0:1] - 0.5) > 0.3).astype(int)\n",
      "    nnet = NeuralNetworkClassifier(2, [10, 5], len(np.unique(T)))\n",
      "    nnet.train(X, T, 20, method='scg')\n",
      "\n",
      "    Then check  nnet.get_error_trace()\n",
      "\n",
      "SCG: Epoch 2 ObjectiveF=0.71214\n",
      "SCG: Epoch 4 ObjectiveF=0.71641\n",
      "SCG: Epoch 6 ObjectiveF=0.72075\n",
      "SCG: Epoch 8 ObjectiveF=0.72434\n",
      "SCG: Epoch 10 ObjectiveF=0.74503\n",
      "SCG: Epoch 12 ObjectiveF=0.80855\n",
      "SCG: Epoch 14 ObjectiveF=0.87991\n",
      "SCG: Epoch 16 ObjectiveF=0.89298\n",
      "SCG: Epoch 18 ObjectiveF=0.91259\n",
      "SCG: Epoch 20 ObjectiveF=0.92974\n",
      "\n",
      "--- 10/10 points. Correct values in error_trace\n",
      "\n",
      "## Testing train ####################################################################\n",
      "\n",
      "    np.random.seed(43)\n",
      "    X = np.random.uniform(0, 1, size=(100, 2))\n",
      "    T = (np.abs(X[:, 0:1] - X[:, 1:2]) < 0.5).astype(int)\n",
      "    T[T == 0] = 10\n",
      "    T[T == 1] = 20\n",
      "    # Unique class labels are now 10 and 20!\n",
      "\n",
      "    nnet = NeuralNetworkClassifier(2, [10, 5], 2)\n",
      "    nnet.train(X, T, 200, method='scg')\n",
      "    classes, prob = nnet.use(X)\n",
      "\n",
      "SCG: Epoch 20 ObjectiveF=0.92768\n",
      "SCG: Epoch 40 ObjectiveF=0.98877\n",
      "SCG: Epoch 60 ObjectiveF=0.99984\n",
      "SCG: Epoch 80 ObjectiveF=1.00000\n",
      "SCG: Epoch 100 ObjectiveF=1.00000\n",
      "\n",
      "--- 10/10 points. Correct values in classes\n",
      "\n",
      "--- 10/10 points. Correct values in prob\n",
      "\n",
      "======================================================================\n",
      "C:\\Users\\vishalsh\\Downloads\\A3 Execution Grade is 70 / 70\n",
      "======================================================================\n",
      "\n",
      "\n",
      "__ / 5 points. Correctly downloaded and read the MNIST data.\n",
      "\n",
      "__ / 10 points. Experimented with different values of training parameters.\n",
      "\n",
      "__ / 5 points. Show confusion matrix for best neural network.\n",
      "\n",
      "__ / 10 points. Described results with at least 10 sentences.\n",
      "\n",
      "======================================================================\n",
      "C:\\Users\\vishalsh\\Downloads\\A3 Results and Discussion Grade is ___ / 30\n",
      "======================================================================\n",
      "\n",
      "======================================================================\n",
      "C:\\Users\\vishalsh\\Downloads\\A3 FINAL GRADE is  _  / 100\n",
      "======================================================================\n",
      "\n",
      "Extra Credit: \n",
      "Repeat the above experiments with a different data set. Randonly partition \n",
      "your data into training, validaton and test parts if not already provided.\n",
      "Write in markdown cells descriptions of the data and your results.\n",
      "\n",
      "C:\\Users\\vishalsh\\Downloads\\A3 EXTRA CREDIT is 0 / 1\n"
     ]
    },
    {
     "data": {
      "text/plain": [
       "<Figure size 432x288 with 0 Axes>"
      ]
     },
     "metadata": {},
     "output_type": "display_data"
    }
   ],
   "source": [
    "%run -i A3grader.py"
   ]
  },
  {
   "cell_type": "markdown",
   "metadata": {},
   "source": [
    "# Extra Credit\n",
    "\n",
    "Repeat the above experiments with a different data set.  Randonly partition your data into training, validaton and test parts if not already provided.  Write in markdown cells descriptions of the data and your results."
   ]
  }
 ],
 "metadata": {
  "kernelspec": {
   "display_name": "Python 3",
   "language": "python",
   "name": "python3"
  },
  "language_info": {
   "codemirror_mode": {
    "name": "ipython",
    "version": 3
   },
   "file_extension": ".py",
   "mimetype": "text/x-python",
   "name": "python",
   "nbconvert_exporter": "python",
   "pygments_lexer": "ipython3",
   "version": "3.8.8"
  },
  "toc": {
   "base_numbering": 1,
   "nav_menu": {},
   "number_sections": false,
   "sideBar": true,
   "skip_h1_title": false,
   "title_cell": "Table of Contents",
   "title_sidebar": "Contents",
   "toc_cell": true,
   "toc_position": {},
   "toc_section_display": true,
   "toc_window_display": false
  }
 },
 "nbformat": 4,
 "nbformat_minor": 4
}
