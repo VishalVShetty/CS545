{
 "cells": [
  {
   "cell_type": "markdown",
   "id": "db9e155b",
   "metadata": {},
   "source": [
    "# A5.1 Reinforcement Learning for Marble with Variable Goal"
   ]
  },
  {
   "cell_type": "markdown",
   "id": "7b497876",
   "metadata": {},
   "source": [
    "For this assignment, start with the `19 Reinforcement Learning Modular Framework` notebook.  Recall that this code used reinforcement learning to learn to push a marble towards the goal position of 5 and keep it there.\n",
    "\n",
    "The objective of the following required modification is an agent that has been trained to directly move the marble to a specified goal without any further training. \n",
    "\n",
    "<font color=\"red\">Modify the code</font> to allow any goal position from 1 to 9.  First, rename the `Marble` class to `Marble_Variable_Goal`.  Then, modify the `Marble_Variable_Goal` class so that it includes the goal in the state, allowing the agent to learn to push the marble to any given goal.  Modify the `intial_state` function to set the goal to a random integer from 1 to 9.\n",
    "\n",
    "<font color='red'>Do not modify</font> the `Qnet` class. It should run correctly when applied to your new `Marble_Variable_Goal` class.\n",
    "\n",
    "<font color='red'>Discuss</font> what you modified in the code for this assignment."
   ]
  },
  {
   "cell_type": "markdown",
   "id": "33a4e2f5",
   "metadata": {},
   "source": [
    "<font color='red'>Add some code</font> at the end of the notebook that applies the trained agent to the marble at goals from 1 to 9.  For each goal, start the marble at positions 0 through 10 with zero velocity and the specified goal and applies the trained agent to control the marble for 200 steps.  Calculate the distance of the final state from the goal.  Average this distance over all starting positions for the specified goal and store in a numpy array with one row for each goal and each row containing the goal and the average of distances to goal over all starting positions. Call this numpy array, `distances_to_goal`.  Plot the results of these average distances versus the goal.\n",
    "\n",
    "<font color='red'>Explore different parameter values</font>, including the network hidden layer structure, number of trials, number of steps per trial, learning rate, number of epochs, and final epsilon value to try to get the best results for `distances_to_goal`. Try just three or four different values for each parameter, varying one parameter value at a time. After you have found some parameter values that often work well, set the parameters to these values and run again to produce the graphs from `plot_status` showing the results with these parameters. But, first <font color='red'>modify `plot_status` code</font> for subplots 6 and 9 so that the vertical pink goal region correctly shows the current goal.  Add the current goal to the title of the subplot 9.\n",
    "\n",
    "<font color='red'>Discuss</font> the results, and discuss which parameter values seem to perform well."
   ]
  },
  {
   "cell_type": "markdown",
   "id": "7bd6b814",
   "metadata": {},
   "source": [
    "Here is some code and parameter values that I have found to be successful...usually.  As you know, results vary quite a bit from one run to another. Understand that you will not find parameter values that work perfectly every time.  You are welcome to start with these parameter values and experiment with variations of these."
   ]
  },
  {
   "cell_type": "code",
   "execution_count": null,
   "id": "733c4e38",
   "metadata": {},
   "outputs": [],
   "source": [
    "marble = Marble_Variable_Goal(valid_actions=np.array([-1, 0, 1]))\n",
    "\n",
    "agent = Qnet(marble, hidden_layers=[10, 10],\n",
    "             X_means=[5, 0, 5, 0], X_stds=[2, 2, 2, 0.8],\n",
    "             Q_means=[-2], Q_stds=[1])\n",
    "\n",
    "epsilon_trace, r_trace =  agent.train(n_trials=500, n_steps_per_trial=200, n_epochs=100,\n",
    "                                      method='sgd', learning_rate=0.01, gamma=0.9,\n",
    "                                      epsilon=1, final_epsilon=0.01,\n",
    "                                      trial_callback=plot_status)"
   ]
  },
  {
   "cell_type": "markdown",
   "id": "49ed1b61",
   "metadata": {},
   "source": [
    "# Grading\n",
    "\n",
    "Download [A5grader.tar](https://www.cs.colostate.edu/~anderson/cs545/notebooks/A5grader.tar) and extract `A5grader.py` before running the following cell"
   ]
  },
  {
   "cell_type": "code",
   "execution_count": 47,
   "id": "d1367e1d-a82b-448e-b32e-8431007a28e8",
   "metadata": {
    "ExecuteTime": {
     "end_time": "2021-11-01T15:36:29.411400Z",
     "start_time": "2021-11-01T15:36:25.333723Z"
    }
   },
   "outputs": [
    {
     "name": "stdout",
     "output_type": "stream",
     "text": [
      "\n",
      "======================= Code Execution =======================\n",
      "\n",
      "Extracting python code from notebook named 'Mysolution-A5.ipynb' and storing in notebookcode.py\n"
     ]
    },
    {
     "name": "stderr",
     "output_type": "stream",
     "text": [
      "[NbConvertApp] Converting notebook Mysolution-A5.ipynb to script\n"
     ]
    },
    {
     "name": "stdout",
     "output_type": "stream",
     "text": [
      "Removing all statements that are not function or class defs or import statements.\n",
      "\n",
      "===========================================================================================\n",
      "Testing:\n",
      "\n",
      "    marble = Marble_Variable_Goal((-2, -1, 0, 1, 2))\n",
      "    s = marble.initial_state()\n",
      "\n",
      "\n",
      "\n",
      "---  20 / 20 points. initial_state correctly returns a state with 3 components.\n",
      "\n",
      "===========================================================================================\n",
      "Testing\n",
      "\n",
      "    marble = Marble_Variable_Goal((-2, -1, 0, 1, 2))\n",
      "    s = marble.initial_state()\n",
      "    s = marble.next_state(s, 1)\n",
      "\n",
      "\n",
      "---  20 / 20 points. next_state correctly returns a state with 3 components.\n",
      "\n",
      "===========================================================================================\n",
      "Testing\n",
      "\n",
      "    np.random.seed(42)\n",
      "\n",
      "    marble = Marble_Variable_Goal((-2, -1, 0, 1, 2))\n",
      "    s = marble.initial_state()\n",
      "    s = marble.next_state(s, 2)\n",
      "    goal = s[2]\n",
      "    s2 = marble.initial_state()\n",
      "    goal2 = s2[2]\n",
      "\n",
      "[6.00567237 0.         4.        ]\n",
      "[6.03865689 0.         6.        ]\n",
      "[7.63830764 0.         5.        ]\n",
      "[9.17447849 0.         4.        ]\n",
      "\n",
      "---  20 / 20 points. initial_state correctly assigns the goal randomly..\n",
      "\n",
      "============================================================\n",
      "A5 Execution Grade is 60 / 60\n",
      "============================================================\n",
      "\n",
      "\n",
      "10 / 10 points.  Discuss what you modified in the code.\n",
      "\n",
      "20 / 20 points. Code to test your trained agent by collecting final\n",
      "          distances to goal for series of goals. Print resulting value\n",
      "          of distances_to_goal and show a plot of these distances.\n",
      "\n",
      "10 / 10 points.  Discuss results of your experimentation with parameter values.\n",
      "          How sensitive are results to each parameter?\n",
      "\n",
      "\n",
      "\n",
      "======================================================================\n",
      "A5 Results and Discussion Grade is ___ / 40\n",
      "======================================================================\n",
      "\n",
      "======================================================================\n",
      "A5 FINAL GRADE is  _  / 100\n",
      "======================================================================\n",
      "\n",
      "Extra Credit: \n",
      "\n",
      "1 point: Modify your solution to this assignment by creating and\n",
      "   using a Marble2D_Variable_Goal class that simulates the marble moving in \n",
      "   two-dimensions, on a plane. Some of the current plots will not\n",
      "   work for this case. Just show the ones that are still appropriate.\n",
      "\n",
      "1 point: Experiment with seven valid actions rather than three. How does\n",
      "   this change the behavior of the controlled marble?\n",
      "\n",
      "\n",
      "\n",
      " A5 EXTRA CREDIT is 0 / 1\n"
     ]
    },
    {
     "data": {
      "text/plain": [
       "<Figure size 432x288 with 0 Axes>"
      ]
     },
     "metadata": {},
     "output_type": "display_data"
    }
   ],
   "source": [
    "%run -i A5grader.py"
   ]
  },
  {
   "cell_type": "markdown",
   "id": "04a8b890",
   "metadata": {},
   "source": [
    "## Extra Credit\n",
    "\n",
    "Receive 1 point of extra credit for each of these:\n",
    "\n",
    "   * Modify your solution to this assignment by creating and using a `Marble2D` class that simulates the marble moving in two-dimensions, on a plane.  Some of the current plots will not work for this case. Just show the ones that are still appropriate.\n",
    "   * Experiment with seven valid actions rather than three.  How does this change the behavior of the controlled marble?"
   ]
  }
 ],
 "metadata": {
  "kernelspec": {
   "display_name": "Python 3",
   "language": "python",
   "name": "python3"
  },
  "language_info": {
   "codemirror_mode": {
    "name": "ipython",
    "version": 3
   },
   "file_extension": ".py",
   "mimetype": "text/x-python",
   "name": "python",
   "nbconvert_exporter": "python",
   "pygments_lexer": "ipython3",
   "version": "3.8.8"
  },
  "toc": {
   "base_numbering": 1,
   "nav_menu": {},
   "number_sections": false,
   "sideBar": true,
   "skip_h1_title": false,
   "title_cell": "Table of Contents",
   "title_sidebar": "Contents",
   "toc_cell": false,
   "toc_position": {},
   "toc_section_display": true,
   "toc_window_display": false
  }
 },
 "nbformat": 4,
 "nbformat_minor": 5
}
